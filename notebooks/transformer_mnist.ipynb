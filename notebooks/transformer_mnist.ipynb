{
 "cells": [
  {
   "cell_type": "markdown",
   "metadata": {
    "id": "J0Qjg6vuaHNt"
   },
   "source": [
    "# Transformer model for sequential MNIST"
   ]
  },
  {
   "cell_type": "code",
   "execution_count": 1,
   "metadata": {
    "execution": {
     "iopub.execute_input": "2020-11-02T02:23:45.920611Z",
     "iopub.status.busy": "2020-11-02T02:23:45.919935Z",
     "iopub.status.idle": "2020-11-02T02:23:53.342882Z",
     "shell.execute_reply": "2020-11-02T02:23:53.342273Z"
    },
    "id": "JjJJyJTZYebt"
   },
   "outputs": [],
   "source": [
    "import tensorflow_datasets as tfds\n",
    "import tensorflow as tf\n",
    "\n",
    "import time\n",
    "import numpy as np\n",
    "import matplotlib.pyplot as plt"
   ]
  },
  {
   "cell_type": "markdown",
   "metadata": {
    "id": "fd1NWMxjfsDd",
    "pycharm": {
     "name": "#%% md\n"
    }
   },
   "source": [
    "## Setup input MNIST pipeline"
   ]
  },
  {
   "cell_type": "code",
   "execution_count": 2,
   "metadata": {
    "pycharm": {
     "name": "#%%\n"
    }
   },
   "outputs": [
    {
     "name": "stdout",
     "output_type": "stream",
     "text": [
      "(1, 28, 28, 1)\n",
      "tf.Tensor([7], shape=(1,), dtype=int64)\n"
     ]
    },
    {
     "data": {
      "text/plain": "<Figure size 432x288 with 1 Axes>",
      "image/png": "[encoded data removed]"
     },
     "metadata": {
      "needs_background": "light"
     },
     "output_type": "display_data"
    }
   ],
   "source": [
    "BUFFER_SIZE = 20000\n",
    "BATCH_SIZE = 32\n",
    "MAX_LENGTH = 40\n",
    "EPOCHS = 20\n",
    "\n",
    "train_mnist, test_mnist = tfds.load('mnist', split=['train', 'test'], shuffle_files=True)\n",
    "\n",
    "# Build your input pipeline\n",
    "train_mnist = train_mnist.shuffle(1024).repeat().batch(1)\n",
    "for example in train_mnist.take(1):\n",
    "    image, label = example['image'], example['label']\n",
    "    print(image.shape)\n",
    "    print(label)\n",
    "\n",
    "for i in image:\n",
    "    plt.imshow(tf.squeeze(i))\n",
    "    plt.show()\n",
    "\n",
    "# cache the dataset to memory to get a speedup while reading from it.\n",
    "train_mnist_prefetch = train_mnist.cache()\n",
    "train_mnist_prefetch = train_mnist_prefetch.shuffle(BUFFER_SIZE).padded_batch(BATCH_SIZE)\n",
    "train_mnist_prefetch = train_mnist_prefetch.prefetch(tf.data.experimental.AUTOTUNE)\n"
   ]
  },
  {
   "cell_type": "markdown",
   "metadata": {},
   "source": [
    "### <font color='green'> ======================= TEST =====================</font>"
   ]
  },
  {
   "cell_type": "code",
   "execution_count": 60,
   "metadata": {},
   "outputs": [
    {
     "data": {
      "image/png": "[encoded data removed]",
      "text/plain": [
       "<Figure size 432x288 with 1 Axes>"
      ]
     },
     "metadata": {
      "needs_background": "light"
     },
     "output_type": "display_data"
    },
    {
     "data": {
      "image/png": "[encoded data removed]",
      "text/plain": [
       "<Figure size 432x288 with 1 Axes>"
      ]
     },
     "metadata": {
      "needs_background": "light"
     },
     "output_type": "display_data"
    }
   ],
   "source": [
    "data = next(iter(test_mnist))\n",
    "pooling = tf.keras.layers.MaxPool2D()\n",
    "data_expanded = tf.expand_dims(\n",
    "   data['image'] , 0, name=None\n",
    ")\n",
    "\n",
    "data_expanded_pooled = pooling(data_expanded)\n",
    "plt.imshow(tf.squeeze(data_expanded_pooled))\n",
    "plt.show()\n",
    "\n",
    "plt.imshow(tf.squeeze(data['image']))\n",
    "plt.show()\n"
   ]
  },
  {
   "cell_type": "markdown",
   "metadata": {},
   "source": [
    "### <font color='green'> ============================================</font>"
   ]
  },
  {
   "cell_type": "code",
   "execution_count": 61,
   "metadata": {
    "execution": {
     "iopub.execute_input": "2020-11-02T02:23:53.350740Z",
     "iopub.status.busy": "2020-11-02T02:23:53.349965Z",
     "iopub.status.idle": "2020-11-02T02:24:16.829151Z",
     "shell.execute_reply": "2020-11-02T02:24:16.829598Z"
    },
    "id": "8q9t4FmN96eN"
   },
   "outputs": [],
   "source": [
    "examples, metadata = tfds.load('ted_hrlr_translate/pt_to_en', with_info=True,\n",
    "                               as_supervised=True)\n",
    "train_examples, val_examples = examples['train'], examples['validation']"
   ]
  },
  {
   "cell_type": "code",
   "execution_count": 62,
   "metadata": {},
   "outputs": [
    {
     "data": {
      "text/plain": [
       "(b'e quando melhoramos a procura , tiramos a \\xc3\\xbanica vantagem da impress\\xc3\\xa3o , que \\xc3\\xa9 a serendipidade .',\n",
       " b'and when you improve searchability , you actually take away the one advantage of print , which is serendipity .')"
      ]
     },
     "execution_count": 62,
     "metadata": {},
     "output_type": "execute_result"
    }
   ],
   "source": [
    "pt_batch, en_batch = next(iter(train_examples))\n",
    "pt_batch.numpy(), en_batch.numpy()"
   ]
  },
  {
   "cell_type": "markdown",
   "metadata": {
    "id": "RCEKotqosGfq",
    "pycharm": {
     "name": "#%% md\n"
    }
   },
   "source": [
    "Create a custom subwords tokenizer from the training dataset. "
   ]
  },
  {
   "cell_type": "code",
   "execution_count": 63,
   "metadata": {
    "execution": {
     "iopub.execute_input": "2020-11-02T02:24:16.835394Z",
     "iopub.status.busy": "2020-11-02T02:24:16.834726Z",
     "iopub.status.idle": "2020-11-02T02:26:24.694629Z",
     "shell.execute_reply": "2020-11-02T02:26:24.695136Z"
    },
    "id": "KVBg5Q8tBk5z"
   },
   "outputs": [],
   "source": [
    "tokenizer_en = tfds.deprecated.text.SubwordTextEncoder.build_from_corpus(\n",
    "    (en.numpy() for pt, en in train_examples), target_vocab_size=2**13)\n",
    "\n",
    "tokenizer_pt = tfds.deprecated.text.SubwordTextEncoder.build_from_corpus(\n",
    "    (pt.numpy() for pt, en in train_examples), target_vocab_size=2**13)"
   ]
  },
  {
   "cell_type": "markdown",
   "metadata": {},
   "source": [
    "### <font color='red'> ======================= TEST for Speech =====================</font>"
   ]
  },
  {
   "cell_type": "code",
   "execution_count": 64,
   "metadata": {
    "execution": {
     "iopub.execute_input": "2020-11-02T02:26:24.700665Z",
     "iopub.status.busy": "2020-11-02T02:26:24.700009Z",
     "iopub.status.idle": "2020-11-02T02:26:24.702248Z",
     "shell.execute_reply": "2020-11-02T02:26:24.702679Z"
    },
    "id": "4DYWukNFkGQN"
   },
   "outputs": [
    {
     "name": "stdout",
     "output_type": "stream",
     "text": [
      "Tokenized string is [7915, 1248, 7946, 7194, 13, 2799, 7877]\n",
      "The original string: Transformer is awesome.\n"
     ]
    }
   ],
   "source": [
    "sample_string = 'Transformer is awesome.'\n",
    "\n",
    "tokenized_string = tokenizer_en.encode(sample_string)\n",
    "print ('Tokenized string is {}'.format(tokenized_string))\n",
    "\n",
    "original_string = tokenizer_en.decode(tokenized_string)\n",
    "print ('The original string: {}'.format(original_string))\n",
    "\n",
    "assert original_string == sample_string"
   ]
  },
  {
   "cell_type": "markdown",
   "metadata": {
    "id": "o9KJWJjrsZ4Y"
   },
   "source": [
    "The tokenizer encodes the string by breaking it into subwords if the word is not in its dictionary."
   ]
  },
  {
   "cell_type": "code",
   "execution_count": 65,
   "metadata": {
    "execution": {
     "iopub.execute_input": "2020-11-02T02:26:24.707214Z",
     "iopub.status.busy": "2020-11-02T02:26:24.706529Z",
     "iopub.status.idle": "2020-11-02T02:26:24.708820Z",
     "shell.execute_reply": "2020-11-02T02:26:24.709240Z"
    },
    "id": "bf2ntBxjkqK6"
   },
   "outputs": [
    {
     "name": "stdout",
     "output_type": "stream",
     "text": [
      "7915 ----> T\n",
      "1248 ----> ran\n",
      "7946 ----> s\n",
      "7194 ----> former \n",
      "13 ----> is \n",
      "2799 ----> awesome\n",
      "7877 ----> .\n"
     ]
    }
   ],
   "source": [
    "for ts in tokenized_string:\n",
    "  print ('{} ----> {}'.format(ts, tokenizer_en.decode([ts])))"
   ]
  },
  {
   "cell_type": "markdown",
   "metadata": {},
   "source": [
    "### <font color='red'> ============================================</font>"
   ]
  },
  {
   "cell_type": "code",
   "execution_count": 66,
   "metadata": {
    "execution": {
     "iopub.execute_input": "2020-11-02T02:26:24.712950Z",
     "iopub.status.busy": "2020-11-02T02:26:24.712287Z",
     "iopub.status.idle": "2020-11-02T02:26:24.714005Z",
     "shell.execute_reply": "2020-11-02T02:26:24.714450Z"
    },
    "id": "bcRp7VcQ5m6g"
   },
   "outputs": [],
   "source": [
    "BUFFER_SIZE = 20000\n",
    "BATCH_SIZE = 64"
   ]
  },
  {
   "cell_type": "markdown",
   "metadata": {
    "id": "kGi4PoVakxdc"
   },
   "source": [
    "Add a start and end token to the input and target. "
   ]
  },
  {
   "cell_type": "code",
   "execution_count": 67,
   "metadata": {
    "execution": {
     "iopub.execute_input": "2020-11-02T02:26:24.719434Z",
     "iopub.status.busy": "2020-11-02T02:26:24.718759Z",
     "iopub.status.idle": "2020-11-02T02:26:24.720965Z",
     "shell.execute_reply": "2020-11-02T02:26:24.720470Z"
    },
    "id": "UZwnPr4R055s"
   },
   "outputs": [],
   "source": [
    "def encode(lang1, lang2):\n",
    "  lang1 = [tokenizer_pt.vocab_size] + tokenizer_pt.encode(\n",
    "      lang1.numpy()) + [tokenizer_pt.vocab_size+1]\n",
    "\n",
    "  lang2 = [tokenizer_en.vocab_size] + tokenizer_en.encode(\n",
    "      lang2.numpy()) + [tokenizer_en.vocab_size+1]\n",
    "  \n",
    "  return lang1, lang2"
   ]
  },
  {
   "cell_type": "markdown",
   "metadata": {
    "id": "Tx1sFbR-9fRs",
    "pycharm": {
     "name": "#%% md\n"
    }
   },
   "source": [
    "You want to use `Dataset.map` to apply this function to each element of the dataset.  `Dataset.map` runs in graph mode.\n",
    "\n",
    "* Graph tensors do not have a value. \n",
    "* In graph mode you can only use TensorFlow Ops and functions. \n",
    "\n",
    "So you can't `.map` this function directly: You need to wrap it in a `tf.py_function`. The `tf.py_function` will pass regular tensors (with a value and a `.numpy()` method to access it), to the wrapped python function."
   ]
  },
  {
   "cell_type": "code",
   "execution_count": 68,
   "metadata": {
    "execution": {
     "iopub.execute_input": "2020-11-02T02:26:24.725590Z",
     "iopub.status.busy": "2020-11-02T02:26:24.724939Z",
     "iopub.status.idle": "2020-11-02T02:26:24.726798Z",
     "shell.execute_reply": "2020-11-02T02:26:24.727223Z"
    },
    "id": "Mah1cS-P70Iz",
    "pycharm": {
     "name": "#%%\n"
    }
   },
   "outputs": [],
   "source": [
    "def tf_encode(pt, en):\n",
    "  result_pt, result_en = tf.py_function(encode, [pt, en], [tf.int64, tf.int64])\n",
    "  result_pt.set_shape([None])\n",
    "  result_en.set_shape([None])\n",
    "\n",
    "  return result_pt, result_en"
   ]
  },
  {
   "cell_type": "markdown",
   "metadata": {
    "id": "6JrGp5Gek6Ql",
    "pycharm": {
     "name": "#%% md\n"
    }
   },
   "source": [
    "Note: To keep this example small and relatively fast, drop examples with a length of over 40 tokens."
   ]
  },
  {
   "cell_type": "code",
   "execution_count": 69,
   "metadata": {
    "execution": {
     "iopub.execute_input": "2020-11-02T02:26:24.731110Z",
     "iopub.status.busy": "2020-11-02T02:26:24.730465Z",
     "iopub.status.idle": "2020-11-02T02:26:24.732249Z",
     "shell.execute_reply": "2020-11-02T02:26:24.732655Z"
    },
    "id": "2QEgbjntk6Yf",
    "pycharm": {
     "name": "#%%\n"
    }
   },
   "outputs": [],
   "source": [
    "MAX_LENGTH = 40"
   ]
  },
  {
   "cell_type": "code",
   "execution_count": 70,
   "metadata": {
    "execution": {
     "iopub.execute_input": "2020-11-02T02:26:24.736845Z",
     "iopub.status.busy": "2020-11-02T02:26:24.736227Z",
     "iopub.status.idle": "2020-11-02T02:26:24.737975Z",
     "shell.execute_reply": "2020-11-02T02:26:24.738396Z"
    },
    "id": "c081xPGv1CPI"
   },
   "outputs": [],
   "source": [
    "def filter_max_length(x, y, max_length=MAX_LENGTH):\n",
    "  return tf.logical_and(tf.size(x) <= max_length,\n",
    "                        tf.size(y) <= max_length)"
   ]
  },
  {
   "cell_type": "code",
   "execution_count": 71,
   "metadata": {
    "execution": {
     "iopub.execute_input": "2020-11-02T02:26:24.743511Z",
     "iopub.status.busy": "2020-11-02T02:26:24.742805Z",
     "iopub.status.idle": "2020-11-02T02:26:24.863582Z",
     "shell.execute_reply": "2020-11-02T02:26:24.862990Z"
    },
    "id": "9mk9AZdZ5bcS",
    "pycharm": {
     "name": "#%%\n"
    }
   },
   "outputs": [],
   "source": [
    "train_dataset = train_examples.map(tf_encode)\n",
    "train_dataset = train_dataset.filter(filter_max_length)\n",
    "# cache the dataset to memory to get a speedup while reading from it.\n",
    "train_dataset = train_dataset.cache()\n",
    "train_dataset = train_dataset.shuffle(BUFFER_SIZE).padded_batch(BATCH_SIZE)\n",
    "train_dataset = train_dataset.prefetch(tf.data.experimental.AUTOTUNE)\n",
    "\n",
    "\n",
    "val_dataset = val_examples.map(tf_encode)\n",
    "val_dataset = val_dataset.filter(filter_max_length).padded_batch(BATCH_SIZE)"
   ]
  },
  {
   "cell_type": "code",
   "execution_count": 72,
   "metadata": {
    "execution": {
     "iopub.execute_input": "2020-11-02T02:26:24.867883Z",
     "iopub.status.busy": "2020-11-02T02:26:24.867130Z",
     "iopub.status.idle": "2020-11-02T02:26:24.945263Z",
     "shell.execute_reply": "2020-11-02T02:26:24.945694Z"
    },
    "id": "_fXvfYVfQr2n"
   },
   "outputs": [
    {
     "data": {
      "text/plain": [
       "(<tf.Tensor: shape=(64, 38), dtype=int64, numpy=\n",
       " array([[8214,  342, 3032, ...,    0,    0,    0],\n",
       "        [8214,   95,  198, ...,    0,    0,    0],\n",
       "        [8214, 4479, 7990, ...,    0,    0,    0],\n",
       "        ...,\n",
       "        [8214,  584,   12, ...,    0,    0,    0],\n",
       "        [8214,   59, 1548, ...,    0,    0,    0],\n",
       "        [8214,  118,   34, ...,    0,    0,    0]])>,\n",
       " <tf.Tensor: shape=(64, 40), dtype=int64, numpy=\n",
       " array([[8087,   98,   25, ...,    0,    0,    0],\n",
       "        [8087,   12,   20, ...,    0,    0,    0],\n",
       "        [8087,   12, 5453, ...,    0,    0,    0],\n",
       "        ...,\n",
       "        [8087,   18, 2059, ...,    0,    0,    0],\n",
       "        [8087,   16, 1436, ...,    0,    0,    0],\n",
       "        [8087,   15,   57, ...,    0,    0,    0]])>)"
      ]
     },
     "execution_count": 72,
     "metadata": {},
     "output_type": "execute_result"
    }
   ],
   "source": [
    "pt_batch, en_batch = next(iter(val_dataset))\n",
    "pt_batch, en_batch"
   ]
  },
  {
   "cell_type": "markdown",
   "metadata": {
    "id": "nBQuibYA4n0n",
    "pycharm": {
     "name": "#%% md\n"
    }
   },
   "source": [
    "## Positional encoding\n",
    "\n",
    "Since this model doesn't contain any recurrence or convolution, positional encoding is added to give the model some information about the relative position of the words in the sentence. \n",
    "\n",
    "The positional encoding vector is added to the embedding vector. Embeddings represent a token in a d-dimensional space where tokens with similar meaning will be closer to each other. But the embeddings do not encode the relative position of words in a sentence. So after adding the positional encoding, words will be closer to each other based on the *similarity of their meaning and their position in the sentence*, in the d-dimensional space.\n",
    "\n",
    "See the notebook on [positional encoding](https://github.com/tensorflow/examples/blob/master/community/en/position_encoding.ipynb) to learn more about it. The formula for calculating the positional encoding is as follows:\n",
    "\n",
    "$$\\Large{PE_{(pos, 2i)} = sin(pos / 10000^{2i / d_{model}})} $$\n",
    "$$\\Large{PE_{(pos, 2i+1)} = cos(pos / 10000^{2i / d_{model}})} $$"
   ]
  },
  {
   "cell_type": "code",
   "execution_count": 73,
   "metadata": {
    "execution": {
     "iopub.execute_input": "2020-11-02T02:26:24.950742Z",
     "iopub.status.busy": "2020-11-02T02:26:24.949856Z",
     "iopub.status.idle": "2020-11-02T02:26:24.951933Z",
     "shell.execute_reply": "2020-11-02T02:26:24.952383Z"
    },
    "id": "WhIOZjMNKujn"
   },
   "outputs": [],
   "source": [
    "def get_angles(pos, i, d_model):\n",
    "  angle_rates = 1 / np.power(10000, (2 * (i//2)) / np.float32(d_model))\n",
    "  return pos * angle_rates"
   ]
  },
  {
   "cell_type": "code",
   "execution_count": 74,
   "metadata": {
    "execution": {
     "iopub.execute_input": "2020-11-02T02:26:24.958548Z",
     "iopub.status.busy": "2020-11-02T02:26:24.957602Z",
     "iopub.status.idle": "2020-11-02T02:26:24.960152Z",
     "shell.execute_reply": "2020-11-02T02:26:24.959567Z"
    },
    "id": "1Rz82wEs5biZ"
   },
   "outputs": [],
   "source": [
    "def positional_encoding(position, d_model):\n",
    "  angle_rads = get_angles(np.arange(position)[:, np.newaxis],\n",
    "                          np.arange(d_model)[np.newaxis, :],\n",
    "                          d_model)\n",
    "  \n",
    "  # apply sin to even indices in the array; 2i\n",
    "  angle_rads[:, 0::2] = np.sin(angle_rads[:, 0::2])\n",
    "  \n",
    "  # apply cos to odd indices in the array; 2i+1\n",
    "  angle_rads[:, 1::2] = np.cos(angle_rads[:, 1::2])\n",
    "    \n",
    "  pos_encoding = angle_rads[np.newaxis, ...]\n",
    "    \n",
    "  return tf.cast(pos_encoding, dtype=tf.float32)"
   ]
  },
  {
   "cell_type": "code",
   "execution_count": 75,
   "metadata": {
    "execution": {
     "iopub.execute_input": "2020-11-02T02:26:24.964937Z",
     "iopub.status.busy": "2020-11-02T02:26:24.964299Z",
     "iopub.status.idle": "2020-11-02T02:26:25.185963Z",
     "shell.execute_reply": "2020-11-02T02:26:25.186470Z"
    },
    "id": "1kLCla68EloE",
    "pycharm": {
     "name": "#%%\n"
    }
   },
   "outputs": [
    {
     "name": "stdout",
     "output_type": "stream",
     "text": [
      "(1, 50, 512)\n"
     ]
    },
    {
     "data": {
      "image/png": "[encoded data removed]",
      "text/plain": [
       "<Figure size 432x288 with 2 Axes>"
      ]
     },
     "metadata": {
      "needs_background": "light"
     },
     "output_type": "display_data"
    }
   ],
   "source": [
    "pos_encoding = positional_encoding(50, 512)\n",
    "print (pos_encoding.shape)\n",
    "\n",
    "plt.pcolormesh(pos_encoding[0], cmap='RdBu')\n",
    "plt.xlabel('Depth')\n",
    "plt.xlim((0, 512))\n",
    "plt.ylabel('Position')\n",
    "plt.colorbar()\n",
    "plt.show()"
   ]
  },
  {
   "cell_type": "markdown",
   "metadata": {
    "id": "a_b4ou4TYqUN",
    "pycharm": {
     "name": "#%% md\n"
    }
   },
   "source": [
    "## Masking"
   ]
  },
  {
   "cell_type": "markdown",
   "metadata": {
    "id": "s42Uydjkv0hF",
    "pycharm": {
     "name": "#%% md\n"
    }
   },
   "source": [
    "Mask all the pad tokens in the batch of sequence. It ensures that the model does not treat padding as the input. The mask indicates where pad value `0` is present: it outputs a `1` at those locations, and a `0` otherwise."
   ]
  },
  {
   "cell_type": "code",
   "execution_count": 76,
   "metadata": {
    "execution": {
     "iopub.execute_input": "2020-11-02T02:26:25.191500Z",
     "iopub.status.busy": "2020-11-02T02:26:25.190865Z",
     "iopub.status.idle": "2020-11-02T02:26:25.192659Z",
     "shell.execute_reply": "2020-11-02T02:26:25.193052Z"
    },
    "id": "U2i8-e1s8ti9"
   },
   "outputs": [],
   "source": [
    "def create_padding_mask(seq):\n",
    "  seq = tf.cast(tf.math.equal(seq, 0), tf.float32)\n",
    "  \n",
    "  # add extra dimensions to add the padding\n",
    "  # to the attention logits.\n",
    "  return seq[:, tf.newaxis, tf.newaxis, :]  # (batch_size, 1, 1, seq_len)"
   ]
  },
  {
   "cell_type": "code",
   "execution_count": 77,
   "metadata": {
    "execution": {
     "iopub.execute_input": "2020-11-02T02:26:25.197206Z",
     "iopub.status.busy": "2020-11-02T02:26:25.196569Z",
     "iopub.status.idle": "2020-11-02T02:26:25.201194Z",
     "shell.execute_reply": "2020-11-02T02:26:25.201613Z"
    },
    "id": "A7BYeBCNvi7n",
    "pycharm": {
     "name": "#%%\n"
    }
   },
   "outputs": [
    {
     "data": {
      "text/plain": [
       "<tf.Tensor: shape=(3, 1, 1, 5), dtype=float32, numpy=\n",
       "array([[[[0., 0., 1., 1., 0.]]],\n",
       "\n",
       "\n",
       "       [[[0., 0., 0., 1., 1.]]],\n",
       "\n",
       "\n",
       "       [[[1., 1., 1., 0., 0.]]]], dtype=float32)>"
      ]
     },
     "execution_count": 77,
     "metadata": {},
     "output_type": "execute_result"
    }
   ],
   "source": [
    "x = tf.constant([[7, 6, 0, 0, 1], [1, 2, 3, 0, 0], [0, 0, 0, 4, 5]])\n",
    "create_padding_mask(x)"
   ]
  },
  {
   "cell_type": "markdown",
   "metadata": {
    "id": "Z0hzukDBgVom"
   },
   "source": [
    "The look-ahead mask is used to mask the future tokens in a sequence. In other words, the mask indicates which entries should not be used.\n",
    "\n",
    "This means that to predict the third word, only the first and second word will be used. Similarly to predict the fourth word, only the first, second and the third word will be used and so on."
   ]
  },
  {
   "cell_type": "code",
   "execution_count": 78,
   "metadata": {
    "execution": {
     "iopub.execute_input": "2020-11-02T02:26:25.206009Z",
     "iopub.status.busy": "2020-11-02T02:26:25.205344Z",
     "iopub.status.idle": "2020-11-02T02:26:25.207194Z",
     "shell.execute_reply": "2020-11-02T02:26:25.207586Z"
    },
    "id": "dVxS8OPI9uI0"
   },
   "outputs": [],
   "source": [
    "def create_look_ahead_mask(size):\n",
    "  mask = 1 - tf.linalg.band_part(tf.ones((size, size)), -1, 0)\n",
    "  return mask  # (seq_len, seq_len)"
   ]
  },
  {
   "cell_type": "code",
   "execution_count": 79,
   "metadata": {
    "execution": {
     "iopub.execute_input": "2020-11-02T02:26:25.211387Z",
     "iopub.status.busy": "2020-11-02T02:26:25.210780Z",
     "iopub.status.idle": "2020-11-02T02:26:25.214859Z",
     "shell.execute_reply": "2020-11-02T02:26:25.215313Z"
    },
    "id": "yxKGuXxaBeeE"
   },
   "outputs": [
    {
     "data": {
      "text/plain": [
       "<tf.Tensor: shape=(3, 3), dtype=float32, numpy=\n",
       "array([[0., 1., 1.],\n",
       "       [0., 0., 1.],\n",
       "       [0., 0., 0.]], dtype=float32)>"
      ]
     },
     "execution_count": 79,
     "metadata": {},
     "output_type": "execute_result"
    }
   ],
   "source": [
    "x = tf.random.uniform((1, 3))\n",
    "temp = create_look_ahead_mask(x.shape[1])\n",
    "temp"
   ]
  },
  {
   "cell_type": "markdown",
   "metadata": {
    "id": "xluDl5cXYy4y"
   },
   "source": [
    "## Scaled dot product attention"
   ]
  },
  {
   "cell_type": "markdown",
   "metadata": {
    "id": "vsxEE_-Wa1gF",
    "pycharm": {
     "name": "#%% md\n"
    }
   },
   "source": [
    "<img src=\"https://www.tensorflow.org/images/tutorials/transformer/scaled_attention.png\" width=\"500\" alt=\"scaled_dot_product_attention\">\n",
    "\n",
    "The attention function used by the transformer takes three inputs: Q (query), K (key), V (value). The equation used to calculate the attention weights is:\n",
    "\n",
    "$$\\Large{Attention(Q, K, V) = softmax_k(\\frac{QK^T}{\\sqrt{d_k}}) V} $$\n",
    "\n",
    "The dot-product attention is scaled by a factor of square root of the depth. This is done because for large values of depth, the dot product grows large in magnitude pushing the softmax function where it has small gradients resulting in a very hard softmax. \n",
    "\n",
    "For example, consider that `Q` and `K` have a mean of 0 and variance of 1. Their matrix multiplication will have a mean of 0 and variance of `dk`. Hence, *square root of `dk`* is used for scaling (and not any other number) because the matmul of `Q` and `K` should have a mean of 0 and variance of 1, and you get a gentler softmax.\n",
    "\n",
    "The mask is multiplied with -1e9 (close to negative infinity). This is done because the mask is summed with the scaled matrix multiplication of Q and K and is applied immediately before a softmax. The goal is to zero out these cells, and large negative inputs to softmax are near zero in the output."
   ]
  },
  {
   "cell_type": "code",
   "execution_count": 80,
   "metadata": {
    "execution": {
     "iopub.execute_input": "2020-11-02T02:26:25.222000Z",
     "iopub.status.busy": "2020-11-02T02:26:25.221312Z",
     "iopub.status.idle": "2020-11-02T02:26:25.223205Z",
     "shell.execute_reply": "2020-11-02T02:26:25.223597Z"
    },
    "id": "LazzUq3bJ5SH"
   },
   "outputs": [],
   "source": [
    "def scaled_dot_product_attention(q, k, v, mask):\n",
    "  \"\"\"Calculate the attention weights.\n",
    "  q, k, v must have matching leading dimensions.\n",
    "  k, v must have matching penultimate dimension, i.e.: seq_len_k = seq_len_v.\n",
    "  The mask has different shapes depending on its type(padding or look ahead) \n",
    "  but it must be broadcastable for addition.\n",
    "  \n",
    "  Args:\n",
    "    q: query shape == (..., seq_len_q, depth)\n",
    "    k: key shape == (..., seq_len_k, depth)\n",
    "    v: value shape == (..., seq_len_v, depth_v)\n",
    "    mask: Float tensor with shape broadcastable \n",
    "          to (..., seq_len_q, seq_len_k). Defaults to None.\n",
    "    \n",
    "  Returns:\n",
    "    output, attention_weights\n",
    "  \"\"\"\n",
    "\n",
    "  matmul_qk = tf.matmul(q, k, transpose_b=True)  # (..., seq_len_q, seq_len_k)\n",
    "  \n",
    "  # scale matmul_qk\n",
    "  dk = tf.cast(tf.shape(k)[-1], tf.float32)\n",
    "  scaled_attention_logits = matmul_qk / tf.math.sqrt(dk)\n",
    "\n",
    "  # add the mask to the scaled tensor.\n",
    "  if mask is not None:\n",
    "    scaled_attention_logits += (mask * -1e9)  \n",
    "\n",
    "  # softmax is normalized on the last axis (seq_len_k) so that the scores\n",
    "  # add up to 1.\n",
    "  attention_weights = tf.nn.softmax(scaled_attention_logits, axis=-1)  # (..., seq_len_q, seq_len_k)\n",
    "\n",
    "  output = tf.matmul(attention_weights, v)  # (..., seq_len_q, depth_v)\n",
    "\n",
    "  return output, attention_weights"
   ]
  },
  {
   "cell_type": "markdown",
   "metadata": {
    "id": "FiqETnhCkoXh"
   },
   "source": [
    "As the softmax normalization is done on K, its values decide the amount of importance given to Q.\n",
    "\n",
    "The output represents the multiplication of the attention weights and the V (value) vector. This ensures that the words you want to focus on are kept as-is and the irrelevant words are flushed out."
   ]
  },
  {
   "cell_type": "code",
   "execution_count": 81,
   "metadata": {
    "execution": {
     "iopub.execute_input": "2020-11-02T02:26:25.228177Z",
     "iopub.status.busy": "2020-11-02T02:26:25.227454Z",
     "iopub.status.idle": "2020-11-02T02:26:25.229676Z",
     "shell.execute_reply": "2020-11-02T02:26:25.229174Z"
    },
    "id": "n90YjClyInFy",
    "pycharm": {
     "name": "#%%\n"
    }
   },
   "outputs": [],
   "source": [
    "def print_out(q, k, v):\n",
    "  temp_out, temp_attn = scaled_dot_product_attention(\n",
    "      q, k, v, None)\n",
    "  print ('Attention weights are:')\n",
    "  print (temp_attn)\n",
    "  print ('Output is:')\n",
    "  print (temp_out)"
   ]
  },
  {
   "cell_type": "code",
   "execution_count": 82,
   "metadata": {
    "execution": {
     "iopub.execute_input": "2020-11-02T02:26:25.235475Z",
     "iopub.status.busy": "2020-11-02T02:26:25.234773Z",
     "iopub.status.idle": "2020-11-02T02:26:25.238644Z",
     "shell.execute_reply": "2020-11-02T02:26:25.239081Z"
    },
    "id": "yAzUAf2DPlNt"
   },
   "outputs": [
    {
     "name": "stdout",
     "output_type": "stream",
     "text": [
      "Attention weights are:\n",
      "tf.Tensor([[0. 1. 0. 0.]], shape=(1, 4), dtype=float32)\n",
      "Output is:\n",
      "tf.Tensor([[10.  0.]], shape=(1, 2), dtype=float32)\n"
     ]
    }
   ],
   "source": [
    "np.set_printoptions(suppress=True)\n",
    "\n",
    "temp_k = tf.constant([[10,0,0],\n",
    "                      [0,10,0],\n",
    "                      [0,0,10],\n",
    "                      [0,0,10]], dtype=tf.float32)  # (4, 3)\n",
    "\n",
    "temp_v = tf.constant([[   1,0],\n",
    "                      [  10,0],\n",
    "                      [ 100,5],\n",
    "                      [1000,6]], dtype=tf.float32)  # (4, 2)\n",
    "\n",
    "# This `query` aligns with the second `key`,\n",
    "# so the second `value` is returned.\n",
    "temp_q = tf.constant([[0, 10, 0]], dtype=tf.float32)  # (1, 3)\n",
    "print_out(temp_q, temp_k, temp_v)"
   ]
  },
  {
   "cell_type": "code",
   "execution_count": 83,
   "metadata": {
    "execution": {
     "iopub.execute_input": "2020-11-02T02:26:25.243123Z",
     "iopub.status.busy": "2020-11-02T02:26:25.242423Z",
     "iopub.status.idle": "2020-11-02T02:26:25.246814Z",
     "shell.execute_reply": "2020-11-02T02:26:25.246309Z"
    },
    "id": "zg6k-fGhgXra",
    "pycharm": {
     "name": "#%%\n"
    }
   },
   "outputs": [
    {
     "name": "stdout",
     "output_type": "stream",
     "text": [
      "Attention weights are:\n",
      "tf.Tensor([[0.  0.  0.5 0.5]], shape=(1, 4), dtype=float32)\n",
      "Output is:\n",
      "tf.Tensor([[550.    5.5]], shape=(1, 2), dtype=float32)\n"
     ]
    }
   ],
   "source": [
    "# This query aligns with a repeated key (third and fourth), \n",
    "# so all associated values get averaged.\n",
    "temp_q = tf.constant([[0, 0, 10]], dtype=tf.float32)  # (1, 3)\n",
    "print_out(temp_q, temp_k, temp_v)"
   ]
  },
  {
   "cell_type": "code",
   "execution_count": 84,
   "metadata": {
    "execution": {
     "iopub.execute_input": "2020-11-02T02:26:25.250955Z",
     "iopub.status.busy": "2020-11-02T02:26:25.250254Z",
     "iopub.status.idle": "2020-11-02T02:26:25.253722Z",
     "shell.execute_reply": "2020-11-02T02:26:25.254132Z"
    },
    "id": "UAq3YOzUgXhb"
   },
   "outputs": [
    {
     "name": "stdout",
     "output_type": "stream",
     "text": [
      "Attention weights are:\n",
      "tf.Tensor([[0.5 0.5 0.  0. ]], shape=(1, 4), dtype=float32)\n",
      "Output is:\n",
      "tf.Tensor([[5.5 0. ]], shape=(1, 2), dtype=float32)\n"
     ]
    }
   ],
   "source": [
    "# This query aligns equally with the first and second key, \n",
    "# so their values get averaged.\n",
    "temp_q = tf.constant([[10, 10, 0]], dtype=tf.float32)  # (1, 3)\n",
    "print_out(temp_q, temp_k, temp_v)"
   ]
  },
  {
   "cell_type": "markdown",
   "metadata": {
    "id": "aOz-4_XIhaTP",
    "pycharm": {
     "name": "#%% md\n"
    }
   },
   "source": [
    "Pass all the queries together."
   ]
  },
  {
   "cell_type": "code",
   "execution_count": 85,
   "metadata": {
    "execution": {
     "iopub.execute_input": "2020-11-02T02:26:25.258596Z",
     "iopub.status.busy": "2020-11-02T02:26:25.257867Z",
     "iopub.status.idle": "2020-11-02T02:26:25.307528Z",
     "shell.execute_reply": "2020-11-02T02:26:25.307944Z"
    },
    "id": "6dlU8Tm-hYrF"
   },
   "outputs": [
    {
     "name": "stdout",
     "output_type": "stream",
     "text": [
      "Attention weights are:\n",
      "tf.Tensor(\n",
      "[[0.  0.  0.5 0.5]\n",
      " [0.  1.  0.  0. ]\n",
      " [0.5 0.5 0.  0. ]], shape=(3, 4), dtype=float32)\n",
      "Output is:\n",
      "tf.Tensor(\n",
      "[[550.    5.5]\n",
      " [ 10.    0. ]\n",
      " [  5.5   0. ]], shape=(3, 2), dtype=float32)\n"
     ]
    }
   ],
   "source": [
    "temp_q = tf.constant([[0, 0, 10], [0, 10, 0], [10, 10, 0]], dtype=tf.float32)  # (3, 3)\n",
    "print_out(temp_q, temp_k, temp_v)"
   ]
  },
  {
   "cell_type": "markdown",
   "metadata": {
    "id": "kmzGPEy64qmA",
    "pycharm": {
     "name": "#%% md\n"
    }
   },
   "source": [
    "## Multi-head attention"
   ]
  },
  {
   "cell_type": "markdown",
   "metadata": {
    "id": "fz5BMC8Kaoqo"
   },
   "source": [
    "<img src=\"https://www.tensorflow.org/images/tutorials/transformer/multi_head_attention.png\" width=\"500\" alt=\"multi-head attention\">\n",
    "\n",
    "\n",
    "Multi-head attention consists of four parts:\n",
    "*    Linear layers and split into heads.\n",
    "*    Scaled dot-product attention.\n",
    "*    Concatenation of heads.\n",
    "*    Final linear layer."
   ]
  },
  {
   "cell_type": "markdown",
   "metadata": {
    "id": "JPmbr6F1C-v_",
    "pycharm": {
     "name": "#%% md\n"
    }
   },
   "source": [
    "Each multi-head attention block gets three inputs; Q (query), K (key), V (value). These are put through linear (Dense) layers and split up into multiple heads. \n",
    "\n",
    "The `scaled_dot_product_attention` defined above is applied to each head (broadcasted for efficiency). An appropriate mask must be used in the attention step.  The attention output for each head is then concatenated (using `tf.transpose`, and `tf.reshape`) and put through a final `Dense` layer.\n",
    "\n",
    "Instead of one single attention head, Q, K, and V are split into multiple heads because it allows the model to jointly attend to information at different positions from different representational spaces. After the split each head has a reduced dimensionality, so the total computation cost is the same as a single head attention with full dimensionality."
   ]
  },
  {
   "cell_type": "code",
   "execution_count": 86,
   "metadata": {
    "execution": {
     "iopub.execute_input": "2020-11-02T02:26:25.319284Z",
     "iopub.status.busy": "2020-11-02T02:26:25.318566Z",
     "iopub.status.idle": "2020-11-02T02:26:25.320448Z",
     "shell.execute_reply": "2020-11-02T02:26:25.320855Z"
    },
    "id": "BSV3PPKsYecw",
    "pycharm": {
     "name": "#%%\n"
    }
   },
   "outputs": [],
   "source": [
    "class MultiHeadAttention(tf.keras.layers.Layer):\n",
    "  def __init__(self, d_model, num_heads):\n",
    "    super(MultiHeadAttention, self).__init__()\n",
    "    self.num_heads = num_heads\n",
    "    self.d_model = d_model\n",
    "    \n",
    "    assert d_model % self.num_heads == 0\n",
    "    \n",
    "    self.depth = d_model // self.num_heads\n",
    "    \n",
    "    self.wq = tf.keras.layers.Dense(d_model)\n",
    "    self.wk = tf.keras.layers.Dense(d_model)\n",
    "    self.wv = tf.keras.layers.Dense(d_model)\n",
    "    \n",
    "    self.dense = tf.keras.layers.Dense(d_model)\n",
    "        \n",
    "  def split_heads(self, x, batch_size):\n",
    "    \"\"\"Split the last dimension into (num_heads, depth).\n",
    "    Transpose the result such that the shape is (batch_size, num_heads, seq_len, depth)\n",
    "    \"\"\"\n",
    "    x = tf.reshape(x, (batch_size, -1, self.num_heads, self.depth))\n",
    "    return tf.transpose(x, perm=[0, 2, 1, 3])\n",
    "    \n",
    "  def call(self, v, k, q, mask):\n",
    "    batch_size = tf.shape(q)[0]\n",
    "    \n",
    "    q = self.wq(q)  # (batch_size, seq_len, d_model)\n",
    "    k = self.wk(k)  # (batch_size, seq_len, d_model)\n",
    "    v = self.wv(v)  # (batch_size, seq_len, d_model)\n",
    "    \n",
    "    q = self.split_heads(q, batch_size)  # (batch_size, num_heads, seq_len_q, depth)\n",
    "    k = self.split_heads(k, batch_size)  # (batch_size, num_heads, seq_len_k, depth)\n",
    "    v = self.split_heads(v, batch_size)  # (batch_size, num_heads, seq_len_v, depth)\n",
    "    \n",
    "    # scaled_attention.shape == (batch_size, num_heads, seq_len_q, depth)\n",
    "    # attention_weights.shape == (batch_size, num_heads, seq_len_q, seq_len_k)\n",
    "    scaled_attention, attention_weights = scaled_dot_product_attention(\n",
    "        q, k, v, mask)\n",
    "    \n",
    "    scaled_attention = tf.transpose(scaled_attention, perm=[0, 2, 1, 3])  # (batch_size, seq_len_q, num_heads, depth)\n",
    "\n",
    "    concat_attention = tf.reshape(scaled_attention, \n",
    "                                  (batch_size, -1, self.d_model))  # (batch_size, seq_len_q, d_model)\n",
    "\n",
    "    output = self.dense(concat_attention)  # (batch_size, seq_len_q, d_model)\n",
    "        \n",
    "    return output, attention_weights"
   ]
  },
  {
   "cell_type": "markdown",
   "metadata": {
    "id": "0D8FJue5lDyZ"
   },
   "source": [
    "Create a `MultiHeadAttention` layer to try out. At each location in the sequence, `y`, the `MultiHeadAttention` runs all 8 attention heads across all other locations in the sequence, returning a new vector of the same length at each location."
   ]
  },
  {
   "cell_type": "code",
   "execution_count": 87,
   "metadata": {
    "execution": {
     "iopub.execute_input": "2020-11-02T02:26:25.326077Z",
     "iopub.status.busy": "2020-11-02T02:26:25.325340Z",
     "iopub.status.idle": "2020-11-02T02:26:25.359646Z",
     "shell.execute_reply": "2020-11-02T02:26:25.360072Z"
    },
    "id": "Hu94p-_-2_BX",
    "pycharm": {
     "name": "#%%\n"
    }
   },
   "outputs": [
    {
     "data": {
      "text/plain": [
       "(TensorShape([1, 60, 512]), TensorShape([1, 8, 60, 60]))"
      ]
     },
     "execution_count": 87,
     "metadata": {},
     "output_type": "execute_result"
    }
   ],
   "source": [
    "temp_mha = MultiHeadAttention(d_model=512, num_heads=8)\n",
    "y = tf.random.uniform((1, 60, 512))  # (batch_size, encoder_sequence, d_model)\n",
    "out, attn = temp_mha(y, k=y, q=y, mask=None)\n",
    "out.shape, attn.shape"
   ]
  },
  {
   "cell_type": "markdown",
   "metadata": {
    "id": "RdDqGayx67vv",
    "pycharm": {
     "name": "#%% md\n"
    }
   },
   "source": [
    "## Point wise feed forward network"
   ]
  },
  {
   "cell_type": "markdown",
   "metadata": {
    "id": "gBqzJXGfHK3X"
   },
   "source": [
    "Point wise feed forward network consists of two fully-connected layers with a ReLU activation in between."
   ]
  },
  {
   "cell_type": "code",
   "execution_count": 88,
   "metadata": {
    "execution": {
     "iopub.execute_input": "2020-11-02T02:26:25.364864Z",
     "iopub.status.busy": "2020-11-02T02:26:25.364204Z",
     "iopub.status.idle": "2020-11-02T02:26:25.366219Z",
     "shell.execute_reply": "2020-11-02T02:26:25.366676Z"
    },
    "id": "ET7xLt0yCT6Z"
   },
   "outputs": [],
   "source": [
    "def point_wise_feed_forward_network(d_model, dff):\n",
    "  return tf.keras.Sequential([\n",
    "      tf.keras.layers.Dense(dff, activation='relu'),  # (batch_size, seq_len, dff)\n",
    "      tf.keras.layers.Dense(d_model)  # (batch_size, seq_len, d_model)\n",
    "  ])"
   ]
  },
  {
   "cell_type": "code",
   "execution_count": 89,
   "metadata": {
    "execution": {
     "iopub.execute_input": "2020-11-02T02:26:25.373368Z",
     "iopub.status.busy": "2020-11-02T02:26:25.372687Z",
     "iopub.status.idle": "2020-11-02T02:26:25.437666Z",
     "shell.execute_reply": "2020-11-02T02:26:25.437066Z"
    },
    "id": "mytb1lPyOHLB",
    "pycharm": {
     "name": "#%%\n"
    }
   },
   "outputs": [
    {
     "data": {
      "text/plain": [
       "TensorShape([64, 50, 512])"
      ]
     },
     "execution_count": 89,
     "metadata": {},
     "output_type": "execute_result"
    }
   ],
   "source": [
    "sample_ffn = point_wise_feed_forward_network(512, 2048)\n",
    "sample_ffn(tf.random.uniform((64, 50, 512))).shape"
   ]
  },
  {
   "cell_type": "markdown",
   "metadata": {
    "id": "7e7hKcxn6-zd"
   },
   "source": [
    "## Encoder and decoder"
   ]
  },
  {
   "cell_type": "markdown",
   "metadata": {
    "id": "yScbC0MUH8dS",
    "pycharm": {
     "name": "#%% md\n"
    }
   },
   "source": [
    "<img src=\"https://www.tensorflow.org/images/tutorials/transformer/transformer.png\" width=\"600\" alt=\"transformer\">"
   ]
  },
  {
   "cell_type": "markdown",
   "metadata": {
    "id": "MfYJG-Kvgwy2",
    "pycharm": {
     "name": "#%% md\n"
    }
   },
   "source": [
    "The transformer model follows the same general pattern as a standard [sequence to sequence with attention model](nmt_with_attention.ipynb). \n",
    "\n",
    "* The input sentence is passed through `N` encoder layers that generates an output for each word/token in the sequence.\n",
    "* The decoder attends on the encoder's output and its own input (self-attention) to predict the next word. "
   ]
  },
  {
   "cell_type": "markdown",
   "metadata": {
    "id": "QFv-FNYUmvpn"
   },
   "source": [
    "### Encoder layer\n",
    "\n",
    "Each encoder layer consists of sublayers:\n",
    "\n",
    "1.   Multi-head attention (with padding mask) \n",
    "2.    Point wise feed forward networks. \n",
    "\n",
    "Each of these sublayers has a residual connection around it followed by a layer normalization. Residual connections help in avoiding the vanishing gradient problem in deep networks.\n",
    "\n",
    "The output of each sublayer is `LayerNorm(x + Sublayer(x))`. The normalization is done on the `d_model` (last) axis. There are N encoder layers in the transformer."
   ]
  },
  {
   "cell_type": "code",
   "execution_count": 90,
   "metadata": {
    "execution": {
     "iopub.execute_input": "2020-11-02T02:26:25.446072Z",
     "iopub.status.busy": "2020-11-02T02:26:25.445347Z",
     "iopub.status.idle": "2020-11-02T02:26:25.447785Z",
     "shell.execute_reply": "2020-11-02T02:26:25.447205Z"
    },
    "id": "ncyS-Ms3i2x_",
    "pycharm": {
     "name": "#%%\n"
    }
   },
   "outputs": [],
   "source": [
    "class EncoderLayer(tf.keras.layers.Layer):\n",
    "  def __init__(self, d_model, num_heads, dff, rate=0.1):\n",
    "    super(EncoderLayer, self).__init__()\n",
    "\n",
    "    self.mha = MultiHeadAttention(d_model, num_heads)\n",
    "    self.ffn = point_wise_feed_forward_network(d_model, dff)\n",
    "\n",
    "    self.layernorm1 = tf.keras.layers.LayerNormalization(epsilon=1e-6)\n",
    "    self.layernorm2 = tf.keras.layers.LayerNormalization(epsilon=1e-6)\n",
    "    \n",
    "    self.dropout1 = tf.keras.layers.Dropout(rate)\n",
    "    self.dropout2 = tf.keras.layers.Dropout(rate)\n",
    "    \n",
    "  def call(self, x, training, mask):\n",
    "\n",
    "    attn_output, _ = self.mha(x, x, x, mask)  # (batch_size, input_seq_len, d_model)\n",
    "    attn_output = self.dropout1(attn_output, training=training)\n",
    "    out1 = self.layernorm1(x + attn_output)  # (batch_size, input_seq_len, d_model)\n",
    "    \n",
    "    ffn_output = self.ffn(out1)  # (batch_size, input_seq_len, d_model)\n",
    "    ffn_output = self.dropout2(ffn_output, training=training)\n",
    "    out2 = self.layernorm2(out1 + ffn_output)  # (batch_size, input_seq_len, d_model)\n",
    "    \n",
    "    return out2"
   ]
  },
  {
   "cell_type": "code",
   "execution_count": 36,
   "metadata": {
    "execution": {
     "iopub.execute_input": "2020-11-02T02:26:25.459795Z",
     "iopub.status.busy": "2020-11-02T02:26:25.459178Z",
     "iopub.status.idle": "2020-11-02T02:26:25.582504Z",
     "shell.execute_reply": "2020-11-02T02:26:25.582945Z"
    },
    "id": "AzZRXdO0mI48",
    "pycharm": {
     "name": "#%%\n"
    }
   },
   "outputs": [
    {
     "data": {
      "text/plain": [
       "TensorShape([64, 43, 512])"
      ]
     },
     "execution_count": 36,
     "metadata": {},
     "output_type": "execute_result"
    }
   ],
   "source": [
    "sample_encoder_layer = EncoderLayer(512, 8, 2048)\n",
    "\n",
    "sample_encoder_layer_output = sample_encoder_layer(\n",
    "    tf.random.uniform((64, 43, 512)), False, None)\n",
    "\n",
    "sample_encoder_layer_output.shape  # (batch_size, input_seq_len, d_model)"
   ]
  },
  {
   "cell_type": "markdown",
   "metadata": {
    "id": "6LO_48Owmx_o"
   },
   "source": [
    "### Decoder layer\n",
    "\n",
    "Each decoder layer consists of sublayers:\n",
    "\n",
    "1.   Masked multi-head attention (with look ahead mask and padding mask)\n",
    "2.   Multi-head attention (with padding mask). V (value) and K (key) receive the *encoder output* as inputs. Q (query) receives the *output from the masked multi-head attention sublayer.*\n",
    "3.   Point wise feed forward networks\n",
    "\n",
    "Each of these sublayers has a residual connection around it followed by a layer normalization. The output of each sublayer is `LayerNorm(x + Sublayer(x))`. The normalization is done on the `d_model` (last) axis.\n",
    "\n",
    "There are N decoder layers in the transformer.\n",
    "\n",
    "As Q receives the output from decoder's first attention block, and K receives the encoder output, the attention weights represent the importance given to the decoder's input based on the encoder's output. In other words, the decoder predicts the next word by looking at the encoder output and self-attending to its own output. See the demonstration above in the scaled dot product attention section."
   ]
  },
  {
   "cell_type": "code",
   "execution_count": 91,
   "metadata": {
    "execution": {
     "iopub.execute_input": "2020-11-02T02:26:25.592814Z",
     "iopub.status.busy": "2020-11-02T02:26:25.592125Z",
     "iopub.status.idle": "2020-11-02T02:26:25.593830Z",
     "shell.execute_reply": "2020-11-02T02:26:25.594250Z"
    },
    "id": "9SoX0-vd1hue"
   },
   "outputs": [],
   "source": [
    "class DecoderLayer(tf.keras.layers.Layer):\n",
    "  def __init__(self, d_model, num_heads, dff, rate=0.1):\n",
    "    super(DecoderLayer, self).__init__()\n",
    "\n",
    "    self.mha1 = MultiHeadAttention(d_model, num_heads)\n",
    "    self.mha2 = MultiHeadAttention(d_model, num_heads)\n",
    "\n",
    "    self.ffn = point_wise_feed_forward_network(d_model, dff)\n",
    " \n",
    "    self.layernorm1 = tf.keras.layers.LayerNormalization(epsilon=1e-6)\n",
    "    self.layernorm2 = tf.keras.layers.LayerNormalization(epsilon=1e-6)\n",
    "    self.layernorm3 = tf.keras.layers.LayerNormalization(epsilon=1e-6)\n",
    "    \n",
    "    self.dropout1 = tf.keras.layers.Dropout(rate)\n",
    "    self.dropout2 = tf.keras.layers.Dropout(rate)\n",
    "    self.dropout3 = tf.keras.layers.Dropout(rate)\n",
    "    \n",
    "    \n",
    "  def call(self, x, enc_output, training, \n",
    "           look_ahead_mask, padding_mask):\n",
    "    # enc_output.shape == (batch_size, input_seq_len, d_model)\n",
    "\n",
    "    attn1, attn_weights_block1 = self.mha1(x, x, x, look_ahead_mask)  # (batch_size, target_seq_len, d_model)\n",
    "    attn1 = self.dropout1(attn1, training=training)\n",
    "    out1 = self.layernorm1(attn1 + x)\n",
    "    \n",
    "    attn2, attn_weights_block2 = self.mha2(\n",
    "        enc_output, enc_output, out1, padding_mask)  # (batch_size, target_seq_len, d_model)\n",
    "    attn2 = self.dropout2(attn2, training=training)\n",
    "    out2 = self.layernorm2(attn2 + out1)  # (batch_size, target_seq_len, d_model)\n",
    "    \n",
    "    ffn_output = self.ffn(out2)  # (batch_size, target_seq_len, d_model)\n",
    "    ffn_output = self.dropout3(ffn_output, training=training)\n",
    "    out3 = self.layernorm3(ffn_output + out2)  # (batch_size, target_seq_len, d_model)\n",
    "    \n",
    "    return out3, attn_weights_block1, attn_weights_block2"
   ]
  },
  {
   "cell_type": "code",
   "execution_count": 38,
   "metadata": {
    "execution": {
     "iopub.execute_input": "2020-11-02T02:26:25.607195Z",
     "iopub.status.busy": "2020-11-02T02:26:25.606534Z",
     "iopub.status.idle": "2020-11-02T02:26:25.804635Z",
     "shell.execute_reply": "2020-11-02T02:26:25.805053Z"
    },
    "id": "Ne2Bqx8k71l0"
   },
   "outputs": [
    {
     "data": {
      "text/plain": [
       "TensorShape([64, 50, 512])"
      ]
     },
     "execution_count": 38,
     "metadata": {},
     "output_type": "execute_result"
    }
   ],
   "source": [
    "sample_decoder_layer = DecoderLayer(512, 8, 2048)\n",
    "\n",
    "sample_decoder_layer_output, _, _ = sample_decoder_layer(\n",
    "    tf.random.uniform((64, 50, 512)), sample_encoder_layer_output, \n",
    "    False, None, None)\n",
    "\n",
    "sample_decoder_layer_output.shape  # (batch_size, target_seq_len, d_model)"
   ]
  },
  {
   "cell_type": "markdown",
   "metadata": {
    "id": "SE1H51Ajm0q1"
   },
   "source": [
    "### Encoder\n",
    "\n",
    "The `Encoder` consists of:\n",
    "1.   Input Embedding\n",
    "2.   Positional Encoding\n",
    "3.   N encoder layers\n",
    "\n",
    "The input is put through an embedding which is summed with the positional encoding. The output of this summation is the input to the encoder layers. The output of the encoder is the input to the decoder."
   ]
  },
  {
   "cell_type": "code",
   "execution_count": 92,
   "metadata": {
    "execution": {
     "iopub.execute_input": "2020-11-02T02:26:25.814730Z",
     "iopub.status.busy": "2020-11-02T02:26:25.814013Z",
     "iopub.status.idle": "2020-11-02T02:26:25.816267Z",
     "shell.execute_reply": "2020-11-02T02:26:25.815698Z"
    },
    "id": "jpEox7gJ8FCI"
   },
   "outputs": [],
   "source": [
    "class Encoder(tf.keras.layers.Layer):\n",
    "  def __init__(self, num_layers, d_model, num_heads, dff, input_vocab_size,\n",
    "               maximum_position_encoding, rate=0.1):\n",
    "    super(Encoder, self).__init__()\n",
    "\n",
    "    self.d_model = d_model\n",
    "    self.num_layers = num_layers\n",
    "    \n",
    "    self.pooling = tf.keras.layers.MaxPool2D()\n",
    "    self.pos_encoding = positional_encoding(maximum_position_encoding, \n",
    "                                            self.d_model)\n",
    "    \n",
    "    \n",
    "    self.enc_layers = [EncoderLayer(d_model, num_heads, dff, rate) \n",
    "                       for _ in range(num_layers)]\n",
    "  \n",
    "    self.dropout = tf.keras.layers.Dropout(rate)\n",
    "        \n",
    "  def call(self, x, training, mask):\n",
    "\n",
    "    seq_len = tf.shape(x)[1]\n",
    "    \n",
    "    # adding embedding and position encoding.\n",
    "    x = self.pooling(x)  # (batch_size, input_seq_len, d_model)\n",
    "    x *= tf.math.sqrt(tf.cast(self.d_model, tf.float32))\n",
    "    x += self.pos_encoding[:, :seq_len, :]\n",
    "\n",
    "    x = self.dropout(x, training=training)\n",
    "    \n",
    "    for i in range(self.num_layers):\n",
    "      x = self.enc_layers[i](x, training, mask)\n",
    "    \n",
    "    return x  # (batch_size, input_seq_len, d_model)"
   ]
  },
  {
   "cell_type": "code",
   "execution_count": null,
   "metadata": {
    "execution": {
     "iopub.execute_input": "2020-11-02T02:26:25.824870Z",
     "iopub.status.busy": "2020-11-02T02:26:25.824233Z",
     "iopub.status.idle": "2020-11-02T02:26:26.357891Z",
     "shell.execute_reply": "2020-11-02T02:26:26.358338Z"
    },
    "id": "8QG9nueFQKXx"
   },
   "outputs": [
    {
     "name": "stdout",
     "output_type": "stream",
     "text": [
      "tf.Tensor(\n",
      "[[[[222  55  76 175 141 108  41 216 200  33  82  63  60 172  44 123   8\n",
      "      9 217  14 236  75 229 132  59 128  82 151]\n",
      "   [242 102  76 222  70 147  78 111 200   6  21  84 157  35 154  43 138\n",
      "    149 111 128 251 122 197   3 218 212  35  11]\n",
      "   [ 76 175 226 101 197 132 234  32  21 144 201 131 134 112 144 232 135\n",
      "      6 227 209  61  60 117  81  69 165 133  86]\n",
      "   [115  71  63   0  23 210 194 163  17  43  61 249 106  56 110 215 181\n",
      "    111 237 136  40  61 166 102  40 204 219 127]\n",
      "   [191  83  13 191  56 111 235 103  53  82 235 131  32 234 224  24  62\n",
      "      5 235  51 201 181  12 162  12  89  65  45]\n",
      "   [111  16 194 191 122   9 208  18 105 196  29   1 222 118 193  61 149\n",
      "     98 186 136 200  68  61  71  20   2 152 136]\n",
      "   [105 123 248 236 188  88  87  26   5  91  52   7 181 105  92  26 135\n",
      "    163 198 196  64  53   3 228 224  70 191 230]\n",
      "   [119 177   3 156 183  87  34  71  63  56  47  64 185 146 158  39 185\n",
      "    119  75 134  27 232 213   1 179 169  80 120]\n",
      "   [ 69 144 136 157 170 197 168 233 180 154 197 110  43 225 219  28  17\n",
      "    242 122 131 168 137 222  70 163 202 245 163]\n",
      "   [ 79   7  28 175  47  67 162  49 103 221  97 137  99 160 225 146 172\n",
      "     72 136 127 133 209 107  56 102  94  43  74]\n",
      "   [ 41 226 154 199 170 237 163 183 172 146 216 172 136  88 170  59 120\n",
      "     34 171  61   8  94   6 243 150  88 173  43]\n",
      "   [ 17 203 103  60 167  31  94 107 158 133 118 246  73 159   2 254 190\n",
      "    184 224 121 165 129 246  49  63  35  78  88]\n",
      "   [ 40  60 125 234 118 112  39 114  81 161 249 110  99  21  30 102 143\n",
      "    203 250  68 149  90 229  34 176  23 240  89]\n",
      "   [ 38 183 114 248  82 168 157  93  14  83 230 237 175 232 218  53  35\n",
      "    182 255 149  71 120  11  92  62 122 159   2]\n",
      "   [ 41  89 178 218  46 210 170 146 224  13  82 209 213  17 225 245 109\n",
      "     84 226 234 194  49 167 144 172  87  30 150]\n",
      "   [ 29 143 187 140 193 140 173 191  12 184 128  98  34  32  18  68 237\n",
      "    220 238  82 115  93 212 238 230  33 162 253]\n",
      "   [218 226  25  98 251 168 194 241 251  25 164  17  65  86  81 151 220\n",
      "    240 135 237  83  47 251  45  42 162  44  33]\n",
      "   [ 27   4 111 171  50 172 195 107 122  90 170  19  73 217  55  90 107\n",
      "    245  90 136  95  75  31  14  94 127  87 128]\n",
      "   [ 11 151 191  95 103  74 123 156 155 227  76 182  10 255 238 180  93\n",
      "     22 150 144 113  42 241  48  30  36  91  64]\n",
      "   [134 122 127 139 111  42 186 150 122 183 241  16 121  48  72  67  48\n",
      "    119 101  28 204 206 124  42  51  61 236 252]\n",
      "   [ 88 140 248  74 176  68  17  55 223 239 209  69 105   9  95 139  40\n",
      "    121  12  79  31 124  88 123 223 238  79 119]\n",
      "   [152 164 235 224 120  84 223  35 240 149 117 133 159   0 196 153  92\n",
      "    230 197 198  83 113  60 248 133 111 188   8]\n",
      "   [243 109  81  25  78 208 160 206  91 134 228 248  28 226 161  97 240\n",
      "    223 220 138  78 109 152 152  75  50 205  44]\n",
      "   [219 101  83  61  82  27  86 124 188  12   6 147 255  23 126 182  25\n",
      "    229 202 155  84  88 205  45 233  48 115 172]\n",
      "   [ 44  64 246 156 107   2  61  82 151  51  93 125 104  68  25 169  97\n",
      "    116 170 108  48  49  17  49 227  68  47 107]\n",
      "   [100 115 226  67  68  88 190 112  84  62  48 236 132 152 223  15 237\n",
      "    219  13   7 104 116 140 131  44 104 244 238]\n",
      "   [243 168 109 139  50 174 198 108 231 117 156 132 145  22 131 211  71\n",
      "    130 165  58 143 137  20 242  27  82 192 241]\n",
      "   [166  20 160 233  37 195 209 123  11  57 126 212  69 209 143 123  76\n",
      "    248  90 100  42 237 128 133 183 216 125 111]]]], shape=(1, 1, 28, 28), dtype=int64)\n"
     ]
    }
   ],
   "source": [
    "sample_encoder = Encoder(num_layers=2, d_model=512, num_heads=8, \n",
    "                         dff=2048, input_vocab_size=8500,\n",
    "                         maximum_position_encoding=10000)\n",
    "temp_input = tf.random.uniform((1, 1, 28, 28), dtype=tf.int64, minval=0, maxval=256)\n",
    "print(temp_input)\n",
    "\n",
    "sample_encoder_output = sample_encoder(tf.cast(temp_input, tf.float32), training=False, mask=None)\n",
    "\n",
    "print (sample_encoder_output.shape)  # (batch_size, input_seq_len, d_model)"
   ]
  },
  {
   "cell_type": "markdown",
   "metadata": {
    "id": "p-uO6ls8m2O5"
   },
   "source": [
    "### Decoder"
   ]
  },
  {
   "cell_type": "markdown",
   "metadata": {
    "id": "ZtT7PKzrXkNr",
    "pycharm": {
     "name": "#%% md\n"
    }
   },
   "source": [
    " The `Decoder` consists of:\n",
    "1.   Output Embedding\n",
    "2.   Positional Encoding\n",
    "3.   N decoder layers\n",
    "\n",
    "The target is put through an embedding which is summed with the positional encoding. The output of this summation is the input to the decoder layers. The output of the decoder is the input to the final linear layer."
   ]
  },
  {
   "cell_type": "code",
   "execution_count": 93,
   "metadata": {
    "execution": {
     "iopub.execute_input": "2020-11-02T02:26:26.368605Z",
     "iopub.status.busy": "2020-11-02T02:26:26.367591Z",
     "iopub.status.idle": "2020-11-02T02:26:26.369596Z",
     "shell.execute_reply": "2020-11-02T02:26:26.369997Z"
    },
    "id": "d5_d5-PLQXwY"
   },
   "outputs": [],
   "source": [
    "class Decoder(tf.keras.layers.Layer):\n",
    "  def __init__(self, num_layers, d_model, num_heads, dff, target_vocab_size,\n",
    "               maximum_position_encoding, rate=0.1):\n",
    "    super(Decoder, self).__init__()\n",
    "\n",
    "    self.d_model = d_model\n",
    "    self.num_layers = num_layers\n",
    "    \n",
    "    self.pooling = tf.keras.layers.MaxPool2D()\n",
    "    self.pos_encoding = positional_encoding(maximum_position_encoding, d_model)\n",
    "    \n",
    "    self.dec_layers = [DecoderLayer(d_model, num_heads, dff, rate) \n",
    "                       for _ in range(num_layers)]\n",
    "    self.dropout = tf.keras.layers.Dropout(rate)\n",
    "    \n",
    "  def call(self, x, enc_output, training, \n",
    "           look_ahead_mask, padding_mask):\n",
    "\n",
    "    seq_len = tf.shape(x)[1]\n",
    "    attention_weights = {}\n",
    "    \n",
    "    x = self.pooling(x)  # (batch_size, target_seq_len, d_model)\n",
    "    x *= tf.math.sqrt(tf.cast(self.d_model, tf.float32))\n",
    "    x += self.pos_encoding[:, :seq_len, :]\n",
    "    \n",
    "    x = self.dropout(x, training=training)\n",
    "\n",
    "    for i in range(self.num_layers):\n",
    "      x, block1, block2 = self.dec_layers[i](x, enc_output, training,\n",
    "                                             look_ahead_mask, padding_mask)\n",
    "      \n",
    "      attention_weights['decoder_layer{}_block1'.format(i+1)] = block1\n",
    "      attention_weights['decoder_layer{}_block2'.format(i+1)] = block2\n",
    "    \n",
    "    # x.shape == (batch_size, target_seq_len, d_model)\n",
    "    return x, attention_weights"
   ]
  },
  {
   "cell_type": "code",
   "execution_count": 94,
   "metadata": {
    "execution": {
     "iopub.execute_input": "2020-11-02T02:26:26.377767Z",
     "iopub.status.busy": "2020-11-02T02:26:26.376310Z",
     "iopub.status.idle": "2020-11-02T02:26:26.755762Z",
     "shell.execute_reply": "2020-11-02T02:26:26.755141Z"
    },
    "id": "a1jXoAMRZyvu",
    "pycharm": {
     "name": "#%%\n"
    }
   },
   "outputs": [
    {
     "ename": "NameError",
     "evalue": "name 'sample_encoder_output' is not defined",
     "output_type": "error",
     "traceback": [
      "\u001B[0;31m---------------------------------------------------------------------------\u001B[0m",
      "\u001B[0;31mNameError\u001B[0m                                 Traceback (most recent call last)",
      "\u001B[0;32m<ipython-input-94-5509d3a6b214>\u001B[0m in \u001B[0;36m<module>\u001B[0;34m\u001B[0m\n\u001B[1;32m      5\u001B[0m \u001B[0;34m\u001B[0m\u001B[0m\n\u001B[1;32m      6\u001B[0m output, attn = sample_decoder(temp_input, \n\u001B[0;32m----> 7\u001B[0;31m                               \u001B[0menc_output\u001B[0m\u001B[0;34m=\u001B[0m\u001B[0msample_encoder_output\u001B[0m\u001B[0;34m,\u001B[0m\u001B[0;34m\u001B[0m\u001B[0;34m\u001B[0m\u001B[0m\n\u001B[0m\u001B[1;32m      8\u001B[0m                               \u001B[0mtraining\u001B[0m\u001B[0;34m=\u001B[0m\u001B[0;32mFalse\u001B[0m\u001B[0;34m,\u001B[0m\u001B[0;34m\u001B[0m\u001B[0;34m\u001B[0m\u001B[0m\n\u001B[1;32m      9\u001B[0m                               \u001B[0mlook_ahead_mask\u001B[0m\u001B[0;34m=\u001B[0m\u001B[0;32mNone\u001B[0m\u001B[0;34m,\u001B[0m\u001B[0;34m\u001B[0m\u001B[0;34m\u001B[0m\u001B[0m\n",
      "\u001B[0;31mNameError\u001B[0m: name 'sample_encoder_output' is not defined"
     ]
    }
   ],
   "source": [
    "sample_decoder = Decoder(num_layers=2, d_model=512, num_heads=8, \n",
    "                         dff=2048, target_vocab_size=8000,\n",
    "                         maximum_position_encoding=5000)\n",
    "temp_input = tf.random.uniform((64, 26), dtype=tf.int64, minval=0, maxval=200)\n",
    "\n",
    "output, attn = sample_decoder(temp_input, \n",
    "                              enc_output=sample_encoder_output, \n",
    "                              training=False,\n",
    "                              look_ahead_mask=None, \n",
    "                              padding_mask=None)\n",
    "\n",
    "output.shape, attn['decoder_layer2_block2'].shape"
   ]
  },
  {
   "cell_type": "markdown",
   "metadata": {
    "id": "y54xnJnuYgJ7"
   },
   "source": [
    "## Create the Transformer"
   ]
  },
  {
   "cell_type": "markdown",
   "metadata": {
    "id": "uERO1y54cOKq",
    "pycharm": {
     "name": "#%% md\n"
    }
   },
   "source": [
    "Transformer consists of the encoder, decoder and a final linear layer. The output of the decoder is the input to the linear layer and its output is returned."
   ]
  },
  {
   "cell_type": "code",
   "execution_count": 95,
   "metadata": {
    "execution": {
     "iopub.execute_input": "2020-11-02T02:26:26.763467Z",
     "iopub.status.busy": "2020-11-02T02:26:26.762728Z",
     "iopub.status.idle": "2020-11-02T02:26:26.764477Z",
     "shell.execute_reply": "2020-11-02T02:26:26.764889Z"
    },
    "id": "PED3bIpOYkBu"
   },
   "outputs": [],
   "source": [
    "class Transformer(tf.keras.Model):\n",
    "  def __init__(self, num_layers, d_model, num_heads, dff, input_vocab_size, \n",
    "               target_vocab_size, pe_input, pe_target, rate=0.1):\n",
    "    super(Transformer, self).__init__()\n",
    "\n",
    "    self.encoder = Encoder(num_layers, d_model, num_heads, dff, \n",
    "                           input_vocab_size, pe_input, rate)\n",
    "\n",
    "    self.decoder = Decoder(num_layers, d_model, num_heads, dff, \n",
    "                           target_vocab_size, pe_target, rate)\n",
    "\n",
    "    self.final_layer = tf.keras.layers.Dense(target_vocab_size)\n",
    "    \n",
    "  def call(self, inp, tar, training, enc_padding_mask, \n",
    "           look_ahead_mask, dec_padding_mask):\n",
    "\n",
    "    enc_output = self.encoder(inp, training, enc_padding_mask)  # (batch_size, inp_seq_len, d_model)\n",
    "    \n",
    "    # dec_output.shape == (batch_size, tar_seq_len, d_model)\n",
    "    dec_output, attention_weights = self.decoder(\n",
    "        tar, enc_output, training, look_ahead_mask, dec_padding_mask)\n",
    "    \n",
    "    final_output = self.final_layer(dec_output)  # (batch_size, tar_seq_len, target_vocab_size)\n",
    "    \n",
    "    return final_output, attention_weights"
   ]
  },
  {
   "cell_type": "code",
   "execution_count": null,
   "metadata": {
    "execution": {
     "iopub.execute_input": "2020-11-02T02:26:26.772608Z",
     "iopub.status.busy": "2020-11-02T02:26:26.771855Z",
     "iopub.status.idle": "2020-11-02T02:26:27.696061Z",
     "shell.execute_reply": "2020-11-02T02:26:27.696483Z"
    },
    "id": "tJ4fbQcIkHW1",
    "pycharm": {
     "name": "#%%\n"
    }
   },
   "outputs": [],
   "source": [
    "sample_transformer = Transformer(\n",
    "    num_layers=2, d_model=512, num_heads=8, dff=2048, \n",
    "    input_vocab_size=8500, target_vocab_size=8000, \n",
    "    pe_input=10000, pe_target=6000)\n",
    "\n",
    "temp_input = tf.random.uniform((64, 38), dtype=tf.int64, minval=0, maxval=200)\n",
    "temp_target = tf.random.uniform((64, 36), dtype=tf.int64, minval=0, maxval=200)\n",
    "\n",
    "fn_out, _ = sample_transformer(temp_input, temp_target, training=False, \n",
    "                               enc_padding_mask=None, \n",
    "                               look_ahead_mask=None,\n",
    "                               dec_padding_mask=None)\n",
    "\n",
    "fn_out.shape  # (batch_size, tar_seq_len, target_vocab_size)"
   ]
  },
  {
   "cell_type": "markdown",
   "metadata": {
    "id": "wsINyf1VEQLC"
   },
   "source": [
    "## Set hyperparameters"
   ]
  },
  {
   "cell_type": "markdown",
   "metadata": {
    "id": "zVjWCxFNcgbt",
    "pycharm": {
     "name": "#%% md\n"
    }
   },
   "source": [
    "To keep this example small and relatively fast, the values for *num_layers, d_model, and dff* have been reduced. \n",
    "\n",
    "The values used in the base model of transformer were; *num_layers=6*, *d_model = 512*, *dff = 2048*. See the [paper](https://arxiv.org/abs/1706.03762) for all the other versions of the transformer.\n",
    "\n",
    "Note: By changing the values below, you can get the model that achieved state of the art on many tasks."
   ]
  },
  {
   "cell_type": "code",
   "execution_count": 96,
   "metadata": {
    "execution": {
     "iopub.execute_input": "2020-11-02T02:26:27.701337Z",
     "iopub.status.busy": "2020-11-02T02:26:27.700717Z",
     "iopub.status.idle": "2020-11-02T02:26:27.702463Z",
     "shell.execute_reply": "2020-11-02T02:26:27.702871Z"
    },
    "id": "lnJn5SLA2ahP"
   },
   "outputs": [],
   "source": [
    "num_layers = 4\n",
    "d_model = 128\n",
    "dff = 512\n",
    "num_heads = 8\n",
    "\n",
    "input_vocab_size = tokenizer_pt.vocab_size + 2\n",
    "target_vocab_size = tokenizer_en.vocab_size + 2\n",
    "dropout_rate = 0.1"
   ]
  },
  {
   "cell_type": "markdown",
   "metadata": {
    "id": "xYEGhEOtzn5W"
   },
   "source": [
    "## Optimizer"
   ]
  },
  {
   "cell_type": "markdown",
   "metadata": {
    "id": "GOmWW--yP3zx"
   },
   "source": [
    "Use the Adam optimizer with a custom learning rate scheduler according to the formula in the [paper](https://arxiv.org/abs/1706.03762).\n",
    "\n",
    "$$\\Large{lrate = d_{model}^{-0.5} * min(step{\\_}num^{-0.5}, step{\\_}num * warmup{\\_}steps^{-1.5})}$$\n"
   ]
  },
  {
   "cell_type": "code",
   "execution_count": 97,
   "metadata": {
    "execution": {
     "iopub.execute_input": "2020-11-02T02:26:27.709107Z",
     "iopub.status.busy": "2020-11-02T02:26:27.708470Z",
     "iopub.status.idle": "2020-11-02T02:26:27.710049Z",
     "shell.execute_reply": "2020-11-02T02:26:27.710587Z"
    },
    "id": "iYQdOO1axwEI"
   },
   "outputs": [],
   "source": [
    "class CustomSchedule(tf.keras.optimizers.schedules.LearningRateSchedule):\n",
    "  def __init__(self, d_model, warmup_steps=4000):\n",
    "    super(CustomSchedule, self).__init__()\n",
    "    \n",
    "    self.d_model = d_model\n",
    "    self.d_model = tf.cast(self.d_model, tf.float32)\n",
    "\n",
    "    self.warmup_steps = warmup_steps\n",
    "    \n",
    "  def __call__(self, step):\n",
    "    arg1 = tf.math.rsqrt(step)\n",
    "    arg2 = step * (self.warmup_steps ** -1.5)\n",
    "    \n",
    "    return tf.math.rsqrt(self.d_model) * tf.math.minimum(arg1, arg2)"
   ]
  },
  {
   "cell_type": "code",
   "execution_count": 98,
   "metadata": {
    "execution": {
     "iopub.execute_input": "2020-11-02T02:26:27.715008Z",
     "iopub.status.busy": "2020-11-02T02:26:27.714374Z",
     "iopub.status.idle": "2020-11-02T02:26:27.716089Z",
     "shell.execute_reply": "2020-11-02T02:26:27.716593Z"
    },
    "id": "7r4scdulztRx",
    "pycharm": {
     "name": "#%%\n"
    }
   },
   "outputs": [],
   "source": [
    "learning_rate = CustomSchedule(d_model)\n",
    "\n",
    "optimizer = tf.keras.optimizers.Adam(learning_rate, beta_1=0.9, beta_2=0.98, \n",
    "                                     epsilon=1e-9)"
   ]
  },
  {
   "cell_type": "code",
   "execution_count": 99,
   "metadata": {
    "execution": {
     "iopub.execute_input": "2020-11-02T02:26:27.720844Z",
     "iopub.status.busy": "2020-11-02T02:26:27.720237Z",
     "iopub.status.idle": "2020-11-02T02:26:27.866519Z",
     "shell.execute_reply": "2020-11-02T02:26:27.865886Z"
    },
    "id": "f33ZCgvHpPdG",
    "pycharm": {
     "name": "#%%\n"
    }
   },
   "outputs": [
    {
     "data": {
      "text/plain": [
       "Text(0.5, 0, 'Train Step')"
      ]
     },
     "execution_count": 99,
     "metadata": {},
     "output_type": "execute_result"
    },
    {
     "data": {
      "image/png": "[encoded data removed]",
      "text/plain": [
       "<Figure size 432x288 with 1 Axes>"
      ]
     },
     "metadata": {
      "needs_background": "light"
     },
     "output_type": "display_data"
    }
   ],
   "source": [
    "temp_learning_rate_schedule = CustomSchedule(d_model)\n",
    "\n",
    "plt.plot(temp_learning_rate_schedule(tf.range(40000, dtype=tf.float32)))\n",
    "plt.ylabel(\"Learning Rate\")\n",
    "plt.xlabel(\"Train Step\")"
   ]
  },
  {
   "cell_type": "markdown",
   "metadata": {
    "id": "YgkDE7hzo8r5",
    "pycharm": {
     "name": "#%% md\n"
    }
   },
   "source": [
    "## Loss and metrics"
   ]
  },
  {
   "cell_type": "markdown",
   "metadata": {
    "id": "oxGJtoDuYIHL",
    "pycharm": {
     "name": "#%% md\n"
    }
   },
   "source": [
    "Since the target sequences are padded, it is important to apply a padding mask when calculating the loss."
   ]
  },
  {
   "cell_type": "code",
   "execution_count": 100,
   "metadata": {
    "execution": {
     "iopub.execute_input": "2020-11-02T02:26:27.870775Z",
     "iopub.status.busy": "2020-11-02T02:26:27.870132Z",
     "iopub.status.idle": "2020-11-02T02:26:27.871766Z",
     "shell.execute_reply": "2020-11-02T02:26:27.872206Z"
    },
    "id": "MlhsJMm0TW_B"
   },
   "outputs": [],
   "source": [
    "loss_object = tf.keras.losses.SparseCategoricalCrossentropy(\n",
    "    from_logits=True, reduction='none')"
   ]
  },
  {
   "cell_type": "code",
   "execution_count": 101,
   "metadata": {
    "execution": {
     "iopub.execute_input": "2020-11-02T02:26:27.879108Z",
     "iopub.status.busy": "2020-11-02T02:26:27.878422Z",
     "iopub.status.idle": "2020-11-02T02:26:27.880191Z",
     "shell.execute_reply": "2020-11-02T02:26:27.880573Z"
    },
    "id": "67oqVHiT0Eiu",
    "pycharm": {
     "name": "#%%\n"
    }
   },
   "outputs": [],
   "source": [
    "def loss_function(real, pred):\n",
    "  mask = tf.math.logical_not(tf.math.equal(real, 0))\n",
    "  loss_ = loss_object(real, pred)\n",
    "\n",
    "  mask = tf.cast(mask, dtype=loss_.dtype)\n",
    "  loss_ *= mask\n",
    "  \n",
    "  return tf.reduce_sum(loss_)/tf.reduce_sum(mask)\n",
    "\n",
    "\n",
    "def accuracy_function(real, pred):\n",
    "  accuracies = tf.equal(real, tf.argmax(pred, axis=2))\n",
    "  \n",
    "  mask = tf.math.logical_not(tf.math.equal(real, 0))\n",
    "  accuracies = tf.math.logical_and(mask, accuracies)\n",
    "\n",
    "  accuracies = tf.cast(accuracies, dtype=tf.float32)\n",
    "  mask = tf.cast(mask, dtype=tf.float32)\n",
    "  return tf.reduce_sum(accuracies)/tf.reduce_sum(mask)"
   ]
  },
  {
   "cell_type": "code",
   "execution_count": 102,
   "metadata": {
    "execution": {
     "iopub.execute_input": "2020-11-02T02:26:27.890929Z",
     "iopub.status.busy": "2020-11-02T02:26:27.890255Z",
     "iopub.status.idle": "2020-11-02T02:26:27.898638Z",
     "shell.execute_reply": "2020-11-02T02:26:27.899073Z"
    },
    "id": "phlyxMnm-Tpx",
    "pycharm": {
     "name": "#%%\n"
    }
   },
   "outputs": [],
   "source": [
    "train_loss = tf.keras.metrics.Mean(name='train_loss')\n",
    "train_accuracy = tf.keras.metrics.Mean(name='train_accuracy')"
   ]
  },
  {
   "cell_type": "markdown",
   "metadata": {
    "id": "aeHumfr7zmMa",
    "pycharm": {
     "name": "#%% md\n"
    }
   },
   "source": [
    "## Training and checkpointing"
   ]
  },
  {
   "cell_type": "code",
   "execution_count": 103,
   "metadata": {
    "execution": {
     "iopub.execute_input": "2020-11-02T02:26:27.904511Z",
     "iopub.status.busy": "2020-11-02T02:26:27.903860Z",
     "iopub.status.idle": "2020-11-02T02:26:28.059188Z",
     "shell.execute_reply": "2020-11-02T02:26:28.059633Z"
    },
    "id": "UiysUa--4tOU"
   },
   "outputs": [],
   "source": [
    "transformer = Transformer(num_layers, d_model, num_heads, dff,\n",
    "                          input_vocab_size, target_vocab_size, \n",
    "                          pe_input=input_vocab_size, \n",
    "                          pe_target=target_vocab_size,\n",
    "                          rate=dropout_rate)"
   ]
  },
  {
   "cell_type": "code",
   "execution_count": 104,
   "metadata": {
    "execution": {
     "iopub.execute_input": "2020-11-02T02:26:28.065224Z",
     "iopub.status.busy": "2020-11-02T02:26:28.064487Z",
     "iopub.status.idle": "2020-11-02T02:26:28.066163Z",
     "shell.execute_reply": "2020-11-02T02:26:28.066631Z"
    },
    "id": "ZOJUSB1T8GjM"
   },
   "outputs": [],
   "source": [
    "def create_masks(inp, tar):\n",
    "  # Encoder padding mask\n",
    "  enc_padding_mask = create_padding_mask(inp)\n",
    "  \n",
    "  # Used in the 2nd attention block in the decoder.\n",
    "  # This padding mask is used to mask the encoder outputs.\n",
    "  dec_padding_mask = create_padding_mask(inp)\n",
    "  \n",
    "  # Used in the 1st attention block in the decoder.\n",
    "  # It is used to pad and mask future tokens in the input received by \n",
    "  # the decoder.\n",
    "  look_ahead_mask = create_look_ahead_mask(tf.shape(tar)[1])\n",
    "  dec_target_padding_mask = create_padding_mask(tar)\n",
    "  combined_mask = tf.maximum(dec_target_padding_mask, look_ahead_mask)\n",
    "  \n",
    "  return enc_padding_mask, combined_mask, dec_padding_mask"
   ]
  },
  {
   "cell_type": "markdown",
   "metadata": {
    "id": "Fzuf06YZp66w"
   },
   "source": [
    "Create the checkpoint path and the checkpoint manager. This will be used to save checkpoints every `n` epochs."
   ]
  },
  {
   "cell_type": "code",
   "execution_count": 105,
   "metadata": {
    "execution": {
     "iopub.execute_input": "2020-11-02T02:26:28.072057Z",
     "iopub.status.busy": "2020-11-02T02:26:28.071394Z",
     "iopub.status.idle": "2020-11-02T02:26:28.073614Z",
     "shell.execute_reply": "2020-11-02T02:26:28.073034Z"
    },
    "id": "hNhuYfllndLZ"
   },
   "outputs": [
    {
     "name": "stdout",
     "output_type": "stream",
     "text": [
      "Latest checkpoint restored!!\n"
     ]
    }
   ],
   "source": [
    "checkpoint_path = \"./checkpoints/train\"\n",
    "\n",
    "ckpt = tf.train.Checkpoint(transformer=transformer,\n",
    "                           optimizer=optimizer)\n",
    "\n",
    "ckpt_manager = tf.train.CheckpointManager(ckpt, checkpoint_path, max_to_keep=5)\n",
    "\n",
    "# if a checkpoint exists, restore the latest checkpoint.\n",
    "if ckpt_manager.latest_checkpoint:\n",
    "  ckpt.restore(ckpt_manager.latest_checkpoint)\n",
    "  print ('Latest checkpoint restored!!')"
   ]
  },
  {
   "cell_type": "markdown",
   "metadata": {
    "id": "0Di_Yaa1gf9r",
    "pycharm": {
     "name": "#%% md\n"
    }
   },
   "source": [
    "The target is divided into tar_inp and tar_real. tar_inp is passed as an input to the decoder. `tar_real` is that same input shifted by 1: At each location in `tar_input`, `tar_real` contains the  next token that should be predicted.\n",
    "\n",
    "For example, `sentence` = \"SOS A lion in the jungle is sleeping EOS\"\n",
    "\n",
    "`tar_inp` =  \"SOS A lion in the jungle is sleeping\"\n",
    "\n",
    "`tar_real` = \"A lion in the jungle is sleeping EOS\"\n",
    "\n",
    "The transformer is an auto-regressive model: it makes predictions one part at a time, and uses its output so far to decide what to do next. \n",
    "\n",
    "During training this example uses teacher-forcing (like in the [text generation tutorial](./text_generation.ipynb)). Teacher forcing is passing the true output to the next time step regardless of what the model predicts at the current time step.\n",
    "\n",
    "As the transformer predicts each word, *self-attention* allows it to look at the previous words in the input sequence to better predict the next word.\n",
    "\n",
    "To prevent the model from peeking at the expected output the model uses a look-ahead mask."
   ]
  },
  {
   "cell_type": "code",
   "execution_count": 106,
   "metadata": {
    "execution": {
     "iopub.execute_input": "2020-11-02T02:26:28.077441Z",
     "iopub.status.busy": "2020-11-02T02:26:28.076745Z",
     "iopub.status.idle": "2020-11-02T02:26:28.078903Z",
     "shell.execute_reply": "2020-11-02T02:26:28.078389Z"
    },
    "id": "LKpoA6q1sJFj",
    "pycharm": {
     "name": "#%%\n"
    }
   },
   "outputs": [],
   "source": [
    "EPOCHS = 20"
   ]
  },
  {
   "cell_type": "code",
   "execution_count": 117,
   "metadata": {
    "execution": {
     "iopub.execute_input": "2020-11-02T02:26:28.086043Z",
     "iopub.status.busy": "2020-11-02T02:26:28.085376Z",
     "iopub.status.idle": "2020-11-02T02:26:28.087078Z",
     "shell.execute_reply": "2020-11-02T02:26:28.087521Z"
    },
    "id": "iJwmp9OE29oj"
   },
   "outputs": [],
   "source": [
    "# The @tf.function trace-compiles train_step into a TF graph for faster\n",
    "# execution. The function specializes to the precise shape of the argument\n",
    "# tensors. To avoid re-tracing due to the variable sequence lengths or variable\n",
    "# batch sizes (the last batch is smaller), use input_signature to specify\n",
    "# more generic shapes.\n",
    "\n",
    "train_step_signature = [\n",
    "    tf.TensorSpec(shape=(None, None), dtype=tf.int64),\n",
    "    tf.TensorSpec(shape=(None, None), dtype=tf.int64),\n",
    "]\n",
    "\n",
    "@tf.function(input_signature=train_step_signature)\n",
    "def train_step(inp, tar):\n",
    "  print(inp)\n",
    "  tar_inp = tar[:, :-1]\n",
    "  tar_real = tar[:, 1:]\n",
    "  \n",
    "#   enc_padding_mask, combined_mask, dec_padding_mask = create_masks(inp, tar_inp)\n",
    "  \n",
    "  with tf.GradientTape() as tape:\n",
    "    predictions, _ = transformer(inp, tar_inp, \n",
    "                                 True, \n",
    "                                 enc_padding_mask, \n",
    "                                 combined_mask, \n",
    "                                 dec_padding_mask)\n",
    "    loss = loss_function(tar_real, predictions)\n",
    "\n",
    "  gradients = tape.gradient(loss, transformer.trainable_variables)    \n",
    "  optimizer.apply_gradients(zip(gradients, transformer.trainable_variables))\n",
    "  \n",
    "  train_loss(loss)\n",
    "  train_accuracy(accuracy_function(tar_real, predictions))"
   ]
  },
  {
   "cell_type": "markdown",
   "metadata": {
    "id": "qM2PDWGDJ_8V"
   },
   "source": [
    "Portuguese is used as the input language and English is the target language."
   ]
  },
  {
   "cell_type": "code",
   "execution_count": 123,
   "metadata": {
    "execution": {
     "iopub.execute_input": "2020-11-02T02:26:28.094989Z",
     "iopub.status.busy": "2020-11-02T02:26:28.094309Z",
     "iopub.status.idle": "2020-11-02T04:16:37.754510Z",
     "shell.execute_reply": "2020-11-02T04:16:37.753863Z"
    },
    "id": "bbvmaKNiznHZ"
   },
   "outputs": [
    {
     "name": "stdout",
     "output_type": "stream",
     "text": [
      "0\n",
      "Input\n",
      "tf.Tensor(\n",
      "[[[[  0]\n",
      "   [  0]\n",
      "   [  0]\n",
      "   [  0]\n",
      "   [  0]\n",
      "   [  0]\n",
      "   [  0]\n",
      "   [  0]\n",
      "   [  0]\n",
      "   [  0]\n",
      "   [  0]\n",
      "   [  0]\n",
      "   [  0]\n",
      "   [  0]\n",
      "   [  0]\n",
      "   [  0]\n",
      "   [  0]\n",
      "   [  0]\n",
      "   [  0]\n",
      "   [  0]\n",
      "   [  0]\n",
      "   [  0]\n",
      "   [  0]\n",
      "   [  0]\n",
      "   [  0]\n",
      "   [  0]\n",
      "   [  0]\n",
      "   [  0]]\n",
      "\n",
      "  [[  0]\n",
      "   [  0]\n",
      "   [  0]\n",
      "   [  0]\n",
      "   [  0]\n",
      "   [  0]\n",
      "   [  0]\n",
      "   [  0]\n",
      "   [  0]\n",
      "   [  0]\n",
      "   [  0]\n",
      "   [  0]\n",
      "   [  0]\n",
      "   [  0]\n",
      "   [  0]\n",
      "   [  0]\n",
      "   [  0]\n",
      "   [  0]\n",
      "   [  0]\n",
      "   [  0]\n",
      "   [  0]\n",
      "   [  0]\n",
      "   [  0]\n",
      "   [  0]\n",
      "   [  0]\n",
      "   [  0]\n",
      "   [  0]\n",
      "   [  0]]\n",
      "\n",
      "  [[  0]\n",
      "   [  0]\n",
      "   [  0]\n",
      "   [  0]\n",
      "   [  0]\n",
      "   [  0]\n",
      "   [  0]\n",
      "   [  0]\n",
      "   [  0]\n",
      "   [  0]\n",
      "   [  0]\n",
      "   [  0]\n",
      "   [  0]\n",
      "   [  0]\n",
      "   [  0]\n",
      "   [  0]\n",
      "   [  0]\n",
      "   [  0]\n",
      "   [  0]\n",
      "   [  0]\n",
      "   [  0]\n",
      "   [  0]\n",
      "   [  0]\n",
      "   [  0]\n",
      "   [  0]\n",
      "   [  0]\n",
      "   [  0]\n",
      "   [  0]]\n",
      "\n",
      "  [[  0]\n",
      "   [  0]\n",
      "   [  0]\n",
      "   [  0]\n",
      "   [  0]\n",
      "   [  0]\n",
      "   [  0]\n",
      "   [  0]\n",
      "   [  0]\n",
      "   [  0]\n",
      "   [  0]\n",
      "   [  0]\n",
      "   [  0]\n",
      "   [  0]\n",
      "   [  0]\n",
      "   [  0]\n",
      "   [  0]\n",
      "   [  0]\n",
      "   [  0]\n",
      "   [  0]\n",
      "   [  0]\n",
      "   [  0]\n",
      "   [  0]\n",
      "   [  0]\n",
      "   [  0]\n",
      "   [  0]\n",
      "   [  0]\n",
      "   [  0]]\n",
      "\n",
      "  [[  0]\n",
      "   [  0]\n",
      "   [  0]\n",
      "   [  0]\n",
      "   [  0]\n",
      "   [  0]\n",
      "   [  0]\n",
      "   [  0]\n",
      "   [  0]\n",
      "   [  0]\n",
      "   [  0]\n",
      "   [ 16]\n",
      "   [119]\n",
      "   [169]\n",
      "   [254]\n",
      "   [163]\n",
      "   [163]\n",
      "   [118]\n",
      "   [ 16]\n",
      "   [  0]\n",
      "   [  0]\n",
      "   [  0]\n",
      "   [  0]\n",
      "   [  0]\n",
      "   [  0]\n",
      "   [  0]\n",
      "   [  0]\n",
      "   [  0]]\n",
      "\n",
      "  [[  0]\n",
      "   [  0]\n",
      "   [  0]\n",
      "   [  0]\n",
      "   [  0]\n",
      "   [  0]\n",
      "   [  0]\n",
      "   [  0]\n",
      "   [  0]\n",
      "   [ 20]\n",
      "   [139]\n",
      "   [239]\n",
      "   [253]\n",
      "   [253]\n",
      "   [253]\n",
      "   [254]\n",
      "   [253]\n",
      "   [253]\n",
      "   [233]\n",
      "   [ 94]\n",
      "   [  0]\n",
      "   [  0]\n",
      "   [  0]\n",
      "   [  0]\n",
      "   [  0]\n",
      "   [  0]\n",
      "   [  0]\n",
      "   [  0]]\n",
      "\n",
      "  [[  0]\n",
      "   [  0]\n",
      "   [  0]\n",
      "   [  0]\n",
      "   [  0]\n",
      "   [  0]\n",
      "   [  0]\n",
      "   [  0]\n",
      "   [  0]\n",
      "   [ 91]\n",
      "   [254]\n",
      "   [253]\n",
      "   [247]\n",
      "   [145]\n",
      "   [127]\n",
      "   [ 36]\n",
      "   [ 36]\n",
      "   [ 49]\n",
      "   [213]\n",
      "   [240]\n",
      "   [ 46]\n",
      "   [  0]\n",
      "   [  0]\n",
      "   [  0]\n",
      "   [  0]\n",
      "   [  0]\n",
      "   [  0]\n",
      "   [  0]]\n",
      "\n",
      "  [[  0]\n",
      "   [  0]\n",
      "   [  0]\n",
      "   [  0]\n",
      "   [  0]\n",
      "   [  0]\n",
      "   [  0]\n",
      "   [  0]\n",
      "   [  0]\n",
      "   [162]\n",
      "   [254]\n",
      "   [203]\n",
      "   [ 46]\n",
      "   [  0]\n",
      "   [  0]\n",
      "   [  0]\n",
      "   [  0]\n",
      "   [  0]\n",
      "   [ 70]\n",
      "   [253]\n",
      "   [ 91]\n",
      "   [  0]\n",
      "   [  0]\n",
      "   [  0]\n",
      "   [  0]\n",
      "   [  0]\n",
      "   [  0]\n",
      "   [  0]]\n",
      "\n",
      "  [[  0]\n",
      "   [  0]\n",
      "   [  0]\n",
      "   [  0]\n",
      "   [  0]\n",
      "   [  0]\n",
      "   [  0]\n",
      "   [  0]\n",
      "   [  0]\n",
      "   [181]\n",
      "   [228]\n",
      "   [ 37]\n",
      "   [  0]\n",
      "   [  0]\n",
      "   [  0]\n",
      "   [  0]\n",
      "   [  0]\n",
      "   [  0]\n",
      "   [  6]\n",
      "   [201]\n",
      "   [ 91]\n",
      "   [  0]\n",
      "   [  0]\n",
      "   [  0]\n",
      "   [  0]\n",
      "   [  0]\n",
      "   [  0]\n",
      "   [  0]]\n",
      "\n",
      "  [[  0]\n",
      "   [  0]\n",
      "   [  0]\n",
      "   [  0]\n",
      "   [  0]\n",
      "   [  0]\n",
      "   [  0]\n",
      "   [  0]\n",
      "   [  7]\n",
      "   [207]\n",
      "   [124]\n",
      "   [  0]\n",
      "   [  0]\n",
      "   [  0]\n",
      "   [  0]\n",
      "   [  0]\n",
      "   [  0]\n",
      "   [  0]\n",
      "   [ 38]\n",
      "   [228]\n",
      "   [ 92]\n",
      "   [  0]\n",
      "   [  0]\n",
      "   [  0]\n",
      "   [  0]\n",
      "   [  0]\n",
      "   [  0]\n",
      "   [  0]]\n",
      "\n",
      "  [[  0]\n",
      "   [  0]\n",
      "   [  0]\n",
      "   [  0]\n",
      "   [  0]\n",
      "   [  0]\n",
      "   [  0]\n",
      "   [  0]\n",
      "   [  0]\n",
      "   [181]\n",
      "   [111]\n",
      "   [  0]\n",
      "   [  0]\n",
      "   [  0]\n",
      "   [  0]\n",
      "   [  0]\n",
      "   [  0]\n",
      "   [ 60]\n",
      "   [224]\n",
      "   [253]\n",
      "   [  7]\n",
      "   [  0]\n",
      "   [  0]\n",
      "   [  0]\n",
      "   [  0]\n",
      "   [  0]\n",
      "   [  0]\n",
      "   [  0]]\n",
      "\n",
      "  [[  0]\n",
      "   [  0]\n",
      "   [  0]\n",
      "   [  0]\n",
      "   [  0]\n",
      "   [  0]\n",
      "   [  0]\n",
      "   [  0]\n",
      "   [  0]\n",
      "   [168]\n",
      "   [217]\n",
      "   [ 35]\n",
      "   [  6]\n",
      "   [ 37]\n",
      "   [ 69]\n",
      "   [128]\n",
      "   [211]\n",
      "   [248]\n",
      "   [253]\n",
      "   [ 98]\n",
      "   [  0]\n",
      "   [  0]\n",
      "   [  0]\n",
      "   [  0]\n",
      "   [  0]\n",
      "   [  0]\n",
      "   [  0]\n",
      "   [  0]]\n",
      "\n",
      "  [[  0]\n",
      "   [  0]\n",
      "   [  0]\n",
      "   [  0]\n",
      "   [  0]\n",
      "   [  0]\n",
      "   [  0]\n",
      "   [  0]\n",
      "   [  0]\n",
      "   [ 91]\n",
      "   [254]\n",
      "   [241]\n",
      "   [207]\n",
      "   [253]\n",
      "   [253]\n",
      "   [254]\n",
      "   [253]\n",
      "   [253]\n",
      "   [253]\n",
      "   [149]\n",
      "   [  7]\n",
      "   [  0]\n",
      "   [  0]\n",
      "   [  0]\n",
      "   [  0]\n",
      "   [  0]\n",
      "   [  0]\n",
      "   [  0]]\n",
      "\n",
      "  [[  0]\n",
      "   [  0]\n",
      "   [  0]\n",
      "   [  0]\n",
      "   [  0]\n",
      "   [  0]\n",
      "   [  0]\n",
      "   [  0]\n",
      "   [  0]\n",
      "   [ 26]\n",
      "   [221]\n",
      "   [253]\n",
      "   [253]\n",
      "   [253]\n",
      "   [253]\n",
      "   [254]\n",
      "   [253]\n",
      "   [253]\n",
      "   [253]\n",
      "   [253]\n",
      "   [149]\n",
      "   [  7]\n",
      "   [  0]\n",
      "   [  0]\n",
      "   [  0]\n",
      "   [  0]\n",
      "   [  0]\n",
      "   [  0]]\n",
      "\n",
      "  [[  0]\n",
      "   [  0]\n",
      "   [  0]\n",
      "   [  0]\n",
      "   [  0]\n",
      "   [  0]\n",
      "   [  0]\n",
      "   [  0]\n",
      "   [  6]\n",
      "   [170]\n",
      "   [255]\n",
      "   [254]\n",
      "   [254]\n",
      "   [248]\n",
      "   [181]\n",
      "   [124]\n",
      "   [142]\n",
      "   [ 58]\n",
      "   [  7]\n",
      "   [124]\n",
      "   [255]\n",
      "   [109]\n",
      "   [  0]\n",
      "   [  0]\n",
      "   [  0]\n",
      "   [  0]\n",
      "   [  0]\n",
      "   [  0]]\n",
      "\n",
      "  [[  0]\n",
      "   [  0]\n",
      "   [  0]\n",
      "   [  0]\n",
      "   [  0]\n",
      "   [  0]\n",
      "   [  0]\n",
      "   [  0]\n",
      "   [123]\n",
      "   [253]\n",
      "   [238]\n",
      "   [ 95]\n",
      "   [ 18]\n",
      "   [ 17]\n",
      "   [  0]\n",
      "   [  0]\n",
      "   [  0]\n",
      "   [  0]\n",
      "   [  0]\n",
      "   [  0]\n",
      "   [169]\n",
      "   [223]\n",
      "   [ 21]\n",
      "   [  0]\n",
      "   [  0]\n",
      "   [  0]\n",
      "   [  0]\n",
      "   [  0]]\n",
      "\n",
      "  [[  0]\n",
      "   [  0]\n",
      "   [  0]\n",
      "   [  0]\n",
      "   [  0]\n",
      "   [  0]\n",
      "   [  0]\n",
      "   [ 19]\n",
      "   [226]\n",
      "   [240]\n",
      "   [ 58]\n",
      "   [  0]\n",
      "   [  0]\n",
      "   [  0]\n",
      "   [  0]\n",
      "   [  0]\n",
      "   [  0]\n",
      "   [  0]\n",
      "   [  0]\n",
      "   [  0]\n",
      "   [118]\n",
      "   [253]\n",
      "   [ 36]\n",
      "   [  0]\n",
      "   [  0]\n",
      "   [  0]\n",
      "   [  0]\n",
      "   [  0]]\n",
      "\n",
      "  [[  0]\n",
      "   [  0]\n",
      "   [  0]\n",
      "   [  0]\n",
      "   [  0]\n",
      "   [  0]\n",
      "   [  0]\n",
      "   [108]\n",
      "   [251]\n",
      "   [119]\n",
      "   [  0]\n",
      "   [  0]\n",
      "   [  0]\n",
      "   [  0]\n",
      "   [  0]\n",
      "   [  0]\n",
      "   [  0]\n",
      "   [  0]\n",
      "   [  0]\n",
      "   [  0]\n",
      "   [112]\n",
      "   [253]\n",
      "   [ 36]\n",
      "   [  0]\n",
      "   [  0]\n",
      "   [  0]\n",
      "   [  0]\n",
      "   [  0]]\n",
      "\n",
      "  [[  0]\n",
      "   [  0]\n",
      "   [  0]\n",
      "   [  0]\n",
      "   [  0]\n",
      "   [  0]\n",
      "   [  0]\n",
      "   [128]\n",
      "   [235]\n",
      "   [  0]\n",
      "   [  0]\n",
      "   [  0]\n",
      "   [  0]\n",
      "   [  0]\n",
      "   [  0]\n",
      "   [  0]\n",
      "   [  0]\n",
      "   [  0]\n",
      "   [  0]\n",
      "   [ 33]\n",
      "   [228]\n",
      "   [253]\n",
      "   [ 36]\n",
      "   [  0]\n",
      "   [  0]\n",
      "   [  0]\n",
      "   [  0]\n",
      "   [  0]]\n",
      "\n",
      "  [[  0]\n",
      "   [  0]\n",
      "   [  0]\n",
      "   [  0]\n",
      "   [  0]\n",
      "   [  0]\n",
      "   [  0]\n",
      "   [128]\n",
      "   [235]\n",
      "   [  0]\n",
      "   [  0]\n",
      "   [  0]\n",
      "   [  0]\n",
      "   [  0]\n",
      "   [  0]\n",
      "   [  0]\n",
      "   [  0]\n",
      "   [  0]\n",
      "   [ 64]\n",
      "   [228]\n",
      "   [255]\n",
      "   [140]\n",
      "   [  0]\n",
      "   [  0]\n",
      "   [  0]\n",
      "   [  0]\n",
      "   [  0]\n",
      "   [  0]]\n",
      "\n",
      "  [[  0]\n",
      "   [  0]\n",
      "   [  0]\n",
      "   [  0]\n",
      "   [  0]\n",
      "   [  0]\n",
      "   [  0]\n",
      "   [128]\n",
      "   [251]\n",
      "   [138]\n",
      "   [  0]\n",
      "   [  0]\n",
      "   [  0]\n",
      "   [  0]\n",
      "   [  0]\n",
      "   [  0]\n",
      "   [ 51]\n",
      "   [145]\n",
      "   [249]\n",
      "   [253]\n",
      "   [192]\n",
      "   [ 14]\n",
      "   [  0]\n",
      "   [  0]\n",
      "   [  0]\n",
      "   [  0]\n",
      "   [  0]\n",
      "   [  0]]\n",
      "\n",
      "  [[  0]\n",
      "   [  0]\n",
      "   [  0]\n",
      "   [  0]\n",
      "   [  0]\n",
      "   [  0]\n",
      "   [  0]\n",
      "   [109]\n",
      "   [245]\n",
      "   [253]\n",
      "   [192]\n",
      "   [108]\n",
      "   [ 37]\n",
      "   [ 43]\n",
      "   [128]\n",
      "   [186]\n",
      "   [250]\n",
      "   [253]\n",
      "   [250]\n",
      "   [151]\n",
      "   [ 13]\n",
      "   [  0]\n",
      "   [  0]\n",
      "   [  0]\n",
      "   [  0]\n",
      "   [  0]\n",
      "   [  0]\n",
      "   [  0]]\n",
      "\n",
      "  [[  0]\n",
      "   [  0]\n",
      "   [  0]\n",
      "   [  0]\n",
      "   [  0]\n",
      "   [  0]\n",
      "   [  0]\n",
      "   [  0]\n",
      "   [114]\n",
      "   [215]\n",
      "   [254]\n",
      "   [253]\n",
      "   [253]\n",
      "   [253]\n",
      "   [253]\n",
      "   [254]\n",
      "   [253]\n",
      "   [159]\n",
      "   [ 69]\n",
      "   [  0]\n",
      "   [  0]\n",
      "   [  0]\n",
      "   [  0]\n",
      "   [  0]\n",
      "   [  0]\n",
      "   [  0]\n",
      "   [  0]\n",
      "   [  0]]\n",
      "\n",
      "  [[  0]\n",
      "   [  0]\n",
      "   [  0]\n",
      "   [  0]\n",
      "   [  0]\n",
      "   [  0]\n",
      "   [  0]\n",
      "   [  0]\n",
      "   [  0]\n",
      "   [ 59]\n",
      "   [189]\n",
      "   [201]\n",
      "   [240]\n",
      "   [253]\n",
      "   [253]\n",
      "   [163]\n",
      "   [ 78]\n",
      "   [ 11]\n",
      "   [  0]\n",
      "   [  0]\n",
      "   [  0]\n",
      "   [  0]\n",
      "   [  0]\n",
      "   [  0]\n",
      "   [  0]\n",
      "   [  0]\n",
      "   [  0]\n",
      "   [  0]]\n",
      "\n",
      "  [[  0]\n",
      "   [  0]\n",
      "   [  0]\n",
      "   [  0]\n",
      "   [  0]\n",
      "   [  0]\n",
      "   [  0]\n",
      "   [  0]\n",
      "   [  0]\n",
      "   [  0]\n",
      "   [  0]\n",
      "   [  0]\n",
      "   [  0]\n",
      "   [  0]\n",
      "   [  0]\n",
      "   [  0]\n",
      "   [  0]\n",
      "   [  0]\n",
      "   [  0]\n",
      "   [  0]\n",
      "   [  0]\n",
      "   [  0]\n",
      "   [  0]\n",
      "   [  0]\n",
      "   [  0]\n",
      "   [  0]\n",
      "   [  0]\n",
      "   [  0]]\n",
      "\n",
      "  [[  0]\n",
      "   [  0]\n",
      "   [  0]\n",
      "   [  0]\n",
      "   [  0]\n",
      "   [  0]\n",
      "   [  0]\n",
      "   [  0]\n",
      "   [  0]\n",
      "   [  0]\n",
      "   [  0]\n",
      "   [  0]\n",
      "   [  0]\n",
      "   [  0]\n",
      "   [  0]\n",
      "   [  0]\n",
      "   [  0]\n",
      "   [  0]\n",
      "   [  0]\n",
      "   [  0]\n",
      "   [  0]\n",
      "   [  0]\n",
      "   [  0]\n",
      "   [  0]\n",
      "   [  0]\n",
      "   [  0]\n",
      "   [  0]\n",
      "   [  0]]\n",
      "\n",
      "  [[  0]\n",
      "   [  0]\n",
      "   [  0]\n",
      "   [  0]\n",
      "   [  0]\n",
      "   [  0]\n",
      "   [  0]\n",
      "   [  0]\n",
      "   [  0]\n",
      "   [  0]\n",
      "   [  0]\n",
      "   [  0]\n",
      "   [  0]\n",
      "   [  0]\n",
      "   [  0]\n",
      "   [  0]\n",
      "   [  0]\n",
      "   [  0]\n",
      "   [  0]\n",
      "   [  0]\n",
      "   [  0]\n",
      "   [  0]\n",
      "   [  0]\n",
      "   [  0]\n",
      "   [  0]\n",
      "   [  0]\n",
      "   [  0]\n",
      "   [  0]]\n",
      "\n",
      "  [[  0]\n",
      "   [  0]\n",
      "   [  0]\n",
      "   [  0]\n",
      "   [  0]\n",
      "   [  0]\n",
      "   [  0]\n",
      "   [  0]\n",
      "   [  0]\n",
      "   [  0]\n",
      "   [  0]\n",
      "   [  0]\n",
      "   [  0]\n",
      "   [  0]\n",
      "   [  0]\n",
      "   [  0]\n",
      "   [  0]\n",
      "   [  0]\n",
      "   [  0]\n",
      "   [  0]\n",
      "   [  0]\n",
      "   [  0]\n",
      "   [  0]\n",
      "   [  0]\n",
      "   [  0]\n",
      "   [  0]\n",
      "   [  0]\n",
      "   [  0]]]], shape=(1, 28, 28, 1), dtype=uint8)\n",
      "Target\n",
      "tf.Tensor([8], shape=(1,), dtype=int64)\n"
     ]
    },
    {
     "ename": "ValueError",
     "evalue": "Python inputs incompatible with input_signature:\n  inputs: (\n    tf.Tensor(\n[[[[  0]\n   [  0]\n   [  0]\n   [  0]\n   [  0]\n   [  0]\n   [  0]\n   [  0]\n   [  0]\n   [  0]\n   [  0]\n   [  0]\n   [  0]\n   [  0]\n   [  0]\n   [  0]\n   [  0]\n   [  0]\n   [  0]\n   [  0]\n   [  0]\n   [  0]\n   [  0]\n   [  0]\n   [  0]\n   [  0]\n   [  0]\n   [  0]]\n\n  [[  0]\n   [  0]\n   [  0]\n   [  0]\n   [  0]\n   [  0]\n   [  0]\n   [  0]\n   [  0]\n   [  0]\n   [  0]\n   [  0]\n   [  0]\n   [  0]\n   [  0]\n   [  0]\n   [  0]\n   [  0]\n   [  0]\n   [  0]\n   [  0]\n   [  0]\n   [  0]\n   [  0]\n   [  0]\n   [  0]\n   [  0]\n   [  0]]\n\n  [[  0]\n   [  0]\n   [  0]\n   [  0]\n   [  0]\n   [  0]\n   [  0]\n   [  0]\n   [  0]\n   [  0]\n   [  0]\n   [  0]\n   [  0]\n   [  0]\n   [  0]\n   [  0]\n   [  0]\n   [  0]\n   [  0]\n   [  0]\n   [  0]\n   [  0]\n   [  0]\n   [  0]\n   [  0]\n   [  0]\n   [  0]\n   [  0]]\n\n  [[  0]\n   [  0]\n   [  0]\n   [  0]\n   [  0]\n   [  0]\n   [  0]\n   [  0]\n   [  0]\n   [  0]\n   [  0]\n   [  0]\n   [  0]\n   [  0]\n   [  0]\n   [  0]\n   [  0]\n   [  0]\n   [  0]\n   [  0]\n   [  0]\n   [  0]\n   [  0]\n   [  0]\n   [  0]\n   [  0]\n   [  0]\n   [  0]]\n\n  [[  0]\n   [  0]\n   [  0]\n   [  0]\n   [  0]\n   [  0]\n   [  0]\n   [  0]\n   [  0]\n   [  0]\n   [  0]\n   [ 16]\n   [119]\n   [169]\n   [254]\n   [163]\n   [163]\n   [118]\n   [ 16]\n   [  0]\n   [  0]\n   [  0]\n   [  0]\n   [  0]\n   [  0]\n   [  0]\n   [  0]\n   [  0]]\n\n  [[  0]\n   [  0]\n   [  0]\n   [  0]\n   [  0]\n   [  0]\n   [  0]\n   [  0]\n   [  0]\n   [ 20]\n   [139]\n   [239]\n   [253]\n   [253]\n   [253]\n   [254]\n   [253]\n   [253]\n   [233]\n   [ 94]\n   [  0]\n   [  0]\n   [  0]\n   [  0]\n   [  0]\n   [  0]\n   [  0]\n   [  0]]\n\n  [[  0]\n   [  0]\n   [  0]\n   [  0]\n   [  0]\n   [  0]\n   [  0]\n   [  0]\n   [  0]\n   [ 91]\n   [254]\n   [253]\n   [247]\n   [145]\n   [127]\n   [ 36]\n   [ 36]\n   [ 49]\n   [213]\n   [240]\n   [ 46]\n   [  0]\n   [  0]\n   [  0]\n   [  0]\n   [  0]\n   [  0]\n   [  0]]\n\n  [[  0]\n   [  0]\n   [  0]\n   [  0]\n   [  0]\n   [  0]\n   [  0]\n   [  0]\n   [  0]\n   [162]\n   [254]\n   [203]\n   [ 46]\n   [  0]\n   [  0]\n   [  0]\n   [  0]\n   [  0]\n   [ 70]\n   [253]\n   [ 91]\n   [  0]\n   [  0]\n   [  0]\n   [  0]\n   [  0]\n   [  0]\n   [  0]]\n\n  [[  0]\n   [  0]\n   [  0]\n   [  0]\n   [  0]\n   [  0]\n   [  0]\n   [  0]\n   [  0]\n   [181]\n   [228]\n   [ 37]\n   [  0]\n   [  0]\n   [  0]\n   [  0]\n   [  0]\n   [  0]\n   [  6]\n   [201]\n   [ 91]\n   [  0]\n   [  0]\n   [  0]\n   [  0]\n   [  0]\n   [  0]\n   [  0]]\n\n  [[  0]\n   [  0]\n   [  0]\n   [  0]\n   [  0]\n   [  0]\n   [  0]\n   [  0]\n   [  7]\n   [207]\n   [124]\n   [  0]\n   [  0]\n   [  0]\n   [  0]\n   [  0]\n   [  0]\n   [  0]\n   [ 38]\n   [228]\n   [ 92]\n   [  0]\n   [  0]\n   [  0]\n   [  0]\n   [  0]\n   [  0]\n   [  0]]\n\n  [[  0]\n   [  0]\n   [  0]\n   [  0]\n   [  0]\n   [  0]\n   [  0]\n   [  0]\n   [  0]\n   [181]\n   [111]\n   [  0]\n   [  0]\n   [  0]\n   [  0]\n   [  0]\n   [  0]\n   [ 60]\n   [224]\n   [253]\n   [  7]\n   [  0]\n   [  0]\n   [  0]\n   [  0]\n   [  0]\n   [  0]\n   [  0]]\n\n  [[  0]\n   [  0]\n   [  0]\n   [  0]\n   [  0]\n   [  0]\n   [  0]\n   [  0]\n   [  0]\n   [168]\n   [217]\n   [ 35]\n   [  6]\n   [ 37]\n   [ 69]\n   [128]\n   [211]\n   [248]\n   [253]\n   [ 98]\n   [  0]\n   [  0]\n   [  0]\n   [  0]\n   [  0]\n   [  0]\n   [  0]\n   [  0]]\n\n  [[  0]\n   [  0]\n   [  0]\n   [  0]\n   [  0]\n   [  0]\n   [  0]\n   [  0]\n   [  0]\n   [ 91]\n   [254]\n   [241]\n   [207]\n   [253]\n   [253]\n   [254]\n   [253]\n   [253]\n   [253]\n   [149]\n   [  7]\n   [  0]\n   [  0]\n   [  0]\n   [  0]\n   [  0]\n   [  0]\n   [  0]]\n\n  [[  0]\n   [  0]\n   [  0]\n   [  0]\n   [  0]\n   [  0]\n   [  0]\n   [  0]\n   [  0]\n   [ 26]\n   [221]\n   [253]\n   [253]\n   [253]\n   [253]\n   [254]\n   [253]\n   [253]\n   [253]\n   [253]\n   [149]\n   [  7]\n   [  0]\n   [  0]\n   [  0]\n   [  0]\n   [  0]\n   [  0]]\n\n  [[  0]\n   [  0]\n   [  0]\n   [  0]\n   [  0]\n   [  0]\n   [  0]\n   [  0]\n   [  6]\n   [170]\n   [255]\n   [254]\n   [254]\n   [248]\n   [181]\n   [124]\n   [142]\n   [ 58]\n   [  7]\n   [124]\n   [255]\n   [109]\n   [  0]\n   [  0]\n   [  0]\n   [  0]\n   [  0]\n   [  0]]\n\n  [[  0]\n   [  0]\n   [  0]\n   [  0]\n   [  0]\n   [  0]\n   [  0]\n   [  0]\n   [123]\n   [253]\n   [238]\n   [ 95]\n   [ 18]\n   [ 17]\n   [  0]\n   [  0]\n   [  0]\n   [  0]\n   [  0]\n   [  0]\n   [169]\n   [223]\n   [ 21]\n   [  0]\n   [  0]\n   [  0]\n   [  0]\n   [  0]]\n\n  [[  0]\n   [  0]\n   [  0]\n   [  0]\n   [  0]\n   [  0]\n   [  0]\n   [ 19]\n   [226]\n   [240]\n   [ 58]\n   [  0]\n   [  0]\n   [  0]\n   [  0]\n   [  0]\n   [  0]\n   [  0]\n   [  0]\n   [  0]\n   [118]\n   [253]\n   [ 36]\n   [  0]\n   [  0]\n   [  0]\n   [  0]\n   [  0]]\n\n  [[  0]\n   [  0]\n   [  0]\n   [  0]\n   [  0]\n   [  0]\n   [  0]\n   [108]\n   [251]\n   [119]\n   [  0]\n   [  0]\n   [  0]\n   [  0]\n   [  0]\n   [  0]\n   [  0]\n   [  0]\n   [  0]\n   [  0]\n   [112]\n   [253]\n   [ 36]\n   [  0]\n   [  0]\n   [  0]\n   [  0]\n   [  0]]\n\n  [[  0]\n   [  0]\n   [  0]\n   [  0]\n   [  0]\n   [  0]\n   [  0]\n   [128]\n   [235]\n   [  0]\n   [  0]\n   [  0]\n   [  0]\n   [  0]\n   [  0]\n   [  0]\n   [  0]\n   [  0]\n   [  0]\n   [ 33]\n   [228]\n   [253]\n   [ 36]\n   [  0]\n   [  0]\n   [  0]\n   [  0]\n   [  0]]\n\n  [[  0]\n   [  0]\n   [  0]\n   [  0]\n   [  0]\n   [  0]\n   [  0]\n   [128]\n   [235]\n   [  0]\n   [  0]\n   [  0]\n   [  0]\n   [  0]\n   [  0]\n   [  0]\n   [  0]\n   [  0]\n   [ 64]\n   [228]\n   [255]\n   [140]\n   [  0]\n   [  0]\n   [  0]\n   [  0]\n   [  0]\n   [  0]]\n\n  [[  0]\n   [  0]\n   [  0]\n   [  0]\n   [  0]\n   [  0]\n   [  0]\n   [128]\n   [251]\n   [138]\n   [  0]\n   [  0]\n   [  0]\n   [  0]\n   [  0]\n   [  0]\n   [ 51]\n   [145]\n   [249]\n   [253]\n   [192]\n   [ 14]\n   [  0]\n   [  0]\n   [  0]\n   [  0]\n   [  0]\n   [  0]]\n\n  [[  0]\n   [  0]\n   [  0]\n   [  0]\n   [  0]\n   [  0]\n   [  0]\n   [109]\n   [245]\n   [253]\n   [192]\n   [108]\n   [ 37]\n   [ 43]\n   [128]\n   [186]\n   [250]\n   [253]\n   [250]\n   [151]\n   [ 13]\n   [  0]\n   [  0]\n   [  0]\n   [  0]\n   [  0]\n   [  0]\n   [  0]]\n\n  [[  0]\n   [  0]\n   [  0]\n   [  0]\n   [  0]\n   [  0]\n   [  0]\n   [  0]\n   [114]\n   [215]\n   [254]\n   [253]\n   [253]\n   [253]\n   [253]\n   [254]\n   [253]\n   [159]\n   [ 69]\n   [  0]\n   [  0]\n   [  0]\n   [  0]\n   [  0]\n   [  0]\n   [  0]\n   [  0]\n   [  0]]\n\n  [[  0]\n   [  0]\n   [  0]\n   [  0]\n   [  0]\n   [  0]\n   [  0]\n   [  0]\n   [  0]\n   [ 59]\n   [189]\n   [201]\n   [240]\n   [253]\n   [253]\n   [163]\n   [ 78]\n   [ 11]\n   [  0]\n   [  0]\n   [  0]\n   [  0]\n   [  0]\n   [  0]\n   [  0]\n   [  0]\n   [  0]\n   [  0]]\n\n  [[  0]\n   [  0]\n   [  0]\n   [  0]\n   [  0]\n   [  0]\n   [  0]\n   [  0]\n   [  0]\n   [  0]\n   [  0]\n   [  0]\n   [  0]\n   [  0]\n   [  0]\n   [  0]\n   [  0]\n   [  0]\n   [  0]\n   [  0]\n   [  0]\n   [  0]\n   [  0]\n   [  0]\n   [  0]\n   [  0]\n   [  0]\n   [  0]]\n\n  [[  0]\n   [  0]\n   [  0]\n   [  0]\n   [  0]\n   [  0]\n   [  0]\n   [  0]\n   [  0]\n   [  0]\n   [  0]\n   [  0]\n   [  0]\n   [  0]\n   [  0]\n   [  0]\n   [  0]\n   [  0]\n   [  0]\n   [  0]\n   [  0]\n   [  0]\n   [  0]\n   [  0]\n   [  0]\n   [  0]\n   [  0]\n   [  0]]\n\n  [[  0]\n   [  0]\n   [  0]\n   [  0]\n   [  0]\n   [  0]\n   [  0]\n   [  0]\n   [  0]\n   [  0]\n   [  0]\n   [  0]\n   [  0]\n   [  0]\n   [  0]\n   [  0]\n   [  0]\n   [  0]\n   [  0]\n   [  0]\n   [  0]\n   [  0]\n   [  0]\n   [  0]\n   [  0]\n   [  0]\n   [  0]\n   [  0]]\n\n  [[  0]\n   [  0]\n   [  0]\n   [  0]\n   [  0]\n   [  0]\n   [  0]\n   [  0]\n   [  0]\n   [  0]\n   [  0]\n   [  0]\n   [  0]\n   [  0]\n   [  0]\n   [  0]\n   [  0]\n   [  0]\n   [  0]\n   [  0]\n   [  0]\n   [  0]\n   [  0]\n   [  0]\n   [  0]\n   [  0]\n   [  0]\n   [  0]]]], shape=(1, 28, 28, 1), dtype=uint8),\n    tf.Tensor([8], shape=(1,), dtype=int64))\n  input_signature: (\n    TensorSpec(shape=(None, None), dtype=tf.int64, name=None),\n    TensorSpec(shape=(None, None), dtype=tf.int64, name=None))",
     "output_type": "error",
     "traceback": [
      "\u001B[0;31m---------------------------------------------------------------------------\u001B[0m",
      "\u001B[0;31mValueError\u001B[0m                                Traceback (most recent call last)",
      "\u001B[0;32m<ipython-input-123-82e0950eca3b>\u001B[0m in \u001B[0;36m<module>\u001B[0;34m\u001B[0m\n\u001B[1;32m     12\u001B[0m     \u001B[0mprint\u001B[0m\u001B[0;34m(\u001B[0m\u001B[0;34m\"Target\"\u001B[0m\u001B[0;34m)\u001B[0m\u001B[0;34m\u001B[0m\u001B[0;34m\u001B[0m\u001B[0m\n\u001B[1;32m     13\u001B[0m     \u001B[0mprint\u001B[0m\u001B[0;34m(\u001B[0m\u001B[0mdata\u001B[0m\u001B[0;34m[\u001B[0m\u001B[0;34m\"label\"\u001B[0m\u001B[0;34m]\u001B[0m\u001B[0;34m)\u001B[0m\u001B[0;34m\u001B[0m\u001B[0;34m\u001B[0m\u001B[0m\n\u001B[0;32m---> 14\u001B[0;31m     \u001B[0mtrain_step\u001B[0m\u001B[0;34m(\u001B[0m\u001B[0mdata\u001B[0m\u001B[0;34m[\u001B[0m\u001B[0;34m\"image\"\u001B[0m\u001B[0;34m]\u001B[0m\u001B[0;34m,\u001B[0m \u001B[0mdata\u001B[0m\u001B[0;34m[\u001B[0m\u001B[0;34m\"label\"\u001B[0m\u001B[0;34m]\u001B[0m\u001B[0;34m)\u001B[0m\u001B[0;34m\u001B[0m\u001B[0;34m\u001B[0m\u001B[0m\n\u001B[0m\u001B[1;32m     15\u001B[0m \u001B[0;34m\u001B[0m\u001B[0m\n\u001B[1;32m     16\u001B[0m     \u001B[0;32mif\u001B[0m \u001B[0mbatch\u001B[0m \u001B[0;34m%\u001B[0m \u001B[0;36m50\u001B[0m \u001B[0;34m==\u001B[0m \u001B[0;36m0\u001B[0m\u001B[0;34m:\u001B[0m\u001B[0;34m\u001B[0m\u001B[0;34m\u001B[0m\u001B[0m\n",
      "\u001B[0;32m~/.local/lib/python3.8/site-packages/tensorflow/python/eager/def_function.py\u001B[0m in \u001B[0;36m__call__\u001B[0;34m(self, *args, **kwds)\u001B[0m\n\u001B[1;32m    778\u001B[0m       \u001B[0;32melse\u001B[0m\u001B[0;34m:\u001B[0m\u001B[0;34m\u001B[0m\u001B[0;34m\u001B[0m\u001B[0m\n\u001B[1;32m    779\u001B[0m         \u001B[0mcompiler\u001B[0m \u001B[0;34m=\u001B[0m \u001B[0;34m\"nonXla\"\u001B[0m\u001B[0;34m\u001B[0m\u001B[0;34m\u001B[0m\u001B[0m\n\u001B[0;32m--> 780\u001B[0;31m         \u001B[0mresult\u001B[0m \u001B[0;34m=\u001B[0m \u001B[0mself\u001B[0m\u001B[0;34m.\u001B[0m\u001B[0m_call\u001B[0m\u001B[0;34m(\u001B[0m\u001B[0;34m*\u001B[0m\u001B[0margs\u001B[0m\u001B[0;34m,\u001B[0m \u001B[0;34m**\u001B[0m\u001B[0mkwds\u001B[0m\u001B[0;34m)\u001B[0m\u001B[0;34m\u001B[0m\u001B[0;34m\u001B[0m\u001B[0m\n\u001B[0m\u001B[1;32m    781\u001B[0m \u001B[0;34m\u001B[0m\u001B[0m\n\u001B[1;32m    782\u001B[0m       \u001B[0mnew_tracing_count\u001B[0m \u001B[0;34m=\u001B[0m \u001B[0mself\u001B[0m\u001B[0;34m.\u001B[0m\u001B[0m_get_tracing_count\u001B[0m\u001B[0;34m(\u001B[0m\u001B[0;34m)\u001B[0m\u001B[0;34m\u001B[0m\u001B[0;34m\u001B[0m\u001B[0m\n",
      "\u001B[0;32m~/.local/lib/python3.8/site-packages/tensorflow/python/eager/def_function.py\u001B[0m in \u001B[0;36m_call\u001B[0;34m(self, *args, **kwds)\u001B[0m\n\u001B[1;32m    812\u001B[0m       \u001B[0;31m# In this case we have not created variables on the first call. So we can\u001B[0m\u001B[0;34m\u001B[0m\u001B[0;34m\u001B[0m\u001B[0;34m\u001B[0m\u001B[0m\n\u001B[1;32m    813\u001B[0m       \u001B[0;31m# run the first trace but we should fail if variables are created.\u001B[0m\u001B[0;34m\u001B[0m\u001B[0;34m\u001B[0m\u001B[0;34m\u001B[0m\u001B[0m\n\u001B[0;32m--> 814\u001B[0;31m       \u001B[0mresults\u001B[0m \u001B[0;34m=\u001B[0m \u001B[0mself\u001B[0m\u001B[0;34m.\u001B[0m\u001B[0m_stateful_fn\u001B[0m\u001B[0;34m(\u001B[0m\u001B[0;34m*\u001B[0m\u001B[0margs\u001B[0m\u001B[0;34m,\u001B[0m \u001B[0;34m**\u001B[0m\u001B[0mkwds\u001B[0m\u001B[0;34m)\u001B[0m\u001B[0;34m\u001B[0m\u001B[0;34m\u001B[0m\u001B[0m\n\u001B[0m\u001B[1;32m    815\u001B[0m       \u001B[0;32mif\u001B[0m \u001B[0mself\u001B[0m\u001B[0;34m.\u001B[0m\u001B[0m_created_variables\u001B[0m\u001B[0;34m:\u001B[0m\u001B[0;34m\u001B[0m\u001B[0;34m\u001B[0m\u001B[0m\n\u001B[1;32m    816\u001B[0m         raise ValueError(\"Creating variables on a non-first call to a function\"\n",
      "\u001B[0;32m~/.local/lib/python3.8/site-packages/tensorflow/python/eager/function.py\u001B[0m in \u001B[0;36m__call__\u001B[0;34m(self, *args, **kwargs)\u001B[0m\n\u001B[1;32m   2826\u001B[0m     \u001B[0;34m\"\"\"Calls a graph function specialized to the inputs.\"\"\"\u001B[0m\u001B[0;34m\u001B[0m\u001B[0;34m\u001B[0m\u001B[0m\n\u001B[1;32m   2827\u001B[0m     \u001B[0;32mwith\u001B[0m \u001B[0mself\u001B[0m\u001B[0;34m.\u001B[0m\u001B[0m_lock\u001B[0m\u001B[0;34m:\u001B[0m\u001B[0;34m\u001B[0m\u001B[0;34m\u001B[0m\u001B[0m\n\u001B[0;32m-> 2828\u001B[0;31m       \u001B[0mgraph_function\u001B[0m\u001B[0;34m,\u001B[0m \u001B[0margs\u001B[0m\u001B[0;34m,\u001B[0m \u001B[0mkwargs\u001B[0m \u001B[0;34m=\u001B[0m \u001B[0mself\u001B[0m\u001B[0;34m.\u001B[0m\u001B[0m_maybe_define_function\u001B[0m\u001B[0;34m(\u001B[0m\u001B[0margs\u001B[0m\u001B[0;34m,\u001B[0m \u001B[0mkwargs\u001B[0m\u001B[0;34m)\u001B[0m\u001B[0;34m\u001B[0m\u001B[0;34m\u001B[0m\u001B[0m\n\u001B[0m\u001B[1;32m   2829\u001B[0m     \u001B[0;32mreturn\u001B[0m \u001B[0mgraph_function\u001B[0m\u001B[0;34m.\u001B[0m\u001B[0m_filtered_call\u001B[0m\u001B[0;34m(\u001B[0m\u001B[0margs\u001B[0m\u001B[0;34m,\u001B[0m \u001B[0mkwargs\u001B[0m\u001B[0;34m)\u001B[0m  \u001B[0;31m# pylint: disable=protected-access\u001B[0m\u001B[0;34m\u001B[0m\u001B[0;34m\u001B[0m\u001B[0m\n\u001B[1;32m   2830\u001B[0m \u001B[0;34m\u001B[0m\u001B[0m\n",
      "\u001B[0;32m~/.local/lib/python3.8/site-packages/tensorflow/python/eager/function.py\u001B[0m in \u001B[0;36m_maybe_define_function\u001B[0;34m(self, args, kwargs)\u001B[0m\n\u001B[1;32m   3168\u001B[0m     \"\"\"\n\u001B[1;32m   3169\u001B[0m     \u001B[0;32mif\u001B[0m \u001B[0mself\u001B[0m\u001B[0;34m.\u001B[0m\u001B[0minput_signature\u001B[0m \u001B[0;32mis\u001B[0m \u001B[0;32mNone\u001B[0m \u001B[0;32mor\u001B[0m \u001B[0margs\u001B[0m \u001B[0;32mis\u001B[0m \u001B[0;32mnot\u001B[0m \u001B[0;32mNone\u001B[0m \u001B[0;32mor\u001B[0m \u001B[0mkwargs\u001B[0m \u001B[0;32mis\u001B[0m \u001B[0;32mnot\u001B[0m \u001B[0;32mNone\u001B[0m\u001B[0;34m:\u001B[0m\u001B[0;34m\u001B[0m\u001B[0;34m\u001B[0m\u001B[0m\n\u001B[0;32m-> 3170\u001B[0;31m       args, kwargs = self._function_spec.canonicalize_function_inputs(\n\u001B[0m\u001B[1;32m   3171\u001B[0m           *args, **kwargs)\n\u001B[1;32m   3172\u001B[0m \u001B[0;34m\u001B[0m\u001B[0m\n",
      "\u001B[0;32m~/.local/lib/python3.8/site-packages/tensorflow/python/eager/function.py\u001B[0m in \u001B[0;36mcanonicalize_function_inputs\u001B[0;34m(self, *args, **kwargs)\u001B[0m\n\u001B[1;32m   2617\u001B[0m     \u001B[0;32melse\u001B[0m\u001B[0;34m:\u001B[0m\u001B[0;34m\u001B[0m\u001B[0;34m\u001B[0m\u001B[0m\n\u001B[1;32m   2618\u001B[0m       \u001B[0;32massert\u001B[0m \u001B[0;32mnot\u001B[0m \u001B[0mkwargs\u001B[0m\u001B[0;34m\u001B[0m\u001B[0;34m\u001B[0m\u001B[0m\n\u001B[0;32m-> 2619\u001B[0;31m       inputs = _convert_inputs_to_signature(\n\u001B[0m\u001B[1;32m   2620\u001B[0m           \u001B[0minputs\u001B[0m\u001B[0;34m,\u001B[0m\u001B[0;34m\u001B[0m\u001B[0;34m\u001B[0m\u001B[0m\n\u001B[1;32m   2621\u001B[0m           \u001B[0mself\u001B[0m\u001B[0;34m.\u001B[0m\u001B[0m_input_signature\u001B[0m\u001B[0;34m,\u001B[0m\u001B[0;34m\u001B[0m\u001B[0;34m\u001B[0m\u001B[0m\n",
      "\u001B[0;32m~/.local/lib/python3.8/site-packages/tensorflow/python/eager/function.py\u001B[0m in \u001B[0;36m_convert_inputs_to_signature\u001B[0;34m(inputs, input_signature, flat_input_signature)\u001B[0m\n\u001B[1;32m   2710\u001B[0m       \u001B[0mflat_input_signature\u001B[0m\u001B[0;34m,\u001B[0m\u001B[0;34m\u001B[0m\u001B[0;34m\u001B[0m\u001B[0m\n\u001B[1;32m   2711\u001B[0m       flatten_inputs)):\n\u001B[0;32m-> 2712\u001B[0;31m     raise ValueError(\"Python inputs incompatible with input_signature:\\n%s\" %\n\u001B[0m\u001B[1;32m   2713\u001B[0m                      format_error_message(inputs, input_signature))\n\u001B[1;32m   2714\u001B[0m \u001B[0;34m\u001B[0m\u001B[0m\n",
      "\u001B[0;31mValueError\u001B[0m: Python inputs incompatible with input_signature:\n  inputs: (\n    tf.Tensor(\n[[[[  0]\n   [  0]\n   [  0]\n   [  0]\n   [  0]\n   [  0]\n   [  0]\n   [  0]\n   [  0]\n   [  0]\n   [  0]\n   [  0]\n   [  0]\n   [  0]\n   [  0]\n   [  0]\n   [  0]\n   [  0]\n   [  0]\n   [  0]\n   [  0]\n   [  0]\n   [  0]\n   [  0]\n   [  0]\n   [  0]\n   [  0]\n   [  0]]\n\n  [[  0]\n   [  0]\n   [  0]\n   [  0]\n   [  0]\n   [  0]\n   [  0]\n   [  0]\n   [  0]\n   [  0]\n   [  0]\n   [  0]\n   [  0]\n   [  0]\n   [  0]\n   [  0]\n   [  0]\n   [  0]\n   [  0]\n   [  0]\n   [  0]\n   [  0]\n   [  0]\n   [  0]\n   [  0]\n   [  0]\n   [  0]\n   [  0]]\n\n  [[  0]\n   [  0]\n   [  0]\n   [  0]\n   [  0]\n   [  0]\n   [  0]\n   [  0]\n   [  0]\n   [  0]\n   [  0]\n   [  0]\n   [  0]\n   [  0]\n   [  0]\n   [  0]\n   [  0]\n   [  0]\n   [  0]\n   [  0]\n   [  0]\n   [  0]\n   [  0]\n   [  0]\n   [  0]\n   [  0]\n   [  0]\n   [  0]]\n\n  [[  0]\n   [  0]\n   [  0]\n   [  0]\n   [  0]\n   [  0]\n   [  0]\n   [  0]\n   [  0]\n   [  0]\n   [  0]\n   [  0]\n   [  0]\n   [  0]\n   [  0]\n   [  0]\n   [  0]\n   [  0]\n   [  0]\n   [  0]\n   [  0]\n   [  0]\n   [  0]\n   [  0]\n   [  0]\n   [  0]\n   [  0]\n   [  0]]\n\n  [[  0]\n   [  0]\n   [  0]\n   [  0]\n   [  0]\n   [  0]\n   [  0]\n   [  0]\n   [  0]\n   [  0]\n   [  0]\n   [ 16]\n   [119]\n   [169]\n   [254]\n   [163]\n   [163]\n   [118]\n   [ 16]\n   [  0]\n   [  0]\n   [  0]\n   [  0]\n   [  0]\n   [  0]\n   [  0]\n   [  0]\n   [  0]]\n\n  [[  0]\n   [  0]\n   [  0]\n   [  0]\n   [  0]\n   [  0]\n   [  0]\n   [  0]\n   [  0]\n   [ 20]\n   [139]\n   [239]\n   [253]\n   [253]\n   [253]\n   [254]\n   [253]\n   [253]\n   [233]\n   [ 94]\n   [  0]\n   [  0]\n   [  0]\n   [  0]\n   [  0]\n   [  0]\n   [  0]\n   [  0]]\n\n  [[  0]\n   [  0]\n   [  0]\n   [  0]\n   [  0]\n   [  0]\n   [  0]\n   [  0]\n   [  0]\n   [ 91]\n   [254]\n   [253]\n   [247]\n   [145]\n   [127]\n   [ 36]\n   [ 36]\n   [ 49]\n   [213]\n   [240]\n   [ 46]\n   [  0]\n   [  0]\n   [  0]\n   [  0]\n   [  0]\n   [  0]\n   [  0]]\n\n  [[  0]\n   [  0]\n   [  0]\n   [  0]\n   [  0]\n   [  0]\n   [  0]\n   [  0]\n   [  0]\n   [162]\n   [254]\n   [203]\n   [ 46]\n   [  0]\n   [  0]\n   [  0]\n   [  0]\n   [  0]\n   [ 70]\n   [253]\n   [ 91]\n   [  0]\n   [  0]\n   [  0]\n   [  0]\n   [  0]\n   [  0]\n   [  0]]\n\n  [[  0]\n   [  0]\n   [  0]\n   [  0]\n   [  0]\n   [  0]\n   [  0]\n   [  0]\n   [  0]\n   [181]\n   [228]\n   [ 37]\n   [  0]\n   [  0]\n   [  0]\n   [  0]\n   [  0]\n   [  0]\n   [  6]\n   [201]\n   [ 91]\n   [  0]\n   [  0]\n   [  0]\n   [  0]\n   [  0]\n   [  0]\n   [  0]]\n\n  [[  0]\n   [  0]\n   [  0]\n   [  0]\n   [  0]\n   [  0]\n   [  0]\n   [  0]\n   [  7]\n   [207]\n   [124]\n   [  0]\n   [  0]\n   [  0]\n   [  0]\n   [  0]\n   [  0]\n   [  0]\n   [ 38]\n   [228]\n   [ 92]\n   [  0]\n   [  0]\n   [  0]\n   [  0]\n   [  0]\n   [  0]\n   [  0]]\n\n  [[  0]\n   [  0]\n   [  0]\n   [  0]\n   [  0]\n   [  0]\n   [  0]\n   [  0]\n   [  0]\n   [181]\n   [111]\n   [  0]\n   [  0]\n   [  0]\n   [  0]\n   [  0]\n   [  0]\n   [ 60]\n   [224]\n   [253]\n   [  7]\n   [  0]\n   [  0]\n   [  0]\n   [  0]\n   [  0]\n   [  0]\n   [  0]]\n\n  [[  0]\n   [  0]\n   [  0]\n   [  0]\n   [  0]\n   [  0]\n   [  0]\n   [  0]\n   [  0]\n   [168]\n   [217]\n   [ 35]\n   [  6]\n   [ 37]\n   [ 69]\n   [128]\n   [211]\n   [248]\n   [253]\n   [ 98]\n   [  0]\n   [  0]\n   [  0]\n   [  0]\n   [  0]\n   [  0]\n   [  0]\n   [  0]]\n\n  [[  0]\n   [  0]\n   [  0]\n   [  0]\n   [  0]\n   [  0]\n   [  0]\n   [  0]\n   [  0]\n   [ 91]\n   [254]\n   [241]\n   [207]\n   [253]\n   [253]\n   [254]\n   [253]\n   [253]\n   [253]\n   [149]\n   [  7]\n   [  0]\n   [  0]\n   [  0]\n   [  0]\n   [  0]\n   [  0]\n   [  0]]\n\n  [[  0]\n   [  0]\n   [  0]\n   [  0]\n   [  0]\n   [  0]\n   [  0]\n   [  0]\n   [  0]\n   [ 26]\n   [221]\n   [253]\n   [253]\n   [253]\n   [253]\n   [254]\n   [253]\n   [253]\n   [253]\n   [253]\n   [149]\n   [  7]\n   [  0]\n   [  0]\n   [  0]\n   [  0]\n   [  0]\n   [  0]]\n\n  [[  0]\n   [  0]\n   [  0]\n   [  0]\n   [  0]\n   [  0]\n   [  0]\n   [  0]\n   [  6]\n   [170]\n   [255]\n   [254]\n   [254]\n   [248]\n   [181]\n   [124]\n   [142]\n   [ 58]\n   [  7]\n   [124]\n   [255]\n   [109]\n   [  0]\n   [  0]\n   [  0]\n   [  0]\n   [  0]\n   [  0]]\n\n  [[  0]\n   [  0]\n   [  0]\n   [  0]\n   [  0]\n   [  0]\n   [  0]\n   [  0]\n   [123]\n   [253]\n   [238]\n   [ 95]\n   [ 18]\n   [ 17]\n   [  0]\n   [  0]\n   [  0]\n   [  0]\n   [  0]\n   [  0]\n   [169]\n   [223]\n   [ 21]\n   [  0]\n   [  0]\n   [  0]\n   [  0]\n   [  0]]\n\n  [[  0]\n   [  0]\n   [  0]\n   [  0]\n   [  0]\n   [  0]\n   [  0]\n   [ 19]\n   [226]\n   [240]\n   [ 58]\n   [  0]\n   [  0]\n   [  0]\n   [  0]\n   [  0]\n   [  0]\n   [  0]\n   [  0]\n   [  0]\n   [118]\n   [253]\n   [ 36]\n   [  0]\n   [  0]\n   [  0]\n   [  0]\n   [  0]]\n\n  [[  0]\n   [  0]\n   [  0]\n   [  0]\n   [  0]\n   [  0]\n   [  0]\n   [108]\n   [251]\n   [119]\n   [  0]\n   [  0]\n   [  0]\n   [  0]\n   [  0]\n   [  0]\n   [  0]\n   [  0]\n   [  0]\n   [  0]\n   [112]\n   [253]\n   [ 36]\n   [  0]\n   [  0]\n   [  0]\n   [  0]\n   [  0]]\n\n  [[  0]\n   [  0]\n   [  0]\n   [  0]\n   [  0]\n   [  0]\n   [  0]\n   [128]\n   [235]\n   [  0]\n   [  0]\n   [  0]\n   [  0]\n   [  0]\n   [  0]\n   [  0]\n   [  0]\n   [  0]\n   [  0]\n   [ 33]\n   [228]\n   [253]\n   [ 36]\n   [  0]\n   [  0]\n   [  0]\n   [  0]\n   [  0]]\n\n  [[  0]\n   [  0]\n   [  0]\n   [  0]\n   [  0]\n   [  0]\n   [  0]\n   [128]\n   [235]\n   [  0]\n   [  0]\n   [  0]\n   [  0]\n   [  0]\n   [  0]\n   [  0]\n   [  0]\n   [  0]\n   [ 64]\n   [228]\n   [255]\n   [140]\n   [  0]\n   [  0]\n   [  0]\n   [  0]\n   [  0]\n   [  0]]\n\n  [[  0]\n   [  0]\n   [  0]\n   [  0]\n   [  0]\n   [  0]\n   [  0]\n   [128]\n   [251]\n   [138]\n   [  0]\n   [  0]\n   [  0]\n   [  0]\n   [  0]\n   [  0]\n   [ 51]\n   [145]\n   [249]\n   [253]\n   [192]\n   [ 14]\n   [  0]\n   [  0]\n   [  0]\n   [  0]\n   [  0]\n   [  0]]\n\n  [[  0]\n   [  0]\n   [  0]\n   [  0]\n   [  0]\n   [  0]\n   [  0]\n   [109]\n   [245]\n   [253]\n   [192]\n   [108]\n   [ 37]\n   [ 43]\n   [128]\n   [186]\n   [250]\n   [253]\n   [250]\n   [151]\n   [ 13]\n   [  0]\n   [  0]\n   [  0]\n   [  0]\n   [  0]\n   [  0]\n   [  0]]\n\n  [[  0]\n   [  0]\n   [  0]\n   [  0]\n   [  0]\n   [  0]\n   [  0]\n   [  0]\n   [114]\n   [215]\n   [254]\n   [253]\n   [253]\n   [253]\n   [253]\n   [254]\n   [253]\n   [159]\n   [ 69]\n   [  0]\n   [  0]\n   [  0]\n   [  0]\n   [  0]\n   [  0]\n   [  0]\n   [  0]\n   [  0]]\n\n  [[  0]\n   [  0]\n   [  0]\n   [  0]\n   [  0]\n   [  0]\n   [  0]\n   [  0]\n   [  0]\n   [ 59]\n   [189]\n   [201]\n   [240]\n   [253]\n   [253]\n   [163]\n   [ 78]\n   [ 11]\n   [  0]\n   [  0]\n   [  0]\n   [  0]\n   [  0]\n   [  0]\n   [  0]\n   [  0]\n   [  0]\n   [  0]]\n\n  [[  0]\n   [  0]\n   [  0]\n   [  0]\n   [  0]\n   [  0]\n   [  0]\n   [  0]\n   [  0]\n   [  0]\n   [  0]\n   [  0]\n   [  0]\n   [  0]\n   [  0]\n   [  0]\n   [  0]\n   [  0]\n   [  0]\n   [  0]\n   [  0]\n   [  0]\n   [  0]\n   [  0]\n   [  0]\n   [  0]\n   [  0]\n   [  0]]\n\n  [[  0]\n   [  0]\n   [  0]\n   [  0]\n   [  0]\n   [  0]\n   [  0]\n   [  0]\n   [  0]\n   [  0]\n   [  0]\n   [  0]\n   [  0]\n   [  0]\n   [  0]\n   [  0]\n   [  0]\n   [  0]\n   [  0]\n   [  0]\n   [  0]\n   [  0]\n   [  0]\n   [  0]\n   [  0]\n   [  0]\n   [  0]\n   [  0]]\n\n  [[  0]\n   [  0]\n   [  0]\n   [  0]\n   [  0]\n   [  0]\n   [  0]\n   [  0]\n   [  0]\n   [  0]\n   [  0]\n   [  0]\n   [  0]\n   [  0]\n   [  0]\n   [  0]\n   [  0]\n   [  0]\n   [  0]\n   [  0]\n   [  0]\n   [  0]\n   [  0]\n   [  0]\n   [  0]\n   [  0]\n   [  0]\n   [  0]]\n\n  [[  0]\n   [  0]\n   [  0]\n   [  0]\n   [  0]\n   [  0]\n   [  0]\n   [  0]\n   [  0]\n   [  0]\n   [  0]\n   [  0]\n   [  0]\n   [  0]\n   [  0]\n   [  0]\n   [  0]\n   [  0]\n   [  0]\n   [  0]\n   [  0]\n   [  0]\n   [  0]\n   [  0]\n   [  0]\n   [  0]\n   [  0]\n   [  0]]]], shape=(1, 28, 28, 1), dtype=uint8),\n    tf.Tensor([8], shape=(1,), dtype=int64))\n  input_signature: (\n    TensorSpec(shape=(None, None), dtype=tf.int64, name=None),\n    TensorSpec(shape=(None, None), dtype=tf.int64, name=None))"
     ]
    }
   ],
   "source": [
    "for epoch in range(EPOCHS):\n",
    "  start = time.time()\n",
    "  \n",
    "  train_loss.reset_states()\n",
    "  train_accuracy.reset_states()\n",
    "  \n",
    "  # inp -> portuguese, tar -> english\n",
    "  for (batch, data) in enumerate(train_mnist):\n",
    "    print(batch)\n",
    "    print(\"Input\")\n",
    "    print(data[\"image\"])\n",
    "    print(\"Target\")\n",
    "    print(data[\"label\"])\n",
    "    train_step(data[\"image\"], data[\"label\"])\n",
    "    \n",
    "    if batch % 50 == 0:\n",
    "      print ('Epoch {} Batch {} Loss {:.4f} Accuracy {:.4f}'.format(\n",
    "          epoch + 1, batch, train_loss.result(), train_accuracy.result()))\n",
    "      \n",
    "  if (epoch + 1) % 5 == 0:\n",
    "    ckpt_save_path = ckpt_manager.save()\n",
    "    print ('Saving checkpoint for epoch {} at {}'.format(epoch+1,\n",
    "                                                         ckpt_save_path))\n",
    "    \n",
    "  print ('Epoch {} Loss {:.4f} Accuracy {:.4f}'.format(epoch + 1, \n",
    "                                                train_loss.result(), \n",
    "                                                train_accuracy.result()))\n",
    "\n",
    "  print ('Time taken for 1 epoch: {} secs\\n'.format(time.time() - start))"
   ]
  },
  {
   "cell_type": "code",
   "execution_count": null,
   "metadata": {
    "execution": {
     "iopub.execute_input": "2020-11-02T04:16:37.772962Z",
     "iopub.status.busy": "2020-11-02T04:16:37.772298Z",
     "iopub.status.idle": "2020-11-02T04:16:37.774529Z",
     "shell.execute_reply": "2020-11-02T04:16:37.774013Z"
    },
    "id": "CN-BV43FMBej"
   },
   "outputs": [],
   "source": [
    "## Evaluate"
   ]
  },
  {
   "cell_type": "code",
   "execution_count": null,
   "metadata": {
    "execution": {
     "iopub.execute_input": "2020-11-02T04:16:37.779773Z",
     "iopub.status.busy": "2020-11-02T04:16:37.779103Z",
     "iopub.status.idle": "2020-11-02T04:16:37.781360Z",
     "shell.execute_reply": "2020-11-02T04:16:37.780888Z"
    },
    "id": "lU2_yG_vBGza"
   },
   "outputs": [],
   "source": [
    "def translate(sentence, plot=''):\n",
    "  result, attention_weights = evaluate(sentence)\n",
    "  \n",
    "  predicted_sentence = tokenizer_en.decode([i for i in result \n",
    "                                            if i < tokenizer_en.vocab_size])  \n",
    "\n",
    "  print('Input: {}'.format(sentence))\n",
    "  print('Predicted translation: {}'.format(predicted_sentence))\n",
    "  \n",
    "  if plot:\n",
    "    plot_attention_weights(attention_weights, sentence, result, plot)"
   ]
  },
  {
   "cell_type": "code",
   "execution_count": null,
   "metadata": {
    "execution": {
     "iopub.execute_input": "2020-11-02T04:16:37.785148Z",
     "iopub.status.busy": "2020-11-02T04:16:37.784487Z",
     "iopub.status.idle": "2020-11-02T04:16:39.025891Z",
     "shell.execute_reply": "2020-11-02T04:16:39.025281Z"
    },
    "id": "YsxrAlvFG8SZ"
   },
   "outputs": [],
   "source": [
    "translate(\"este é um problema que temos que resolver.\")\n",
    "print (\"Real translation: this is a problem we have to solve .\")"
   ]
  },
  {
   "cell_type": "code",
   "execution_count": null,
   "metadata": {
    "execution": {
     "iopub.execute_input": "2020-11-02T04:16:39.030035Z",
     "iopub.status.busy": "2020-11-02T04:16:39.029378Z",
     "iopub.status.idle": "2020-11-02T04:16:39.764247Z",
     "shell.execute_reply": "2020-11-02T04:16:39.763740Z"
    },
    "id": "7EH5y_aqI4t1"
   },
   "outputs": [],
   "source": [
    "translate(\"os meus vizinhos ouviram sobre esta ideia.\")\n",
    "print (\"Real translation: and my neighboring homes heard about this idea .\")"
   ]
  },
  {
   "cell_type": "code",
   "execution_count": null,
   "metadata": {
    "execution": {
     "iopub.execute_input": "2020-11-02T04:16:39.769311Z",
     "iopub.status.busy": "2020-11-02T04:16:39.768606Z",
     "iopub.status.idle": "2020-11-02T04:16:42.049202Z",
     "shell.execute_reply": "2020-11-02T04:16:42.049631Z"
    },
    "id": "J-hVCTSUMlkb"
   },
   "outputs": [],
   "source": [
    "translate(\"vou então muito rapidamente partilhar convosco algumas histórias de algumas coisas mágicas que aconteceram.\")\n",
    "print (\"Real translation: so i 'll just share with you some stories very quickly of some magical things that have happened .\")"
   ]
  },
  {
   "cell_type": "markdown",
   "metadata": {
    "id": "_1MxkSZvz0jX"
   },
   "source": [
    "You can pass different layers and attention blocks of the decoder to the `plot` parameter."
   ]
  },
  {
   "cell_type": "code",
   "execution_count": null,
   "metadata": {
    "execution": {
     "iopub.execute_input": "2020-11-02T04:16:42.054286Z",
     "iopub.status.busy": "2020-11-02T04:16:42.053550Z",
     "iopub.status.idle": "2020-11-02T04:16:43.727809Z",
     "shell.execute_reply": "2020-11-02T04:16:43.728233Z"
    },
    "id": "t-kFyiOLH0xg"
   },
   "outputs": [],
   "source": [
    "translate(\"este é o primeiro livro que eu fiz.\", plot='decoder_layer4_block2')\n",
    "print (\"Real translation: this is the first book i've ever done.\")"
   ]
  },
  {
   "cell_type": "markdown",
   "metadata": {
    "id": "RqQ1fIsLwkGE"
   },
   "source": [
    "## Summary\n",
    "\n",
    "In this tutorial, you learned about positional encoding, multi-head attention, the importance of masking and how to create a transformer.\n",
    "\n",
    "Try using a different dataset to train the transformer. You can also create the base transformer or transformer XL by changing the hyperparameters above. You can also use the layers defined here to create [BERT](https://arxiv.org/abs/1810.04805) and train state of the art models. Futhermore, you can implement beam search to get better predictions."
   ]
  }
 ],
 "metadata": {
  "accelerator": "GPU",
  "colab": {
   "collapsed_sections": [
    "s_qNSzzyaCbD"
   ],
   "name": "transformer.ipynb",
   "toc_visible": true
  },
  "kernelspec": {
   "display_name": "Python 3",
   "language": "python",
   "name": "python3"
  },
  "language_info": {
   "codemirror_mode": {
    "name": "ipython",
    "version": 3
   },
   "file_extension": ".py",
   "mimetype": "text/x-python",
   "name": "python",
   "nbconvert_exporter": "python",
   "pygments_lexer": "ipython3",
   "version": "3.8.5"
  }
 },
 "nbformat": 4,
 "nbformat_minor": 1
}