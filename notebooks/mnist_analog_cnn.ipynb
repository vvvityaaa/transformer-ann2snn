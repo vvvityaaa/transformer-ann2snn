{
 "cells": [
  {
   "cell_type": "code",
   "execution_count": 1,
   "metadata": {},
   "outputs": [],
   "source": [
    "import tensorflow as tf\n",
    "import tensorflow_datasets as tfds\n",
    "from absl import app\n",
    "from absl import flags\n",
    "import numpy as np\n",
    "from spiking_tf.src import spiking_models, plots, file_handling"
   ]
  },
  {
   "cell_type": "code",
   "execution_count": 2,
   "metadata": {},
   "outputs": [],
   "source": [
    "timesteps = 1\n",
    "max_rate = 2\n",
    "\n",
    "\n",
    "n_in = 28*28\n",
    "n_hidden = 800\n",
    "n_out = 10\n",
    "\n",
    "batch_size = 128\n",
    "epochs = 1\n",
    "\n",
    "thr = 0.1\n",
    "tau = 10.0\n",
    "\n",
    "output_path = file_handling.get_default_path_str()"
   ]
  },
  {
   "cell_type": "code",
   "execution_count": null,
   "metadata": {},
   "outputs": [],
   "source": []
  }
 ],
 "metadata": {
  "kernelspec": {
   "display_name": "Python 3",
   "language": "python",
   "name": "python3"
  },
  "language_info": {
   "codemirror_mode": {
    "name": "ipython",
    "version": 3
   },
   "file_extension": ".py",
   "mimetype": "text/x-python",
   "name": "python",
   "nbconvert_exporter": "python",
   "pygments_lexer": "ipython3",
   "version": "3.8.5"
  }
 },
 "nbformat": 4,
 "nbformat_minor": 1
}
