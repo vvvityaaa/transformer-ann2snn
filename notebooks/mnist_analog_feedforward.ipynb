{
 "cells": [
  {
   "cell_type": "code",
   "execution_count": 1,
   "metadata": {},
   "outputs": [],
   "source": [
    "%load_ext tensorboard\n",
    "import tensorflow as tf\n",
    "import tensorflow_datasets as tfds\n",
    "from absl import app\n",
    "from absl import flags\n",
    "import numpy as np\n",
    "from spiking_tf.src import spiking_models, plots, file_handling\n",
    "import datetime"
   ]
  },
  {
   "cell_type": "code",
   "execution_count": 2,
   "metadata": {},
   "outputs": [],
   "source": [
    "timesteps = 1\n",
    "max_rate = 2\n",
    "\n",
    "n_in = 28*28\n",
    "n_hidden = 800\n",
    "n_out = 10\n",
    "\n",
    "batch_size = 128\n",
    "epochs = 10\n",
    "\n",
    "output_path = file_handling.get_default_path_str()"
   ]
  },
  {
   "cell_type": "code",
   "execution_count": 3,
   "metadata": {},
   "outputs": [],
   "source": [
    "def flatten(image, label):\n",
    "    '''Transform image to the flattened version of itself'''\n",
    "    flattened = tf.reshape(image, [28*28])\n",
    "    flattened = tf.expand_dims(flattened, 0)\n",
    "    return tf.cast(flattened, tf.float32), label"
   ]
  },
  {
   "cell_type": "code",
   "execution_count": 4,
   "metadata": {},
   "outputs": [
    {
     "name": "stdout",
     "output_type": "stream",
     "text": [
      "<PrefetchDataset shapes: ((None, 1, 784), (None,)), types: (tf.float32, tf.int64)>\n"
     ]
    }
   ],
   "source": [
    "tf.random.set_seed(1234)\n",
    "\n",
    "(ds_train, ds_test) = tfds.load(\n",
    "    'mnist',\n",
    "    split=['train', 'test'],\n",
    "    shuffle_files=True,\n",
    "    as_supervised=True\n",
    ")\n",
    "ds_train = ds_train.map(\n",
    "    flatten, num_parallel_calls=tf.data.experimental.AUTOTUNE)\n",
    "ds_train = ds_train.cache()\n",
    "ds_train = ds_train.shuffle(batch_size)\n",
    "ds_train = ds_train.batch(batch_size)\n",
    "ds_train = ds_train.prefetch(tf.data.experimental.AUTOTUNE)\n",
    "print(ds_train)\n",
    "\n",
    "ds_test = ds_test.map(\n",
    "    flatten, num_parallel_calls=tf.data.experimental.AUTOTUNE)\n",
    "ds_test = ds_test.batch(batch_size)\n",
    "ds_test = ds_test.cache()\n",
    "ds_test = ds_test.prefetch(tf.data.experimental.AUTOTUNE)"
   ]
  },
  {
   "cell_type": "code",
   "execution_count": 5,
   "metadata": {},
   "outputs": [
    {
     "name": "stdout",
     "output_type": "stream",
     "text": [
      "Epoch 1/10\n",
      "WARNING:tensorflow:Model was constructed with shape (None, 784) for input Tensor(\"dense_input:0\", shape=(None, 784), dtype=float32), but it was called on an input with incompatible shape (None, 1, 784).\n"
     ]
    },
    {
     "name": "stderr",
     "output_type": "stream",
     "text": [
      "WARNING:tensorflow:Model was constructed with shape (None, 784) for input Tensor(\"dense_input:0\", shape=(None, 784), dtype=float32), but it was called on an input with incompatible shape (None, 1, 784).\n"
     ]
    },
    {
     "name": "stdout",
     "output_type": "stream",
     "text": [
      "WARNING:tensorflow:Model was constructed with shape (None, 784) for input Tensor(\"dense_input:0\", shape=(None, 784), dtype=float32), but it was called on an input with incompatible shape (None, 1, 784).\n"
     ]
    },
    {
     "name": "stderr",
     "output_type": "stream",
     "text": [
      "WARNING:tensorflow:Model was constructed with shape (None, 784) for input Tensor(\"dense_input:0\", shape=(None, 784), dtype=float32), but it was called on an input with incompatible shape (None, 1, 784).\n"
     ]
    },
    {
     "name": "stdout",
     "output_type": "stream",
     "text": [
      "  1/469 [..............................] - ETA: 0s - loss: 177.5513 - sparse_categorical_accuracy: 0.1016WARNING:tensorflow:From /home/viktor/.local/lib/python3.8/site-packages/tensorflow/python/ops/summary_ops_v2.py:1277: stop (from tensorflow.python.eager.profiler) is deprecated and will be removed after 2020-07-01.\n",
      "Instructions for updating:\n",
      "use `tf.profiler.experimental.stop` instead.\n"
     ]
    },
    {
     "name": "stderr",
     "output_type": "stream",
     "text": [
      "WARNING:tensorflow:From /home/viktor/.local/lib/python3.8/site-packages/tensorflow/python/ops/summary_ops_v2.py:1277: stop (from tensorflow.python.eager.profiler) is deprecated and will be removed after 2020-07-01.\n",
      "Instructions for updating:\n",
      "use `tf.profiler.experimental.stop` instead.\n"
     ]
    },
    {
     "name": "stdout",
     "output_type": "stream",
     "text": [
      "  2/469 [..............................] - ETA: 15s - loss: 155.3503 - sparse_categorical_accuracy: 0.1289WARNING:tensorflow:Callbacks method `on_train_batch_end` is slow compared to the batch time (batch time: 0.0162s vs `on_train_batch_end` time: 0.0508s). Check your callbacks.\n"
     ]
    },
    {
     "name": "stderr",
     "output_type": "stream",
     "text": [
      "WARNING:tensorflow:Callbacks method `on_train_batch_end` is slow compared to the batch time (batch time: 0.0162s vs `on_train_batch_end` time: 0.0508s). Check your callbacks.\n"
     ]
    },
    {
     "name": "stdout",
     "output_type": "stream",
     "text": [
      "461/469 [============================>.] - ETA: 0s - loss: 5.0067 - sparse_categorical_accuracy: 0.9104WARNING:tensorflow:Model was constructed with shape (None, 784) for input Tensor(\"dense_input:0\", shape=(None, 784), dtype=float32), but it was called on an input with incompatible shape (None, 1, 784).\n"
     ]
    },
    {
     "name": "stderr",
     "output_type": "stream",
     "text": [
      "WARNING:tensorflow:Model was constructed with shape (None, 784) for input Tensor(\"dense_input:0\", shape=(None, 784), dtype=float32), but it was called on an input with incompatible shape (None, 1, 784).\n"
     ]
    },
    {
     "name": "stdout",
     "output_type": "stream",
     "text": [
      "469/469 [==============================] - 2s 5ms/step - loss: 4.9389 - sparse_categorical_accuracy: 0.9109 - val_loss: 0.7993 - val_sparse_categorical_accuracy: 0.9415\n",
      "Epoch 2/10\n",
      "469/469 [==============================] - 1s 2ms/step - loss: 0.4646 - sparse_categorical_accuracy: 0.9589 - val_loss: 0.5392 - val_sparse_categorical_accuracy: 0.9531\n",
      "Epoch 3/10\n",
      "469/469 [==============================] - 1s 2ms/step - loss: 0.2562 - sparse_categorical_accuracy: 0.9695 - val_loss: 0.4516 - val_sparse_categorical_accuracy: 0.9608\n",
      "Epoch 4/10\n",
      "469/469 [==============================] - 1s 2ms/step - loss: 0.1867 - sparse_categorical_accuracy: 0.9748 - val_loss: 0.4566 - val_sparse_categorical_accuracy: 0.9594\n",
      "Epoch 5/10\n",
      "469/469 [==============================] - 1s 2ms/step - loss: 0.1968 - sparse_categorical_accuracy: 0.9752 - val_loss: 0.5645 - val_sparse_categorical_accuracy: 0.9525\n",
      "Epoch 6/10\n",
      "469/469 [==============================] - 1s 2ms/step - loss: 0.2030 - sparse_categorical_accuracy: 0.9751 - val_loss: 0.4277 - val_sparse_categorical_accuracy: 0.9612\n",
      "Epoch 7/10\n",
      "469/469 [==============================] - 1s 2ms/step - loss: 0.1597 - sparse_categorical_accuracy: 0.9784 - val_loss: 0.4749 - val_sparse_categorical_accuracy: 0.9592\n",
      "Epoch 8/10\n",
      "469/469 [==============================] - 1s 2ms/step - loss: 0.1832 - sparse_categorical_accuracy: 0.9777 - val_loss: 0.4517 - val_sparse_categorical_accuracy: 0.9650\n",
      "Epoch 9/10\n",
      "469/469 [==============================] - 1s 2ms/step - loss: 0.1928 - sparse_categorical_accuracy: 0.9776 - val_loss: 0.5383 - val_sparse_categorical_accuracy: 0.9583\n",
      "Epoch 10/10\n",
      "469/469 [==============================] - 1s 2ms/step - loss: 0.1882 - sparse_categorical_accuracy: 0.9787 - val_loss: 0.5688 - val_sparse_categorical_accuracy: 0.9622\n"
     ]
    }
   ],
   "source": [
    "model = tf.keras.Sequential([\n",
    "  tf.keras.layers.Dense(800, activation='relu', input_shape=(784,), use_bias=False),\n",
    "  tf.keras.layers.Dense(10, use_bias=False),\n",
    "])\n",
    "\n",
    "model.compile(\n",
    "    loss=tf.keras.losses.SparseCategoricalCrossentropy(from_logits=True),\n",
    "    optimizer=\"adam\",\n",
    "    metrics=[\"sparse_categorical_accuracy\"],\n",
    "    run_eagerly=False\n",
    ")\n",
    "\n",
    "log_dir = \"logs/fit/analog_feedforward\" + datetime.datetime.now().strftime(\"%Y%m%d-%H%M%S\")\n",
    "tensorboard_callback = tf.keras.callbacks.TensorBoard(log_dir=log_dir, histogram_freq=1)\n",
    "\n",
    "history = model.fit(\n",
    "    ds_train, epochs=epochs, validation_data=ds_test, callbacks=[tensorboard_callback]\n",
    ")"
   ]
  },
  {
   "cell_type": "code",
   "execution_count": 6,
   "metadata": {},
   "outputs": [
    {
     "name": "stdout",
     "output_type": "stream",
     "text": [
      "('Failed to import pydot. You must `pip install pydot` and install graphviz (https://graphviz.gitlab.io/download/), ', 'for `pydotprint` to work.')\n"
     ]
    }
   ],
   "source": [
    "from tensorflow.keras.utils import plot_model\n",
    "\n",
    "plot_model(model, to_file='model_plot.png', show_shapes=True, show_layer_names=True)"
   ]
  },
  {
   "cell_type": "code",
   "execution_count": 19,
   "metadata": {},
   "outputs": [
    {
     "data": {
      "text/html": [
       "\n",
       "      <iframe id=\"tensorboard-frame-676f5e5409ca9963\" width=\"100%\" height=\"800\" frameborder=\"0\">\n",
       "      </iframe>\n",
       "      <script>\n",
       "        (function() {\n",
       "          const frame = document.getElementById(\"tensorboard-frame-676f5e5409ca9963\");\n",
       "          const url = new URL(\"/\", window.location);\n",
       "          const port = 6006;\n",
       "          if (port) {\n",
       "            url.port = port;\n",
       "          }\n",
       "          frame.src = url;\n",
       "        })();\n",
       "      </script>\n",
       "    "
      ],
      "text/plain": [
       "<IPython.core.display.HTML object>"
      ]
     },
     "metadata": {},
     "output_type": "display_data"
    }
   ],
   "source": [
    "%tensorboard --logdir logs/fit"
   ]
  },
  {
   "cell_type": "code",
   "execution_count": null,
   "metadata": {},
   "outputs": [],
   "source": []
  }
 ],
 "metadata": {
  "kernelspec": {
   "display_name": "Python 3",
   "language": "python",
   "name": "python3"
  },
  "language_info": {
   "codemirror_mode": {
    "name": "ipython",
    "version": 3
   },
   "file_extension": ".py",
   "mimetype": "text/x-python",
   "name": "python",
   "nbconvert_exporter": "python",
   "pygments_lexer": "ipython3",
   "version": "3.8.5"
  }
 },
 "nbformat": 4,
 "nbformat_minor": 1
}
