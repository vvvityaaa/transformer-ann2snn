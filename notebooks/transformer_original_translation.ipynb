{
 "cells": [
  {
   "cell_type": "markdown",
   "metadata": {
    "id": "s_qNSzzyaCbD"
   },
   "source": [
    "##### Copyright 2019 The TensorFlow Authors."
   ]
  },
  {
   "cell_type": "code",
   "execution_count": 1,
   "metadata": {
    "cellView": "form",
    "execution": {
     "iopub.execute_input": "2020-11-02T02:23:39.100332Z",
     "iopub.status.busy": "2020-11-02T02:23:39.099742Z",
     "iopub.status.idle": "2020-11-02T02:23:39.102016Z",
     "shell.execute_reply": "2020-11-02T02:23:39.101527Z"
    },
    "id": "jmjh290raIky"
   },
   "outputs": [],
   "source": [
    "#@title Licensed under the Apache License, Version 2.0 (the \"License\");\n",
    "# you may not use this file except in compliance with the License.\n",
    "# You may obtain a copy of the License at\n",
    "#\n",
    "# https://www.apache.org/licenses/LICENSE-2.0\n",
    "#\n",
    "# Unless required by applicable law or agreed to in writing, software\n",
    "# distributed under the License is distributed on an \"AS IS\" BASIS,\n",
    "# WITHOUT WARRANTIES OR CONDITIONS OF ANY KIND, either express or implied.\n",
    "# See the License for the specific language governing permissions and\n",
    "# limitations under the License."
   ]
  },
  {
   "cell_type": "markdown",
   "metadata": {
    "id": "J0Qjg6vuaHNt"
   },
   "source": [
    "# Transformer model for language understanding"
   ]
  },
  {
   "cell_type": "markdown",
   "metadata": {
    "id": "AOpGoE2T-YXS"
   },
   "source": [
    "<table class=\"tfo-notebook-buttons\" align=\"left\">\n",
    "  <td>\n",
    "    <a target=\"_blank\" href=\"https://www.tensorflow.org/tutorials/text/transformer\">\n",
    "    <img src=\"https://www.tensorflow.org/images/tf_logo_32px.png\" />\n",
    "    View on TensorFlow.org</a>\n",
    "  </td>\n",
    "  <td>\n",
    "    <a target=\"_blank\" href=\"https://colab.research.google.com/github/tensorflow/docs/blob/master/site/en/tutorials/text/transformer.ipynb\">\n",
    "    <img src=\"https://www.tensorflow.org/images/colab_logo_32px.png\" />\n",
    "    Run in Google Colab</a>\n",
    "  </td>\n",
    "  <td>\n",
    "    <a target=\"_blank\" href=\"https://github.com/tensorflow/docs/blob/master/site/en/tutorials/text/transformer.ipynb\">\n",
    "    <img src=\"https://www.tensorflow.org/images/GitHub-Mark-32px.png\" />\n",
    "    View source on GitHub</a>\n",
    "  </td>\n",
    "  <td>\n",
    "    <a href=\"https://storage.googleapis.com/tensorflow_docs/docs/site/en/tutorials/text/transformer.ipynb\"><img src=\"https://www.tensorflow.org/images/download_logo_32px.png\" />Download notebook</a>\n",
    "  </td>\n",
    "</table>"
   ]
  },
  {
   "cell_type": "markdown",
   "metadata": {
    "id": "M-f8TnGpE_ex"
   },
   "source": [
    "This tutorial trains a <a href=\"https://arxiv.org/abs/1706.03762\" class=\"external\">Transformer model</a> to translate Portuguese to English. This is an advanced example that assumes knowledge of [text generation](text_generation.ipynb) and [attention](nmt_with_attention.ipynb).\n",
    "\n",
    "The core idea behind the Transformer model is *self-attention*—the ability to attend to different positions of the input sequence to compute a representation of that sequence. Transformer creates stacks of self-attention layers and is explained below in the sections *Scaled dot product attention* and *Multi-head attention*.\n",
    "\n",
    "A transformer model handles variable-sized input using stacks of self-attention layers instead of [RNNs](text_classification_rnn.ipynb) or [CNNs](../images/intro_to_cnns.ipynb). This general architecture has a number of advantages:\n",
    "\n",
    "* It make no assumptions about the temporal/spatial relationships across the data. This is ideal for processing a set of objects (for example, [StarCraft units](https://deepmind.com/blog/alphastar-mastering-real-time-strategy-game-starcraft-ii/#block-8)).\n",
    "* Layer outputs can be calculated in parallel, instead of a series like an RNN.\n",
    "* Distant items can affect each other's output without passing through many RNN-steps, or convolution layers (see [Scene Memory Transformer](https://arxiv.org/pdf/1903.03878.pdf) for example).\n",
    "* It can learn long-range dependencies. This is a challenge in many sequence tasks.\n",
    "\n",
    "The downsides of this architecture are:\n",
    "\n",
    "* For a time-series, the output for a time-step is calculated from the *entire history* instead of only the inputs and current hidden-state. This _may_ be less efficient.   \n",
    "* If the input *does* have a  temporal/spatial relationship, like text, some positional encoding must be added or the model will effectively see a bag of words. \n",
    "\n",
    "After training the model in this notebook, you will be able to input a Portuguese sentence and return the English translation.\n",
    "\n",
    "<img src=\"https://www.tensorflow.org/images/tutorials/transformer/attention_map_portuguese.png\" width=\"800\" alt=\"Attention heatmap\">"
   ]
  },
  {
   "cell_type": "code",
   "execution_count": 2,
   "metadata": {
    "execution": {
     "iopub.execute_input": "2020-11-02T02:23:39.106807Z",
     "iopub.status.busy": "2020-11-02T02:23:39.106149Z",
     "iopub.status.idle": "2020-11-02T02:23:45.915265Z",
     "shell.execute_reply": "2020-11-02T02:23:45.915750Z"
    },
    "id": "XFG0NDRu5mYQ"
   },
   "outputs": [
    {
     "name": "stdout",
     "output_type": "stream",
     "text": [
      "Collecting matplotlib==3.2.2\n",
      "  Downloading matplotlib-3.2.2-cp36-cp36m-manylinux1_x86_64.whl (12.4 MB)\n",
      "\u001b[K     |████████████████████████████████| 12.4 MB 2.8 MB/s eta 0:00:01\n",
      "\u001b[?25hRequirement already satisfied: numpy>=1.11 in /tmpfs/src/tf_docs_env/lib/python3.6/site-packages (from matplotlib==3.2.2) (1.18.5)\n",
      "Requirement already satisfied: cycler>=0.10 in /home/kbuilder/.local/lib/python3.6/site-packages (from matplotlib==3.2.2) (0.10.0)\n",
      "Requirement already satisfied: kiwisolver>=1.0.1 in /home/kbuilder/.local/lib/python3.6/site-packages (from matplotlib==3.2.2) (1.2.0)\n",
      "Requirement already satisfied: pyparsing!=2.0.4,!=2.1.2,!=2.1.6,>=2.0.1 in /home/kbuilder/.local/lib/python3.6/site-packages (from matplotlib==3.2.2) (2.4.7)\n",
      "Requirement already satisfied: python-dateutil>=2.1 in /home/kbuilder/.local/lib/python3.6/site-packages (from matplotlib==3.2.2) (2.8.1)\n",
      "Requirement already satisfied: six in /home/kbuilder/.local/lib/python3.6/site-packages (from cycler>=0.10->matplotlib==3.2.2) (1.15.0)\n",
      "Installing collected packages: matplotlib\n",
      "  Attempting uninstall: matplotlib\n",
      "    Found existing installation: matplotlib 3.3.2\n",
      "    Not uninstalling matplotlib at /home/kbuilder/.local/lib/python3.6/site-packages, outside environment /tmpfs/src/tf_docs_env\n",
      "    Can't uninstall 'matplotlib'. No files were found to uninstall.\n",
      "Successfully installed matplotlib-3.2.2\n"
     ]
    }
   ],
   "source": [
    "!pip install -q tfds-nightly\n",
    "\n",
    "# Pin matplotlib version to 3.2.2 since in the latest version\n",
    "# transformer.ipynb fails with the following error:\n",
    "# https://stackoverflow.com/questions/62953704/valueerror-the-number-of-fixedlocator-locations-5-usually-from-a-call-to-set\n",
    "!pip install matplotlib==3.2.2"
   ]
  },
  {
   "cell_type": "code",
   "execution_count": 3,
   "metadata": {
    "execution": {
     "iopub.execute_input": "2020-11-02T02:23:45.920611Z",
     "iopub.status.busy": "2020-11-02T02:23:45.919935Z",
     "iopub.status.idle": "2020-11-02T02:23:53.342882Z",
     "shell.execute_reply": "2020-11-02T02:23:53.342273Z"
    },
    "id": "JjJJyJTZYebt"
   },
   "outputs": [],
   "source": [
    "import tensorflow_datasets as tfds\n",
    "import tensorflow as tf\n",
    "\n",
    "import time\n",
    "import numpy as np\n",
    "import matplotlib.pyplot as plt"
   ]
  },
  {
   "cell_type": "markdown",
   "metadata": {
    "id": "fd1NWMxjfsDd"
   },
   "source": [
    "## Setup input pipeline"
   ]
  },
  {
   "cell_type": "markdown",
   "metadata": {
    "id": "t4_Qt8W1hJE_"
   },
   "source": [
    "Use [TFDS](https://www.tensorflow.org/datasets) to load the [Portugese-English translation dataset](https://github.com/neulab/word-embeddings-for-nmt) from the [TED Talks Open Translation Project](https://www.ted.com/participate/translate).\n",
    "\n",
    "This dataset contains approximately 50000 training examples, 1100 validation examples, and 2000 test examples."
   ]
  },
  {
   "cell_type": "code",
   "execution_count": 4,
   "metadata": {
    "execution": {
     "iopub.execute_input": "2020-11-02T02:23:53.350740Z",
     "iopub.status.busy": "2020-11-02T02:23:53.349965Z",
     "iopub.status.idle": "2020-11-02T02:24:16.829151Z",
     "shell.execute_reply": "2020-11-02T02:24:16.829598Z"
    },
    "id": "8q9t4FmN96eN"
   },
   "outputs": [
    {
     "name": "stdout",
     "output_type": "stream",
     "text": [
      "\u001b[1mDownloading and preparing dataset ted_hrlr_translate/pt_to_en/1.0.0 (download: 124.94 MiB, generated: Unknown size, total: 124.94 MiB) to /home/kbuilder/tensorflow_datasets/ted_hrlr_translate/pt_to_en/1.0.0...\u001b[0m\n",
      "Shuffling and writing examples to /home/kbuilder/tensorflow_datasets/ted_hrlr_translate/pt_to_en/1.0.0.incomplete9RVVAD/ted_hrlr_translate-train.tfrecord\n",
      "Shuffling and writing examples to /home/kbuilder/tensorflow_datasets/ted_hrlr_translate/pt_to_en/1.0.0.incomplete9RVVAD/ted_hrlr_translate-validation.tfrecord\n",
      "Shuffling and writing examples to /home/kbuilder/tensorflow_datasets/ted_hrlr_translate/pt_to_en/1.0.0.incomplete9RVVAD/ted_hrlr_translate-test.tfrecord\n",
      "\u001b[1mDataset ted_hrlr_translate downloaded and prepared to /home/kbuilder/tensorflow_datasets/ted_hrlr_translate/pt_to_en/1.0.0. Subsequent calls will reuse this data.\u001b[0m\n"
     ]
    }
   ],
   "source": [
    "examples, metadata = tfds.load('ted_hrlr_translate/pt_to_en', with_info=True,\n",
    "                               as_supervised=True)\n",
    "train_examples, val_examples = examples['train'], examples['validation']"
   ]
  },
  {
   "cell_type": "markdown",
   "metadata": {
    "id": "RCEKotqosGfq"
   },
   "source": [
    "Create a custom subwords tokenizer from the training dataset. "
   ]
  },
  {
   "cell_type": "code",
   "execution_count": 5,
   "metadata": {
    "execution": {
     "iopub.execute_input": "2020-11-02T02:24:16.835394Z",
     "iopub.status.busy": "2020-11-02T02:24:16.834726Z",
     "iopub.status.idle": "2020-11-02T02:26:24.694629Z",
     "shell.execute_reply": "2020-11-02T02:26:24.695136Z"
    },
    "id": "KVBg5Q8tBk5z"
   },
   "outputs": [],
   "source": [
    "tokenizer_en = tfds.deprecated.text.SubwordTextEncoder.build_from_corpus(\n",
    "    (en.numpy() for pt, en in train_examples), target_vocab_size=2**13)\n",
    "\n",
    "tokenizer_pt = tfds.deprecated.text.SubwordTextEncoder.build_from_corpus(\n",
    "    (pt.numpy() for pt, en in train_examples), target_vocab_size=2**13)"
   ]
  },
  {
   "cell_type": "code",
   "execution_count": 6,
   "metadata": {
    "execution": {
     "iopub.execute_input": "2020-11-02T02:26:24.700665Z",
     "iopub.status.busy": "2020-11-02T02:26:24.700009Z",
     "iopub.status.idle": "2020-11-02T02:26:24.702248Z",
     "shell.execute_reply": "2020-11-02T02:26:24.702679Z"
    },
    "id": "4DYWukNFkGQN"
   },
   "outputs": [
    {
     "name": "stdout",
     "output_type": "stream",
     "text": [
      "Tokenized string is [7915, 1248, 7946, 7194, 13, 2799, 7877]\n",
      "The original string: Transformer is awesome.\n"
     ]
    }
   ],
   "source": [
    "sample_string = 'Transformer is awesome.'\n",
    "\n",
    "tokenized_string = tokenizer_en.encode(sample_string)\n",
    "print ('Tokenized string is {}'.format(tokenized_string))\n",
    "\n",
    "original_string = tokenizer_en.decode(tokenized_string)\n",
    "print ('The original string: {}'.format(original_string))\n",
    "\n",
    "assert original_string == sample_string"
   ]
  },
  {
   "cell_type": "markdown",
   "metadata": {
    "id": "o9KJWJjrsZ4Y"
   },
   "source": [
    "The tokenizer encodes the string by breaking it into subwords if the word is not in its dictionary."
   ]
  },
  {
   "cell_type": "code",
   "execution_count": 7,
   "metadata": {
    "execution": {
     "iopub.execute_input": "2020-11-02T02:26:24.707214Z",
     "iopub.status.busy": "2020-11-02T02:26:24.706529Z",
     "iopub.status.idle": "2020-11-02T02:26:24.708820Z",
     "shell.execute_reply": "2020-11-02T02:26:24.709240Z"
    },
    "id": "bf2ntBxjkqK6"
   },
   "outputs": [
    {
     "name": "stdout",
     "output_type": "stream",
     "text": [
      "7915 ----> T\n",
      "1248 ----> ran\n",
      "7946 ----> s\n",
      "7194 ----> former \n",
      "13 ----> is \n",
      "2799 ----> awesome\n",
      "7877 ----> .\n"
     ]
    }
   ],
   "source": [
    "for ts in tokenized_string:\n",
    "  print ('{} ----> {}'.format(ts, tokenizer_en.decode([ts])))"
   ]
  },
  {
   "cell_type": "code",
   "execution_count": 8,
   "metadata": {
    "execution": {
     "iopub.execute_input": "2020-11-02T02:26:24.712950Z",
     "iopub.status.busy": "2020-11-02T02:26:24.712287Z",
     "iopub.status.idle": "2020-11-02T02:26:24.714005Z",
     "shell.execute_reply": "2020-11-02T02:26:24.714450Z"
    },
    "id": "bcRp7VcQ5m6g"
   },
   "outputs": [],
   "source": [
    "BUFFER_SIZE = 20000\n",
    "BATCH_SIZE = 64"
   ]
  },
  {
   "cell_type": "markdown",
   "metadata": {
    "id": "kGi4PoVakxdc"
   },
   "source": [
    "Add a start and end token to the input and target. "
   ]
  },
  {
   "cell_type": "code",
   "execution_count": 9,
   "metadata": {
    "execution": {
     "iopub.execute_input": "2020-11-02T02:26:24.719434Z",
     "iopub.status.busy": "2020-11-02T02:26:24.718759Z",
     "iopub.status.idle": "2020-11-02T02:26:24.720965Z",
     "shell.execute_reply": "2020-11-02T02:26:24.720470Z"
    },
    "id": "UZwnPr4R055s"
   },
   "outputs": [],
   "source": [
    "def encode(lang1, lang2):\n",
    "  lang1 = [tokenizer_pt.vocab_size] + tokenizer_pt.encode(\n",
    "      lang1.numpy()) + [tokenizer_pt.vocab_size+1]\n",
    "\n",
    "  lang2 = [tokenizer_en.vocab_size] + tokenizer_en.encode(\n",
    "      lang2.numpy()) + [tokenizer_en.vocab_size+1]\n",
    "  \n",
    "  return lang1, lang2"
   ]
  },
  {
   "cell_type": "markdown",
   "metadata": {
    "id": "Tx1sFbR-9fRs"
   },
   "source": [
    "You want to use `Dataset.map` to apply this function to each element of the dataset.  `Dataset.map` runs in graph mode.\n",
    "\n",
    "* Graph tensors do not have a value. \n",
    "* In graph mode you can only use TensorFlow Ops and functions. \n",
    "\n",
    "So you can't `.map` this function directly: You need to wrap it in a `tf.py_function`. The `tf.py_function` will pass regular tensors (with a value and a `.numpy()` method to access it), to the wrapped python function."
   ]
  },
  {
   "cell_type": "code",
   "execution_count": 10,
   "metadata": {
    "execution": {
     "iopub.execute_input": "2020-11-02T02:26:24.725590Z",
     "iopub.status.busy": "2020-11-02T02:26:24.724939Z",
     "iopub.status.idle": "2020-11-02T02:26:24.726798Z",
     "shell.execute_reply": "2020-11-02T02:26:24.727223Z"
    },
    "id": "Mah1cS-P70Iz"
   },
   "outputs": [],
   "source": [
    "def tf_encode(pt, en):\n",
    "  result_pt, result_en = tf.py_function(encode, [pt, en], [tf.int64, tf.int64])\n",
    "  result_pt.set_shape([None])\n",
    "  result_en.set_shape([None])\n",
    "\n",
    "  return result_pt, result_en"
   ]
  },
  {
   "cell_type": "markdown",
   "metadata": {
    "id": "6JrGp5Gek6Ql"
   },
   "source": [
    "Note: To keep this example small and relatively fast, drop examples with a length of over 40 tokens."
   ]
  },
  {
   "cell_type": "code",
   "execution_count": 11,
   "metadata": {
    "execution": {
     "iopub.execute_input": "2020-11-02T02:26:24.731110Z",
     "iopub.status.busy": "2020-11-02T02:26:24.730465Z",
     "iopub.status.idle": "2020-11-02T02:26:24.732249Z",
     "shell.execute_reply": "2020-11-02T02:26:24.732655Z"
    },
    "id": "2QEgbjntk6Yf"
   },
   "outputs": [],
   "source": [
    "MAX_LENGTH = 40"
   ]
  },
  {
   "cell_type": "code",
   "execution_count": 12,
   "metadata": {
    "execution": {
     "iopub.execute_input": "2020-11-02T02:26:24.736845Z",
     "iopub.status.busy": "2020-11-02T02:26:24.736227Z",
     "iopub.status.idle": "2020-11-02T02:26:24.737975Z",
     "shell.execute_reply": "2020-11-02T02:26:24.738396Z"
    },
    "id": "c081xPGv1CPI"
   },
   "outputs": [],
   "source": [
    "def filter_max_length(x, y, max_length=MAX_LENGTH):\n",
    "  return tf.logical_and(tf.size(x) <= max_length,\n",
    "                        tf.size(y) <= max_length)"
   ]
  },
  {
   "cell_type": "code",
   "execution_count": 13,
   "metadata": {
    "execution": {
     "iopub.execute_input": "2020-11-02T02:26:24.743511Z",
     "iopub.status.busy": "2020-11-02T02:26:24.742805Z",
     "iopub.status.idle": "2020-11-02T02:26:24.863582Z",
     "shell.execute_reply": "2020-11-02T02:26:24.862990Z"
    },
    "id": "9mk9AZdZ5bcS"
   },
   "outputs": [],
   "source": [
    "train_dataset = train_examples.map(tf_encode)\n",
    "train_dataset = train_dataset.filter(filter_max_length)\n",
    "# cache the dataset to memory to get a speedup while reading from it.\n",
    "train_dataset = train_dataset.cache()\n",
    "train_dataset = train_dataset.shuffle(BUFFER_SIZE).padded_batch(BATCH_SIZE)\n",
    "train_dataset = train_dataset.prefetch(tf.data.experimental.AUTOTUNE)\n",
    "\n",
    "\n",
    "val_dataset = val_examples.map(tf_encode)\n",
    "val_dataset = val_dataset.filter(filter_max_length).padded_batch(BATCH_SIZE)"
   ]
  },
  {
   "cell_type": "code",
   "execution_count": 14,
   "metadata": {
    "execution": {
     "iopub.execute_input": "2020-11-02T02:26:24.867883Z",
     "iopub.status.busy": "2020-11-02T02:26:24.867130Z",
     "iopub.status.idle": "2020-11-02T02:26:24.945263Z",
     "shell.execute_reply": "2020-11-02T02:26:24.945694Z"
    },
    "id": "_fXvfYVfQr2n"
   },
   "outputs": [
    {
     "data": {
      "text/plain": [
       "(<tf.Tensor: shape=(64, 38), dtype=int64, numpy=\n",
       " array([[8214,  342, 3032, ...,    0,    0,    0],\n",
       "        [8214,   95,  198, ...,    0,    0,    0],\n",
       "        [8214, 4479, 7990, ...,    0,    0,    0],\n",
       "        ...,\n",
       "        [8214,  584,   12, ...,    0,    0,    0],\n",
       "        [8214,   59, 1548, ...,    0,    0,    0],\n",
       "        [8214,  118,   34, ...,    0,    0,    0]])>,\n",
       " <tf.Tensor: shape=(64, 40), dtype=int64, numpy=\n",
       " array([[8087,   98,   25, ...,    0,    0,    0],\n",
       "        [8087,   12,   20, ...,    0,    0,    0],\n",
       "        [8087,   12, 5453, ...,    0,    0,    0],\n",
       "        ...,\n",
       "        [8087,   18, 2059, ...,    0,    0,    0],\n",
       "        [8087,   16, 1436, ...,    0,    0,    0],\n",
       "        [8087,   15,   57, ...,    0,    0,    0]])>)"
      ]
     },
     "execution_count": 1,
     "metadata": {},
     "output_type": "execute_result"
    }
   ],
   "source": [
    "pt_batch, en_batch = next(iter(val_dataset))\n",
    "pt_batch, en_batch"
   ]
  },
  {
   "cell_type": "markdown",
   "metadata": {
    "id": "nBQuibYA4n0n"
   },
   "source": [
    "## Positional encoding\n",
    "\n",
    "Since this model doesn't contain any recurrence or convolution, positional encoding is added to give the model some information about the relative position of the words in the sentence. \n",
    "\n",
    "The positional encoding vector is added to the embedding vector. Embeddings represent a token in a d-dimensional space where tokens with similar meaning will be closer to each other. But the embeddings do not encode the relative position of words in a sentence. So after adding the positional encoding, words will be closer to each other based on the *similarity of their meaning and their position in the sentence*, in the d-dimensional space.\n",
    "\n",
    "See the notebook on [positional encoding](https://github.com/tensorflow/examples/blob/master/community/en/position_encoding.ipynb) to learn more about it. The formula for calculating the positional encoding is as follows:\n",
    "\n",
    "$$\\Large{PE_{(pos, 2i)} = sin(pos / 10000^{2i / d_{model}})} $$\n",
    "$$\\Large{PE_{(pos, 2i+1)} = cos(pos / 10000^{2i / d_{model}})} $$"
   ]
  },
  {
   "cell_type": "code",
   "execution_count": 15,
   "metadata": {
    "execution": {
     "iopub.execute_input": "2020-11-02T02:26:24.950742Z",
     "iopub.status.busy": "2020-11-02T02:26:24.949856Z",
     "iopub.status.idle": "2020-11-02T02:26:24.951933Z",
     "shell.execute_reply": "2020-11-02T02:26:24.952383Z"
    },
    "id": "WhIOZjMNKujn"
   },
   "outputs": [],
   "source": [
    "def get_angles(pos, i, d_model):\n",
    "  angle_rates = 1 / np.power(10000, (2 * (i//2)) / np.float32(d_model))\n",
    "  return pos * angle_rates"
   ]
  },
  {
   "cell_type": "code",
   "execution_count": 16,
   "metadata": {
    "execution": {
     "iopub.execute_input": "2020-11-02T02:26:24.958548Z",
     "iopub.status.busy": "2020-11-02T02:26:24.957602Z",
     "iopub.status.idle": "2020-11-02T02:26:24.960152Z",
     "shell.execute_reply": "2020-11-02T02:26:24.959567Z"
    },
    "id": "1Rz82wEs5biZ"
   },
   "outputs": [],
   "source": [
    "def positional_encoding(position, d_model):\n",
    "  angle_rads = get_angles(np.arange(position)[:, np.newaxis],\n",
    "                          np.arange(d_model)[np.newaxis, :],\n",
    "                          d_model)\n",
    "  \n",
    "  # apply sin to even indices in the array; 2i\n",
    "  angle_rads[:, 0::2] = np.sin(angle_rads[:, 0::2])\n",
    "  \n",
    "  # apply cos to odd indices in the array; 2i+1\n",
    "  angle_rads[:, 1::2] = np.cos(angle_rads[:, 1::2])\n",
    "    \n",
    "  pos_encoding = angle_rads[np.newaxis, ...]\n",
    "    \n",
    "  return tf.cast(pos_encoding, dtype=tf.float32)"
   ]
  },
  {
   "cell_type": "code",
   "execution_count": 17,
   "metadata": {
    "execution": {
     "iopub.execute_input": "2020-11-02T02:26:24.964937Z",
     "iopub.status.busy": "2020-11-02T02:26:24.964299Z",
     "iopub.status.idle": "2020-11-02T02:26:25.185963Z",
     "shell.execute_reply": "2020-11-02T02:26:25.186470Z"
    },
    "id": "1kLCla68EloE"
   },
   "outputs": [
    {
     "name": "stdout",
     "output_type": "stream",
     "text": [
      "(1, 50, 512)\n"
     ]
    },
    {
     "data": {
      "image/png": "[encoded data removed]",
      "text/plain": [
       "<Figure size 432x288 with 2 Axes>"
      ]
     },
     "metadata": {
      "needs_background": "light"
     },
     "output_type": "display_data"
    }
   ],
   "source": [
    "pos_encoding = positional_encoding(50, 512)\n",
    "print (pos_encoding.shape)\n",
    "\n",
    "plt.pcolormesh(pos_encoding[0], cmap='RdBu')\n",
    "plt.xlabel('Depth')\n",
    "plt.xlim((0, 512))\n",
    "plt.ylabel('Position')\n",
    "plt.colorbar()\n",
    "plt.show()"
   ]
  },
  {
   "cell_type": "markdown",
   "metadata": {
    "id": "a_b4ou4TYqUN"
   },
   "source": [
    "## Masking"
   ]
  },
  {
   "cell_type": "markdown",
   "metadata": {
    "id": "s42Uydjkv0hF"
   },
   "source": [
    "Mask all the pad tokens in the batch of sequence. It ensures that the model does not treat padding as the input. The mask indicates where pad value `0` is present: it outputs a `1` at those locations, and a `0` otherwise."
   ]
  },
  {
   "cell_type": "code",
   "execution_count": 18,
   "metadata": {
    "execution": {
     "iopub.execute_input": "2020-11-02T02:26:25.191500Z",
     "iopub.status.busy": "2020-11-02T02:26:25.190865Z",
     "iopub.status.idle": "2020-11-02T02:26:25.192659Z",
     "shell.execute_reply": "2020-11-02T02:26:25.193052Z"
    },
    "id": "U2i8-e1s8ti9"
   },
   "outputs": [],
   "source": [
    "def create_padding_mask(seq):\n",
    "  seq = tf.cast(tf.math.equal(seq, 0), tf.float32)\n",
    "  \n",
    "  # add extra dimensions to add the padding\n",
    "  # to the attention logits.\n",
    "  return seq[:, tf.newaxis, tf.newaxis, :]  # (batch_size, 1, 1, seq_len)"
   ]
  },
  {
   "cell_type": "code",
   "execution_count": 19,
   "metadata": {
    "execution": {
     "iopub.execute_input": "2020-11-02T02:26:25.197206Z",
     "iopub.status.busy": "2020-11-02T02:26:25.196569Z",
     "iopub.status.idle": "2020-11-02T02:26:25.201194Z",
     "shell.execute_reply": "2020-11-02T02:26:25.201613Z"
    },
    "id": "A7BYeBCNvi7n"
   },
   "outputs": [
    {
     "data": {
      "text/plain": [
       "<tf.Tensor: shape=(3, 1, 1, 5), dtype=float32, numpy=\n",
       "array([[[[0., 0., 1., 1., 0.]]],\n",
       "\n",
       "\n",
       "       [[[0., 0., 0., 1., 1.]]],\n",
       "\n",
       "\n",
       "       [[[1., 1., 1., 0., 0.]]]], dtype=float32)>"
      ]
     },
     "execution_count": 1,
     "metadata": {},
     "output_type": "execute_result"
    }
   ],
   "source": [
    "x = tf.constant([[7, 6, 0, 0, 1], [1, 2, 3, 0, 0], [0, 0, 0, 4, 5]])\n",
    "create_padding_mask(x)"
   ]
  },
  {
   "cell_type": "markdown",
   "metadata": {
    "id": "Z0hzukDBgVom"
   },
   "source": [
    "The look-ahead mask is used to mask the future tokens in a sequence. In other words, the mask indicates which entries should not be used.\n",
    "\n",
    "This means that to predict the third word, only the first and second word will be used. Similarly to predict the fourth word, only the first, second and the third word will be used and so on."
   ]
  },
  {
   "cell_type": "code",
   "execution_count": 20,
   "metadata": {
    "execution": {
     "iopub.execute_input": "2020-11-02T02:26:25.206009Z",
     "iopub.status.busy": "2020-11-02T02:26:25.205344Z",
     "iopub.status.idle": "2020-11-02T02:26:25.207194Z",
     "shell.execute_reply": "2020-11-02T02:26:25.207586Z"
    },
    "id": "dVxS8OPI9uI0"
   },
   "outputs": [],
   "source": [
    "def create_look_ahead_mask(size):\n",
    "  mask = 1 - tf.linalg.band_part(tf.ones((size, size)), -1, 0)\n",
    "  return mask  # (seq_len, seq_len)"
   ]
  },
  {
   "cell_type": "code",
   "execution_count": 21,
   "metadata": {
    "execution": {
     "iopub.execute_input": "2020-11-02T02:26:25.211387Z",
     "iopub.status.busy": "2020-11-02T02:26:25.210780Z",
     "iopub.status.idle": "2020-11-02T02:26:25.214859Z",
     "shell.execute_reply": "2020-11-02T02:26:25.215313Z"
    },
    "id": "yxKGuXxaBeeE"
   },
   "outputs": [
    {
     "data": {
      "text/plain": [
       "<tf.Tensor: shape=(3, 3), dtype=float32, numpy=\n",
       "array([[0., 1., 1.],\n",
       "       [0., 0., 1.],\n",
       "       [0., 0., 0.]], dtype=float32)>"
      ]
     },
     "execution_count": 1,
     "metadata": {},
     "output_type": "execute_result"
    }
   ],
   "source": [
    "x = tf.random.uniform((1, 3))\n",
    "temp = create_look_ahead_mask(x.shape[1])\n",
    "temp"
   ]
  },
  {
   "cell_type": "markdown",
   "metadata": {
    "id": "xluDl5cXYy4y"
   },
   "source": [
    "## Scaled dot product attention"
   ]
  },
  {
   "cell_type": "markdown",
   "metadata": {
    "id": "vsxEE_-Wa1gF"
   },
   "source": [
    "<img src=\"https://www.tensorflow.org/images/tutorials/transformer/scaled_attention.png\" width=\"500\" alt=\"scaled_dot_product_attention\">\n",
    "\n",
    "The attention function used by the transformer takes three inputs: Q (query), K (key), V (value). The equation used to calculate the attention weights is:\n",
    "\n",
    "$$\\Large{Attention(Q, K, V) = softmax_k(\\frac{QK^T}{\\sqrt{d_k}}) V} $$\n",
    "\n",
    "The dot-product attention is scaled by a factor of square root of the depth. This is done because for large values of depth, the dot product grows large in magnitude pushing the softmax function where it has small gradients resulting in a very hard softmax. \n",
    "\n",
    "For example, consider that `Q` and `K` have a mean of 0 and variance of 1. Their matrix multiplication will have a mean of 0 and variance of `dk`. Hence, *square root of `dk`* is used for scaling (and not any other number) because the matmul of `Q` and `K` should have a mean of 0 and variance of 1, and you get a gentler softmax.\n",
    "\n",
    "The mask is multiplied with -1e9 (close to negative infinity). This is done because the mask is summed with the scaled matrix multiplication of Q and K and is applied immediately before a softmax. The goal is to zero out these cells, and large negative inputs to softmax are near zero in the output."
   ]
  },
  {
   "cell_type": "code",
   "execution_count": 22,
   "metadata": {
    "execution": {
     "iopub.execute_input": "2020-11-02T02:26:25.222000Z",
     "iopub.status.busy": "2020-11-02T02:26:25.221312Z",
     "iopub.status.idle": "2020-11-02T02:26:25.223205Z",
     "shell.execute_reply": "2020-11-02T02:26:25.223597Z"
    },
    "id": "LazzUq3bJ5SH"
   },
   "outputs": [],
   "source": [
    "def scaled_dot_product_attention(q, k, v, mask):\n",
    "  \"\"\"Calculate the attention weights.\n",
    "  q, k, v must have matching leading dimensions.\n",
    "  k, v must have matching penultimate dimension, i.e.: seq_len_k = seq_len_v.\n",
    "  The mask has different shapes depending on its type(padding or look ahead) \n",
    "  but it must be broadcastable for addition.\n",
    "  \n",
    "  Args:\n",
    "    q: query shape == (..., seq_len_q, depth)\n",
    "    k: key shape == (..., seq_len_k, depth)\n",
    "    v: value shape == (..., seq_len_v, depth_v)\n",
    "    mask: Float tensor with shape broadcastable \n",
    "          to (..., seq_len_q, seq_len_k). Defaults to None.\n",
    "    \n",
    "  Returns:\n",
    "    output, attention_weights\n",
    "  \"\"\"\n",
    "\n",
    "  matmul_qk = tf.matmul(q, k, transpose_b=True)  # (..., seq_len_q, seq_len_k)\n",
    "  \n",
    "  # scale matmul_qk\n",
    "  dk = tf.cast(tf.shape(k)[-1], tf.float32)\n",
    "  scaled_attention_logits = matmul_qk / tf.math.sqrt(dk)\n",
    "\n",
    "  # add the mask to the scaled tensor.\n",
    "  if mask is not None:\n",
    "    scaled_attention_logits += (mask * -1e9)  \n",
    "\n",
    "  # softmax is normalized on the last axis (seq_len_k) so that the scores\n",
    "  # add up to 1.\n",
    "  attention_weights = tf.nn.softmax(scaled_attention_logits, axis=-1)  # (..., seq_len_q, seq_len_k)\n",
    "\n",
    "  output = tf.matmul(attention_weights, v)  # (..., seq_len_q, depth_v)\n",
    "\n",
    "  return output, attention_weights"
   ]
  },
  {
   "cell_type": "markdown",
   "metadata": {
    "id": "FiqETnhCkoXh"
   },
   "source": [
    "As the softmax normalization is done on K, its values decide the amount of importance given to Q.\n",
    "\n",
    "The output represents the multiplication of the attention weights and the V (value) vector. This ensures that the words you want to focus on are kept as-is and the irrelevant words are flushed out."
   ]
  },
  {
   "cell_type": "code",
   "execution_count": 23,
   "metadata": {
    "execution": {
     "iopub.execute_input": "2020-11-02T02:26:25.228177Z",
     "iopub.status.busy": "2020-11-02T02:26:25.227454Z",
     "iopub.status.idle": "2020-11-02T02:26:25.229676Z",
     "shell.execute_reply": "2020-11-02T02:26:25.229174Z"
    },
    "id": "n90YjClyInFy"
   },
   "outputs": [],
   "source": [
    "def print_out(q, k, v):\n",
    "  temp_out, temp_attn = scaled_dot_product_attention(\n",
    "      q, k, v, None)\n",
    "  print ('Attention weights are:')\n",
    "  print (temp_attn)\n",
    "  print ('Output is:')\n",
    "  print (temp_out)"
   ]
  },
  {
   "cell_type": "code",
   "execution_count": 24,
   "metadata": {
    "execution": {
     "iopub.execute_input": "2020-11-02T02:26:25.235475Z",
     "iopub.status.busy": "2020-11-02T02:26:25.234773Z",
     "iopub.status.idle": "2020-11-02T02:26:25.238644Z",
     "shell.execute_reply": "2020-11-02T02:26:25.239081Z"
    },
    "id": "yAzUAf2DPlNt"
   },
   "outputs": [
    {
     "name": "stdout",
     "output_type": "stream",
     "text": [
      "Attention weights are:\n",
      "tf.Tensor([[0. 1. 0. 0.]], shape=(1, 4), dtype=float32)\n",
      "Output is:\n",
      "tf.Tensor([[10.  0.]], shape=(1, 2), dtype=float32)\n"
     ]
    }
   ],
   "source": [
    "np.set_printoptions(suppress=True)\n",
    "\n",
    "temp_k = tf.constant([[10,0,0],\n",
    "                      [0,10,0],\n",
    "                      [0,0,10],\n",
    "                      [0,0,10]], dtype=tf.float32)  # (4, 3)\n",
    "\n",
    "temp_v = tf.constant([[   1,0],\n",
    "                      [  10,0],\n",
    "                      [ 100,5],\n",
    "                      [1000,6]], dtype=tf.float32)  # (4, 2)\n",
    "\n",
    "# This `query` aligns with the second `key`,\n",
    "# so the second `value` is returned.\n",
    "temp_q = tf.constant([[0, 10, 0]], dtype=tf.float32)  # (1, 3)\n",
    "print_out(temp_q, temp_k, temp_v)"
   ]
  },
  {
   "cell_type": "code",
   "execution_count": 25,
   "metadata": {
    "execution": {
     "iopub.execute_input": "2020-11-02T02:26:25.243123Z",
     "iopub.status.busy": "2020-11-02T02:26:25.242423Z",
     "iopub.status.idle": "2020-11-02T02:26:25.246814Z",
     "shell.execute_reply": "2020-11-02T02:26:25.246309Z"
    },
    "id": "zg6k-fGhgXra"
   },
   "outputs": [
    {
     "name": "stdout",
     "output_type": "stream",
     "text": [
      "Attention weights are:\n",
      "tf.Tensor([[0.  0.  0.5 0.5]], shape=(1, 4), dtype=float32)\n",
      "Output is:\n",
      "tf.Tensor([[550.    5.5]], shape=(1, 2), dtype=float32)\n"
     ]
    }
   ],
   "source": [
    "# This query aligns with a repeated key (third and fourth), \n",
    "# so all associated values get averaged.\n",
    "temp_q = tf.constant([[0, 0, 10]], dtype=tf.float32)  # (1, 3)\n",
    "print_out(temp_q, temp_k, temp_v)"
   ]
  },
  {
   "cell_type": "code",
   "execution_count": 26,
   "metadata": {
    "execution": {
     "iopub.execute_input": "2020-11-02T02:26:25.250955Z",
     "iopub.status.busy": "2020-11-02T02:26:25.250254Z",
     "iopub.status.idle": "2020-11-02T02:26:25.253722Z",
     "shell.execute_reply": "2020-11-02T02:26:25.254132Z"
    },
    "id": "UAq3YOzUgXhb"
   },
   "outputs": [
    {
     "name": "stdout",
     "output_type": "stream",
     "text": [
      "Attention weights are:\n",
      "tf.Tensor([[0.5 0.5 0.  0. ]], shape=(1, 4), dtype=float32)\n",
      "Output is:\n",
      "tf.Tensor([[5.5 0. ]], shape=(1, 2), dtype=float32)\n"
     ]
    }
   ],
   "source": [
    "# This query aligns equally with the first and second key, \n",
    "# so their values get averaged.\n",
    "temp_q = tf.constant([[10, 10, 0]], dtype=tf.float32)  # (1, 3)\n",
    "print_out(temp_q, temp_k, temp_v)"
   ]
  },
  {
   "cell_type": "markdown",
   "metadata": {
    "id": "aOz-4_XIhaTP"
   },
   "source": [
    "Pass all the queries together."
   ]
  },
  {
   "cell_type": "code",
   "execution_count": 27,
   "metadata": {
    "execution": {
     "iopub.execute_input": "2020-11-02T02:26:25.258596Z",
     "iopub.status.busy": "2020-11-02T02:26:25.257867Z",
     "iopub.status.idle": "2020-11-02T02:26:25.307528Z",
     "shell.execute_reply": "2020-11-02T02:26:25.307944Z"
    },
    "id": "6dlU8Tm-hYrF"
   },
   "outputs": [
    {
     "name": "stdout",
     "output_type": "stream",
     "text": [
      "Attention weights are:\n",
      "tf.Tensor(\n",
      "[[0.  0.  0.5 0.5]\n",
      " [0.  1.  0.  0. ]\n",
      " [0.5 0.5 0.  0. ]], shape=(3, 4), dtype=float32)\n",
      "Output is:\n",
      "tf.Tensor(\n",
      "[[550.    5.5]\n",
      " [ 10.    0. ]\n",
      " [  5.5   0. ]], shape=(3, 2), dtype=float32)\n"
     ]
    }
   ],
   "source": [
    "temp_q = tf.constant([[0, 0, 10], [0, 10, 0], [10, 10, 0]], dtype=tf.float32)  # (3, 3)\n",
    "print_out(temp_q, temp_k, temp_v)"
   ]
  },
  {
   "cell_type": "markdown",
   "metadata": {
    "id": "kmzGPEy64qmA"
   },
   "source": [
    "## Multi-head attention"
   ]
  },
  {
   "cell_type": "markdown",
   "metadata": {
    "id": "fz5BMC8Kaoqo"
   },
   "source": [
    "<img src=\"https://www.tensorflow.org/images/tutorials/transformer/multi_head_attention.png\" width=\"500\" alt=\"multi-head attention\">\n",
    "\n",
    "\n",
    "Multi-head attention consists of four parts:\n",
    "*    Linear layers and split into heads.\n",
    "*    Scaled dot-product attention.\n",
    "*    Concatenation of heads.\n",
    "*    Final linear layer."
   ]
  },
  {
   "cell_type": "markdown",
   "metadata": {
    "id": "JPmbr6F1C-v_"
   },
   "source": [
    "Each multi-head attention block gets three inputs; Q (query), K (key), V (value). These are put through linear (Dense) layers and split up into multiple heads. \n",
    "\n",
    "The `scaled_dot_product_attention` defined above is applied to each head (broadcasted for efficiency). An appropriate mask must be used in the attention step.  The attention output for each head is then concatenated (using `tf.transpose`, and `tf.reshape`) and put through a final `Dense` layer.\n",
    "\n",
    "Instead of one single attention head, Q, K, and V are split into multiple heads because it allows the model to jointly attend to information at different positions from different representational spaces. After the split each head has a reduced dimensionality, so the total computation cost is the same as a single head attention with full dimensionality."
   ]
  },
  {
   "cell_type": "code",
   "execution_count": 28,
   "metadata": {
    "execution": {
     "iopub.execute_input": "2020-11-02T02:26:25.319284Z",
     "iopub.status.busy": "2020-11-02T02:26:25.318566Z",
     "iopub.status.idle": "2020-11-02T02:26:25.320448Z",
     "shell.execute_reply": "2020-11-02T02:26:25.320855Z"
    },
    "id": "BSV3PPKsYecw"
   },
   "outputs": [],
   "source": [
    "class MultiHeadAttention(tf.keras.layers.Layer):\n",
    "  def __init__(self, d_model, num_heads):\n",
    "    super(MultiHeadAttention, self).__init__()\n",
    "    self.num_heads = num_heads\n",
    "    self.d_model = d_model\n",
    "    \n",
    "    assert d_model % self.num_heads == 0\n",
    "    \n",
    "    self.depth = d_model // self.num_heads\n",
    "    \n",
    "    self.wq = tf.keras.layers.Dense(d_model)\n",
    "    self.wk = tf.keras.layers.Dense(d_model)\n",
    "    self.wv = tf.keras.layers.Dense(d_model)\n",
    "    \n",
    "    self.dense = tf.keras.layers.Dense(d_model)\n",
    "        \n",
    "  def split_heads(self, x, batch_size):\n",
    "    \"\"\"Split the last dimension into (num_heads, depth).\n",
    "    Transpose the result such that the shape is (batch_size, num_heads, seq_len, depth)\n",
    "    \"\"\"\n",
    "    x = tf.reshape(x, (batch_size, -1, self.num_heads, self.depth))\n",
    "    return tf.transpose(x, perm=[0, 2, 1, 3])\n",
    "    \n",
    "  def call(self, v, k, q, mask):\n",
    "    batch_size = tf.shape(q)[0]\n",
    "    \n",
    "    q = self.wq(q)  # (batch_size, seq_len, d_model)\n",
    "    k = self.wk(k)  # (batch_size, seq_len, d_model)\n",
    "    v = self.wv(v)  # (batch_size, seq_len, d_model)\n",
    "    \n",
    "    q = self.split_heads(q, batch_size)  # (batch_size, num_heads, seq_len_q, depth)\n",
    "    k = self.split_heads(k, batch_size)  # (batch_size, num_heads, seq_len_k, depth)\n",
    "    v = self.split_heads(v, batch_size)  # (batch_size, num_heads, seq_len_v, depth)\n",
    "    \n",
    "    # scaled_attention.shape == (batch_size, num_heads, seq_len_q, depth)\n",
    "    # attention_weights.shape == (batch_size, num_heads, seq_len_q, seq_len_k)\n",
    "    scaled_attention, attention_weights = scaled_dot_product_attention(\n",
    "        q, k, v, mask)\n",
    "    \n",
    "    scaled_attention = tf.transpose(scaled_attention, perm=[0, 2, 1, 3])  # (batch_size, seq_len_q, num_heads, depth)\n",
    "\n",
    "    concat_attention = tf.reshape(scaled_attention, \n",
    "                                  (batch_size, -1, self.d_model))  # (batch_size, seq_len_q, d_model)\n",
    "\n",
    "    output = self.dense(concat_attention)  # (batch_size, seq_len_q, d_model)\n",
    "        \n",
    "    return output, attention_weights"
   ]
  },
  {
   "cell_type": "markdown",
   "metadata": {
    "id": "0D8FJue5lDyZ"
   },
   "source": [
    "Create a `MultiHeadAttention` layer to try out. At each location in the sequence, `y`, the `MultiHeadAttention` runs all 8 attention heads across all other locations in the sequence, returning a new vector of the same length at each location."
   ]
  },
  {
   "cell_type": "code",
   "execution_count": 29,
   "metadata": {
    "execution": {
     "iopub.execute_input": "2020-11-02T02:26:25.326077Z",
     "iopub.status.busy": "2020-11-02T02:26:25.325340Z",
     "iopub.status.idle": "2020-11-02T02:26:25.359646Z",
     "shell.execute_reply": "2020-11-02T02:26:25.360072Z"
    },
    "id": "Hu94p-_-2_BX"
   },
   "outputs": [
    {
     "data": {
      "text/plain": [
       "(TensorShape([1, 60, 512]), TensorShape([1, 8, 60, 60]))"
      ]
     },
     "execution_count": 1,
     "metadata": {},
     "output_type": "execute_result"
    }
   ],
   "source": [
    "temp_mha = MultiHeadAttention(d_model=512, num_heads=8)\n",
    "y = tf.random.uniform((1, 60, 512))  # (batch_size, encoder_sequence, d_model)\n",
    "out, attn = temp_mha(y, k=y, q=y, mask=None)\n",
    "out.shape, attn.shape"
   ]
  },
  {
   "cell_type": "markdown",
   "metadata": {
    "id": "RdDqGayx67vv"
   },
   "source": [
    "## Point wise feed forward network"
   ]
  },
  {
   "cell_type": "markdown",
   "metadata": {
    "id": "gBqzJXGfHK3X"
   },
   "source": [
    "Point wise feed forward network consists of two fully-connected layers with a ReLU activation in between."
   ]
  },
  {
   "cell_type": "code",
   "execution_count": 30,
   "metadata": {
    "execution": {
     "iopub.execute_input": "2020-11-02T02:26:25.364864Z",
     "iopub.status.busy": "2020-11-02T02:26:25.364204Z",
     "iopub.status.idle": "2020-11-02T02:26:25.366219Z",
     "shell.execute_reply": "2020-11-02T02:26:25.366676Z"
    },
    "id": "ET7xLt0yCT6Z"
   },
   "outputs": [],
   "source": [
    "def point_wise_feed_forward_network(d_model, dff):\n",
    "  return tf.keras.Sequential([\n",
    "      tf.keras.layers.Dense(dff, activation='relu'),  # (batch_size, seq_len, dff)\n",
    "      tf.keras.layers.Dense(d_model)  # (batch_size, seq_len, d_model)\n",
    "  ])"
   ]
  },
  {
   "cell_type": "code",
   "execution_count": 31,
   "metadata": {
    "execution": {
     "iopub.execute_input": "2020-11-02T02:26:25.373368Z",
     "iopub.status.busy": "2020-11-02T02:26:25.372687Z",
     "iopub.status.idle": "2020-11-02T02:26:25.437666Z",
     "shell.execute_reply": "2020-11-02T02:26:25.437066Z"
    },
    "id": "mytb1lPyOHLB"
   },
   "outputs": [
    {
     "data": {
      "text/plain": [
       "TensorShape([64, 50, 512])"
      ]
     },
     "execution_count": 1,
     "metadata": {},
     "output_type": "execute_result"
    }
   ],
   "source": [
    "sample_ffn = point_wise_feed_forward_network(512, 2048)\n",
    "sample_ffn(tf.random.uniform((64, 50, 512))).shape"
   ]
  },
  {
   "cell_type": "markdown",
   "metadata": {
    "id": "7e7hKcxn6-zd"
   },
   "source": [
    "## Encoder and decoder"
   ]
  },
  {
   "cell_type": "markdown",
   "metadata": {
    "id": "yScbC0MUH8dS"
   },
   "source": [
    "<img src=\"https://www.tensorflow.org/images/tutorials/transformer/transformer.png\" width=\"600\" alt=\"transformer\">"
   ]
  },
  {
   "cell_type": "markdown",
   "metadata": {
    "id": "MfYJG-Kvgwy2"
   },
   "source": [
    "The transformer model follows the same general pattern as a standard [sequence to sequence with attention model](nmt_with_attention.ipynb). \n",
    "\n",
    "* The input sentence is passed through `N` encoder layers that generates an output for each word/token in the sequence.\n",
    "* The decoder attends on the encoder's output and its own input (self-attention) to predict the next word. "
   ]
  },
  {
   "cell_type": "markdown",
   "metadata": {
    "id": "QFv-FNYUmvpn"
   },
   "source": [
    "### Encoder layer\n",
    "\n",
    "Each encoder layer consists of sublayers:\n",
    "\n",
    "1.   Multi-head attention (with padding mask) \n",
    "2.    Point wise feed forward networks. \n",
    "\n",
    "Each of these sublayers has a residual connection around it followed by a layer normalization. Residual connections help in avoiding the vanishing gradient problem in deep networks.\n",
    "\n",
    "The output of each sublayer is `LayerNorm(x + Sublayer(x))`. The normalization is done on the `d_model` (last) axis. There are N encoder layers in the transformer."
   ]
  },
  {
   "cell_type": "code",
   "execution_count": 32,
   "metadata": {
    "execution": {
     "iopub.execute_input": "2020-11-02T02:26:25.446072Z",
     "iopub.status.busy": "2020-11-02T02:26:25.445347Z",
     "iopub.status.idle": "2020-11-02T02:26:25.447785Z",
     "shell.execute_reply": "2020-11-02T02:26:25.447205Z"
    },
    "id": "ncyS-Ms3i2x_"
   },
   "outputs": [],
   "source": [
    "class EncoderLayer(tf.keras.layers.Layer):\n",
    "  def __init__(self, d_model, num_heads, dff, rate=0.1):\n",
    "    super(EncoderLayer, self).__init__()\n",
    "\n",
    "    self.mha = MultiHeadAttention(d_model, num_heads)\n",
    "    self.ffn = point_wise_feed_forward_network(d_model, dff)\n",
    "\n",
    "    self.layernorm1 = tf.keras.layers.LayerNormalization(epsilon=1e-6)\n",
    "    self.layernorm2 = tf.keras.layers.LayerNormalization(epsilon=1e-6)\n",
    "    \n",
    "    self.dropout1 = tf.keras.layers.Dropout(rate)\n",
    "    self.dropout2 = tf.keras.layers.Dropout(rate)\n",
    "    \n",
    "  def call(self, x, training, mask):\n",
    "\n",
    "    attn_output, _ = self.mha(x, x, x, mask)  # (batch_size, input_seq_len, d_model)\n",
    "    attn_output = self.dropout1(attn_output, training=training)\n",
    "    out1 = self.layernorm1(x + attn_output)  # (batch_size, input_seq_len, d_model)\n",
    "    \n",
    "    ffn_output = self.ffn(out1)  # (batch_size, input_seq_len, d_model)\n",
    "    ffn_output = self.dropout2(ffn_output, training=training)\n",
    "    out2 = self.layernorm2(out1 + ffn_output)  # (batch_size, input_seq_len, d_model)\n",
    "    \n",
    "    return out2"
   ]
  },
  {
   "cell_type": "code",
   "execution_count": 33,
   "metadata": {
    "execution": {
     "iopub.execute_input": "2020-11-02T02:26:25.459795Z",
     "iopub.status.busy": "2020-11-02T02:26:25.459178Z",
     "iopub.status.idle": "2020-11-02T02:26:25.582504Z",
     "shell.execute_reply": "2020-11-02T02:26:25.582945Z"
    },
    "id": "AzZRXdO0mI48"
   },
   "outputs": [
    {
     "data": {
      "text/plain": [
       "TensorShape([64, 43, 512])"
      ]
     },
     "execution_count": 1,
     "metadata": {},
     "output_type": "execute_result"
    }
   ],
   "source": [
    "sample_encoder_layer = EncoderLayer(512, 8, 2048)\n",
    "\n",
    "sample_encoder_layer_output = sample_encoder_layer(\n",
    "    tf.random.uniform((64, 43, 512)), False, None)\n",
    "\n",
    "sample_encoder_layer_output.shape  # (batch_size, input_seq_len, d_model)"
   ]
  },
  {
   "cell_type": "markdown",
   "metadata": {
    "id": "6LO_48Owmx_o"
   },
   "source": [
    "### Decoder layer\n",
    "\n",
    "Each decoder layer consists of sublayers:\n",
    "\n",
    "1.   Masked multi-head attention (with look ahead mask and padding mask)\n",
    "2.   Multi-head attention (with padding mask). V (value) and K (key) receive the *encoder output* as inputs. Q (query) receives the *output from the masked multi-head attention sublayer.*\n",
    "3.   Point wise feed forward networks\n",
    "\n",
    "Each of these sublayers has a residual connection around it followed by a layer normalization. The output of each sublayer is `LayerNorm(x + Sublayer(x))`. The normalization is done on the `d_model` (last) axis.\n",
    "\n",
    "There are N decoder layers in the transformer.\n",
    "\n",
    "As Q receives the output from decoder's first attention block, and K receives the encoder output, the attention weights represent the importance given to the decoder's input based on the encoder's output. In other words, the decoder predicts the next word by looking at the encoder output and self-attending to its own output. See the demonstration above in the scaled dot product attention section."
   ]
  },
  {
   "cell_type": "code",
   "execution_count": 34,
   "metadata": {
    "execution": {
     "iopub.execute_input": "2020-11-02T02:26:25.592814Z",
     "iopub.status.busy": "2020-11-02T02:26:25.592125Z",
     "iopub.status.idle": "2020-11-02T02:26:25.593830Z",
     "shell.execute_reply": "2020-11-02T02:26:25.594250Z"
    },
    "id": "9SoX0-vd1hue"
   },
   "outputs": [],
   "source": [
    "class DecoderLayer(tf.keras.layers.Layer):\n",
    "  def __init__(self, d_model, num_heads, dff, rate=0.1):\n",
    "    super(DecoderLayer, self).__init__()\n",
    "\n",
    "    self.mha1 = MultiHeadAttention(d_model, num_heads)\n",
    "    self.mha2 = MultiHeadAttention(d_model, num_heads)\n",
    "\n",
    "    self.ffn = point_wise_feed_forward_network(d_model, dff)\n",
    " \n",
    "    self.layernorm1 = tf.keras.layers.LayerNormalization(epsilon=1e-6)\n",
    "    self.layernorm2 = tf.keras.layers.LayerNormalization(epsilon=1e-6)\n",
    "    self.layernorm3 = tf.keras.layers.LayerNormalization(epsilon=1e-6)\n",
    "    \n",
    "    self.dropout1 = tf.keras.layers.Dropout(rate)\n",
    "    self.dropout2 = tf.keras.layers.Dropout(rate)\n",
    "    self.dropout3 = tf.keras.layers.Dropout(rate)\n",
    "    \n",
    "    \n",
    "  def call(self, x, enc_output, training, \n",
    "           look_ahead_mask, padding_mask):\n",
    "    # enc_output.shape == (batch_size, input_seq_len, d_model)\n",
    "\n",
    "    attn1, attn_weights_block1 = self.mha1(x, x, x, look_ahead_mask)  # (batch_size, target_seq_len, d_model)\n",
    "    attn1 = self.dropout1(attn1, training=training)\n",
    "    out1 = self.layernorm1(attn1 + x)\n",
    "    \n",
    "    attn2, attn_weights_block2 = self.mha2(\n",
    "        enc_output, enc_output, out1, padding_mask)  # (batch_size, target_seq_len, d_model)\n",
    "    attn2 = self.dropout2(attn2, training=training)\n",
    "    out2 = self.layernorm2(attn2 + out1)  # (batch_size, target_seq_len, d_model)\n",
    "    \n",
    "    ffn_output = self.ffn(out2)  # (batch_size, target_seq_len, d_model)\n",
    "    ffn_output = self.dropout3(ffn_output, training=training)\n",
    "    out3 = self.layernorm3(ffn_output + out2)  # (batch_size, target_seq_len, d_model)\n",
    "    \n",
    "    return out3, attn_weights_block1, attn_weights_block2"
   ]
  },
  {
   "cell_type": "code",
   "execution_count": 35,
   "metadata": {
    "execution": {
     "iopub.execute_input": "2020-11-02T02:26:25.607195Z",
     "iopub.status.busy": "2020-11-02T02:26:25.606534Z",
     "iopub.status.idle": "2020-11-02T02:26:25.804635Z",
     "shell.execute_reply": "2020-11-02T02:26:25.805053Z"
    },
    "id": "Ne2Bqx8k71l0"
   },
   "outputs": [
    {
     "data": {
      "text/plain": [
       "TensorShape([64, 50, 512])"
      ]
     },
     "execution_count": 1,
     "metadata": {},
     "output_type": "execute_result"
    }
   ],
   "source": [
    "sample_decoder_layer = DecoderLayer(512, 8, 2048)\n",
    "\n",
    "sample_decoder_layer_output, _, _ = sample_decoder_layer(\n",
    "    tf.random.uniform((64, 50, 512)), sample_encoder_layer_output, \n",
    "    False, None, None)\n",
    "\n",
    "sample_decoder_layer_output.shape  # (batch_size, target_seq_len, d_model)"
   ]
  },
  {
   "cell_type": "markdown",
   "metadata": {
    "id": "SE1H51Ajm0q1"
   },
   "source": [
    "### Encoder\n",
    "\n",
    "The `Encoder` consists of:\n",
    "1.   Input Embedding\n",
    "2.   Positional Encoding\n",
    "3.   N encoder layers\n",
    "\n",
    "The input is put through an embedding which is summed with the positional encoding. The output of this summation is the input to the encoder layers. The output of the encoder is the input to the decoder."
   ]
  },
  {
   "cell_type": "code",
   "execution_count": 36,
   "metadata": {
    "execution": {
     "iopub.execute_input": "2020-11-02T02:26:25.814730Z",
     "iopub.status.busy": "2020-11-02T02:26:25.814013Z",
     "iopub.status.idle": "2020-11-02T02:26:25.816267Z",
     "shell.execute_reply": "2020-11-02T02:26:25.815698Z"
    },
    "id": "jpEox7gJ8FCI"
   },
   "outputs": [],
   "source": [
    "class Encoder(tf.keras.layers.Layer):\n",
    "  def __init__(self, num_layers, d_model, num_heads, dff, input_vocab_size,\n",
    "               maximum_position_encoding, rate=0.1):\n",
    "    super(Encoder, self).__init__()\n",
    "\n",
    "    self.d_model = d_model\n",
    "    self.num_layers = num_layers\n",
    "    \n",
    "    self.embedding = tf.keras.layers.Embedding(input_vocab_size, d_model)\n",
    "    self.pos_encoding = positional_encoding(maximum_position_encoding, \n",
    "                                            self.d_model)\n",
    "    \n",
    "    \n",
    "    self.enc_layers = [EncoderLayer(d_model, num_heads, dff, rate) \n",
    "                       for _ in range(num_layers)]\n",
    "  \n",
    "    self.dropout = tf.keras.layers.Dropout(rate)\n",
    "        \n",
    "  def call(self, x, training, mask):\n",
    "\n",
    "    seq_len = tf.shape(x)[1]\n",
    "    \n",
    "    # adding embedding and position encoding.\n",
    "    x = self.embedding(x)  # (batch_size, input_seq_len, d_model)\n",
    "    x *= tf.math.sqrt(tf.cast(self.d_model, tf.float32))\n",
    "    x += self.pos_encoding[:, :seq_len, :]\n",
    "\n",
    "    x = self.dropout(x, training=training)\n",
    "    \n",
    "    for i in range(self.num_layers):\n",
    "      x = self.enc_layers[i](x, training, mask)\n",
    "    \n",
    "    return x  # (batch_size, input_seq_len, d_model)"
   ]
  },
  {
   "cell_type": "code",
   "execution_count": 37,
   "metadata": {
    "execution": {
     "iopub.execute_input": "2020-11-02T02:26:25.824870Z",
     "iopub.status.busy": "2020-11-02T02:26:25.824233Z",
     "iopub.status.idle": "2020-11-02T02:26:26.357891Z",
     "shell.execute_reply": "2020-11-02T02:26:26.358338Z"
    },
    "id": "8QG9nueFQKXx"
   },
   "outputs": [
    {
     "name": "stdout",
     "output_type": "stream",
     "text": [
      "(64, 62, 512)\n"
     ]
    }
   ],
   "source": [
    "sample_encoder = Encoder(num_layers=2, d_model=512, num_heads=8, \n",
    "                         dff=2048, input_vocab_size=8500,\n",
    "                         maximum_position_encoding=10000)\n",
    "temp_input = tf.random.uniform((64, 62), dtype=tf.int64, minval=0, maxval=200)\n",
    "\n",
    "sample_encoder_output = sample_encoder(temp_input, training=False, mask=None)\n",
    "\n",
    "print (sample_encoder_output.shape)  # (batch_size, input_seq_len, d_model)"
   ]
  },
  {
   "cell_type": "markdown",
   "metadata": {
    "id": "p-uO6ls8m2O5"
   },
   "source": [
    "### Decoder"
   ]
  },
  {
   "cell_type": "markdown",
   "metadata": {
    "id": "ZtT7PKzrXkNr"
   },
   "source": [
    " The `Decoder` consists of:\n",
    "1.   Output Embedding\n",
    "2.   Positional Encoding\n",
    "3.   N decoder layers\n",
    "\n",
    "The target is put through an embedding which is summed with the positional encoding. The output of this summation is the input to the decoder layers. The output of the decoder is the input to the final linear layer."
   ]
  },
  {
   "cell_type": "code",
   "execution_count": 38,
   "metadata": {
    "execution": {
     "iopub.execute_input": "2020-11-02T02:26:26.368605Z",
     "iopub.status.busy": "2020-11-02T02:26:26.367591Z",
     "iopub.status.idle": "2020-11-02T02:26:26.369596Z",
     "shell.execute_reply": "2020-11-02T02:26:26.369997Z"
    },
    "id": "d5_d5-PLQXwY"
   },
   "outputs": [],
   "source": [
    "class Decoder(tf.keras.layers.Layer):\n",
    "  def __init__(self, num_layers, d_model, num_heads, dff, target_vocab_size,\n",
    "               maximum_position_encoding, rate=0.1):\n",
    "    super(Decoder, self).__init__()\n",
    "\n",
    "    self.d_model = d_model\n",
    "    self.num_layers = num_layers\n",
    "    \n",
    "    self.embedding = tf.keras.layers.Embedding(target_vocab_size, d_model)\n",
    "    self.pos_encoding = positional_encoding(maximum_position_encoding, d_model)\n",
    "    \n",
    "    self.dec_layers = [DecoderLayer(d_model, num_heads, dff, rate) \n",
    "                       for _ in range(num_layers)]\n",
    "    self.dropout = tf.keras.layers.Dropout(rate)\n",
    "    \n",
    "  def call(self, x, enc_output, training, \n",
    "           look_ahead_mask, padding_mask):\n",
    "\n",
    "    seq_len = tf.shape(x)[1]\n",
    "    attention_weights = {}\n",
    "    \n",
    "    x = self.embedding(x)  # (batch_size, target_seq_len, d_model)\n",
    "    x *= tf.math.sqrt(tf.cast(self.d_model, tf.float32))\n",
    "    x += self.pos_encoding[:, :seq_len, :]\n",
    "    \n",
    "    x = self.dropout(x, training=training)\n",
    "\n",
    "    for i in range(self.num_layers):\n",
    "      x, block1, block2 = self.dec_layers[i](x, enc_output, training,\n",
    "                                             look_ahead_mask, padding_mask)\n",
    "      \n",
    "      attention_weights['decoder_layer{}_block1'.format(i+1)] = block1\n",
    "      attention_weights['decoder_layer{}_block2'.format(i+1)] = block2\n",
    "    \n",
    "    # x.shape == (batch_size, target_seq_len, d_model)\n",
    "    return x, attention_weights"
   ]
  },
  {
   "cell_type": "code",
   "execution_count": 39,
   "metadata": {
    "execution": {
     "iopub.execute_input": "2020-11-02T02:26:26.377767Z",
     "iopub.status.busy": "2020-11-02T02:26:26.376310Z",
     "iopub.status.idle": "2020-11-02T02:26:26.755762Z",
     "shell.execute_reply": "2020-11-02T02:26:26.755141Z"
    },
    "id": "a1jXoAMRZyvu"
   },
   "outputs": [
    {
     "data": {
      "text/plain": [
       "(TensorShape([64, 26, 512]), TensorShape([64, 8, 26, 62]))"
      ]
     },
     "execution_count": 1,
     "metadata": {},
     "output_type": "execute_result"
    }
   ],
   "source": [
    "sample_decoder = Decoder(num_layers=2, d_model=512, num_heads=8, \n",
    "                         dff=2048, target_vocab_size=8000,\n",
    "                         maximum_position_encoding=5000)\n",
    "temp_input = tf.random.uniform((64, 26), dtype=tf.int64, minval=0, maxval=200)\n",
    "\n",
    "output, attn = sample_decoder(temp_input, \n",
    "                              enc_output=sample_encoder_output, \n",
    "                              training=False,\n",
    "                              look_ahead_mask=None, \n",
    "                              padding_mask=None)\n",
    "\n",
    "output.shape, attn['decoder_layer2_block2'].shape"
   ]
  },
  {
   "cell_type": "markdown",
   "metadata": {
    "id": "y54xnJnuYgJ7"
   },
   "source": [
    "## Create the Transformer"
   ]
  },
  {
   "cell_type": "markdown",
   "metadata": {
    "id": "uERO1y54cOKq"
   },
   "source": [
    "Transformer consists of the encoder, decoder and a final linear layer. The output of the decoder is the input to the linear layer and its output is returned."
   ]
  },
  {
   "cell_type": "code",
   "execution_count": 40,
   "metadata": {
    "execution": {
     "iopub.execute_input": "2020-11-02T02:26:26.763467Z",
     "iopub.status.busy": "2020-11-02T02:26:26.762728Z",
     "iopub.status.idle": "2020-11-02T02:26:26.764477Z",
     "shell.execute_reply": "2020-11-02T02:26:26.764889Z"
    },
    "id": "PED3bIpOYkBu"
   },
   "outputs": [],
   "source": [
    "class Transformer(tf.keras.Model):\n",
    "  def __init__(self, num_layers, d_model, num_heads, dff, input_vocab_size, \n",
    "               target_vocab_size, pe_input, pe_target, rate=0.1):\n",
    "    super(Transformer, self).__init__()\n",
    "\n",
    "    self.encoder = Encoder(num_layers, d_model, num_heads, dff, \n",
    "                           input_vocab_size, pe_input, rate)\n",
    "\n",
    "    self.decoder = Decoder(num_layers, d_model, num_heads, dff, \n",
    "                           target_vocab_size, pe_target, rate)\n",
    "\n",
    "    self.final_layer = tf.keras.layers.Dense(target_vocab_size)\n",
    "    \n",
    "  def call(self, inp, tar, training, enc_padding_mask, \n",
    "           look_ahead_mask, dec_padding_mask):\n",
    "\n",
    "    enc_output = self.encoder(inp, training, enc_padding_mask)  # (batch_size, inp_seq_len, d_model)\n",
    "    \n",
    "    # dec_output.shape == (batch_size, tar_seq_len, d_model)\n",
    "    dec_output, attention_weights = self.decoder(\n",
    "        tar, enc_output, training, look_ahead_mask, dec_padding_mask)\n",
    "    \n",
    "    final_output = self.final_layer(dec_output)  # (batch_size, tar_seq_len, target_vocab_size)\n",
    "    \n",
    "    return final_output, attention_weights"
   ]
  },
  {
   "cell_type": "code",
   "execution_count": 41,
   "metadata": {
    "execution": {
     "iopub.execute_input": "2020-11-02T02:26:26.772608Z",
     "iopub.status.busy": "2020-11-02T02:26:26.771855Z",
     "iopub.status.idle": "2020-11-02T02:26:27.696061Z",
     "shell.execute_reply": "2020-11-02T02:26:27.696483Z"
    },
    "id": "tJ4fbQcIkHW1"
   },
   "outputs": [
    {
     "data": {
      "text/plain": [
       "TensorShape([64, 36, 8000])"
      ]
     },
     "execution_count": 1,
     "metadata": {},
     "output_type": "execute_result"
    }
   ],
   "source": [
    "sample_transformer = Transformer(\n",
    "    num_layers=2, d_model=512, num_heads=8, dff=2048, \n",
    "    input_vocab_size=8500, target_vocab_size=8000, \n",
    "    pe_input=10000, pe_target=6000)\n",
    "\n",
    "temp_input = tf.random.uniform((64, 38), dtype=tf.int64, minval=0, maxval=200)\n",
    "temp_target = tf.random.uniform((64, 36), dtype=tf.int64, minval=0, maxval=200)\n",
    "\n",
    "fn_out, _ = sample_transformer(temp_input, temp_target, training=False, \n",
    "                               enc_padding_mask=None, \n",
    "                               look_ahead_mask=None,\n",
    "                               dec_padding_mask=None)\n",
    "\n",
    "fn_out.shape  # (batch_size, tar_seq_len, target_vocab_size)"
   ]
  },
  {
   "cell_type": "markdown",
   "metadata": {
    "id": "wsINyf1VEQLC"
   },
   "source": [
    "## Set hyperparameters"
   ]
  },
  {
   "cell_type": "markdown",
   "metadata": {
    "id": "zVjWCxFNcgbt"
   },
   "source": [
    "To keep this example small and relatively fast, the values for *num_layers, d_model, and dff* have been reduced. \n",
    "\n",
    "The values used in the base model of transformer were; *num_layers=6*, *d_model = 512*, *dff = 2048*. See the [paper](https://arxiv.org/abs/1706.03762) for all the other versions of the transformer.\n",
    "\n",
    "Note: By changing the values below, you can get the model that achieved state of the art on many tasks."
   ]
  },
  {
   "cell_type": "code",
   "execution_count": 42,
   "metadata": {
    "execution": {
     "iopub.execute_input": "2020-11-02T02:26:27.701337Z",
     "iopub.status.busy": "2020-11-02T02:26:27.700717Z",
     "iopub.status.idle": "2020-11-02T02:26:27.702463Z",
     "shell.execute_reply": "2020-11-02T02:26:27.702871Z"
    },
    "id": "lnJn5SLA2ahP"
   },
   "outputs": [],
   "source": [
    "num_layers = 4\n",
    "d_model = 128\n",
    "dff = 512\n",
    "num_heads = 8\n",
    "\n",
    "input_vocab_size = tokenizer_pt.vocab_size + 2\n",
    "target_vocab_size = tokenizer_en.vocab_size + 2\n",
    "dropout_rate = 0.1"
   ]
  },
  {
   "cell_type": "markdown",
   "metadata": {
    "id": "xYEGhEOtzn5W"
   },
   "source": [
    "## Optimizer"
   ]
  },
  {
   "cell_type": "markdown",
   "metadata": {
    "id": "GOmWW--yP3zx"
   },
   "source": [
    "Use the Adam optimizer with a custom learning rate scheduler according to the formula in the [paper](https://arxiv.org/abs/1706.03762).\n",
    "\n",
    "$$\\Large{lrate = d_{model}^{-0.5} * min(step{\\_}num^{-0.5}, step{\\_}num * warmup{\\_}steps^{-1.5})}$$\n"
   ]
  },
  {
   "cell_type": "code",
   "execution_count": 43,
   "metadata": {
    "execution": {
     "iopub.execute_input": "2020-11-02T02:26:27.709107Z",
     "iopub.status.busy": "2020-11-02T02:26:27.708470Z",
     "iopub.status.idle": "2020-11-02T02:26:27.710049Z",
     "shell.execute_reply": "2020-11-02T02:26:27.710587Z"
    },
    "id": "iYQdOO1axwEI"
   },
   "outputs": [],
   "source": [
    "class CustomSchedule(tf.keras.optimizers.schedules.LearningRateSchedule):\n",
    "  def __init__(self, d_model, warmup_steps=4000):\n",
    "    super(CustomSchedule, self).__init__()\n",
    "    \n",
    "    self.d_model = d_model\n",
    "    self.d_model = tf.cast(self.d_model, tf.float32)\n",
    "\n",
    "    self.warmup_steps = warmup_steps\n",
    "    \n",
    "  def __call__(self, step):\n",
    "    arg1 = tf.math.rsqrt(step)\n",
    "    arg2 = step * (self.warmup_steps ** -1.5)\n",
    "    \n",
    "    return tf.math.rsqrt(self.d_model) * tf.math.minimum(arg1, arg2)"
   ]
  },
  {
   "cell_type": "code",
   "execution_count": 44,
   "metadata": {
    "execution": {
     "iopub.execute_input": "2020-11-02T02:26:27.715008Z",
     "iopub.status.busy": "2020-11-02T02:26:27.714374Z",
     "iopub.status.idle": "2020-11-02T02:26:27.716089Z",
     "shell.execute_reply": "2020-11-02T02:26:27.716593Z"
    },
    "id": "7r4scdulztRx"
   },
   "outputs": [],
   "source": [
    "learning_rate = CustomSchedule(d_model)\n",
    "\n",
    "optimizer = tf.keras.optimizers.Adam(learning_rate, beta_1=0.9, beta_2=0.98, \n",
    "                                     epsilon=1e-9)"
   ]
  },
  {
   "cell_type": "code",
   "execution_count": 45,
   "metadata": {
    "execution": {
     "iopub.execute_input": "2020-11-02T02:26:27.720844Z",
     "iopub.status.busy": "2020-11-02T02:26:27.720237Z",
     "iopub.status.idle": "2020-11-02T02:26:27.866519Z",
     "shell.execute_reply": "2020-11-02T02:26:27.865886Z"
    },
    "id": "f33ZCgvHpPdG"
   },
   "outputs": [
    {
     "data": {
      "text/plain": [
       "Text(0.5, 0, 'Train Step')"
      ]
     },
     "execution_count": 1,
     "metadata": {},
     "output_type": "execute_result"
    },
    {
     "data": {
      "image/png": "[encoded data removed]",
      "text/plain": [
       "<Figure size 432x288 with 1 Axes>"
      ]
     },
     "metadata": {
      "needs_background": "light"
     },
     "output_type": "display_data"
    }
   ],
   "source": [
    "temp_learning_rate_schedule = CustomSchedule(d_model)\n",
    "\n",
    "plt.plot(temp_learning_rate_schedule(tf.range(40000, dtype=tf.float32)))\n",
    "plt.ylabel(\"Learning Rate\")\n",
    "plt.xlabel(\"Train Step\")"
   ]
  },
  {
   "cell_type": "markdown",
   "metadata": {
    "id": "YgkDE7hzo8r5"
   },
   "source": [
    "## Loss and metrics"
   ]
  },
  {
   "cell_type": "markdown",
   "metadata": {
    "id": "oxGJtoDuYIHL"
   },
   "source": [
    "Since the target sequences are padded, it is important to apply a padding mask when calculating the loss."
   ]
  },
  {
   "cell_type": "code",
   "execution_count": 46,
   "metadata": {
    "execution": {
     "iopub.execute_input": "2020-11-02T02:26:27.870775Z",
     "iopub.status.busy": "2020-11-02T02:26:27.870132Z",
     "iopub.status.idle": "2020-11-02T02:26:27.871766Z",
     "shell.execute_reply": "2020-11-02T02:26:27.872206Z"
    },
    "id": "MlhsJMm0TW_B"
   },
   "outputs": [],
   "source": [
    "loss_object = tf.keras.losses.SparseCategoricalCrossentropy(\n",
    "    from_logits=True, reduction='none')"
   ]
  },
  {
   "cell_type": "code",
   "execution_count": 47,
   "metadata": {
    "execution": {
     "iopub.execute_input": "2020-11-02T02:26:27.879108Z",
     "iopub.status.busy": "2020-11-02T02:26:27.878422Z",
     "iopub.status.idle": "2020-11-02T02:26:27.880191Z",
     "shell.execute_reply": "2020-11-02T02:26:27.880573Z"
    },
    "id": "67oqVHiT0Eiu"
   },
   "outputs": [],
   "source": [
    "def loss_function(real, pred):\n",
    "  mask = tf.math.logical_not(tf.math.equal(real, 0))\n",
    "  loss_ = loss_object(real, pred)\n",
    "\n",
    "  mask = tf.cast(mask, dtype=loss_.dtype)\n",
    "  loss_ *= mask\n",
    "  \n",
    "  return tf.reduce_sum(loss_)/tf.reduce_sum(mask)\n",
    "\n",
    "\n",
    "def accuracy_function(real, pred):\n",
    "  accuracies = tf.equal(real, tf.argmax(pred, axis=2))\n",
    "  \n",
    "  mask = tf.math.logical_not(tf.math.equal(real, 0))\n",
    "  accuracies = tf.math.logical_and(mask, accuracies)\n",
    "\n",
    "  accuracies = tf.cast(accuracies, dtype=tf.float32)\n",
    "  mask = tf.cast(mask, dtype=tf.float32)\n",
    "  return tf.reduce_sum(accuracies)/tf.reduce_sum(mask)"
   ]
  },
  {
   "cell_type": "code",
   "execution_count": 48,
   "metadata": {
    "execution": {
     "iopub.execute_input": "2020-11-02T02:26:27.890929Z",
     "iopub.status.busy": "2020-11-02T02:26:27.890255Z",
     "iopub.status.idle": "2020-11-02T02:26:27.898638Z",
     "shell.execute_reply": "2020-11-02T02:26:27.899073Z"
    },
    "id": "phlyxMnm-Tpx"
   },
   "outputs": [],
   "source": [
    "train_loss = tf.keras.metrics.Mean(name='train_loss')\n",
    "train_accuracy = tf.keras.metrics.Mean(name='train_accuracy')"
   ]
  },
  {
   "cell_type": "markdown",
   "metadata": {
    "id": "aeHumfr7zmMa"
   },
   "source": [
    "## Training and checkpointing"
   ]
  },
  {
   "cell_type": "code",
   "execution_count": 49,
   "metadata": {
    "execution": {
     "iopub.execute_input": "2020-11-02T02:26:27.904511Z",
     "iopub.status.busy": "2020-11-02T02:26:27.903860Z",
     "iopub.status.idle": "2020-11-02T02:26:28.059188Z",
     "shell.execute_reply": "2020-11-02T02:26:28.059633Z"
    },
    "id": "UiysUa--4tOU"
   },
   "outputs": [],
   "source": [
    "transformer = Transformer(num_layers, d_model, num_heads, dff,\n",
    "                          input_vocab_size, target_vocab_size, \n",
    "                          pe_input=input_vocab_size, \n",
    "                          pe_target=target_vocab_size,\n",
    "                          rate=dropout_rate)"
   ]
  },
  {
   "cell_type": "code",
   "execution_count": 50,
   "metadata": {
    "execution": {
     "iopub.execute_input": "2020-11-02T02:26:28.065224Z",
     "iopub.status.busy": "2020-11-02T02:26:28.064487Z",
     "iopub.status.idle": "2020-11-02T02:26:28.066163Z",
     "shell.execute_reply": "2020-11-02T02:26:28.066631Z"
    },
    "id": "ZOJUSB1T8GjM"
   },
   "outputs": [],
   "source": [
    "def create_masks(inp, tar):\n",
    "  # Encoder padding mask\n",
    "  enc_padding_mask = create_padding_mask(inp)\n",
    "  \n",
    "  # Used in the 2nd attention block in the decoder.\n",
    "  # This padding mask is used to mask the encoder outputs.\n",
    "  dec_padding_mask = create_padding_mask(inp)\n",
    "  \n",
    "  # Used in the 1st attention block in the decoder.\n",
    "  # It is used to pad and mask future tokens in the input received by \n",
    "  # the decoder.\n",
    "  look_ahead_mask = create_look_ahead_mask(tf.shape(tar)[1])\n",
    "  dec_target_padding_mask = create_padding_mask(tar)\n",
    "  combined_mask = tf.maximum(dec_target_padding_mask, look_ahead_mask)\n",
    "  \n",
    "  return enc_padding_mask, combined_mask, dec_padding_mask"
   ]
  },
  {
   "cell_type": "markdown",
   "metadata": {
    "id": "Fzuf06YZp66w"
   },
   "source": [
    "Create the checkpoint path and the checkpoint manager. This will be used to save checkpoints every `n` epochs."
   ]
  },
  {
   "cell_type": "code",
   "execution_count": 51,
   "metadata": {
    "execution": {
     "iopub.execute_input": "2020-11-02T02:26:28.072057Z",
     "iopub.status.busy": "2020-11-02T02:26:28.071394Z",
     "iopub.status.idle": "2020-11-02T02:26:28.073614Z",
     "shell.execute_reply": "2020-11-02T02:26:28.073034Z"
    },
    "id": "hNhuYfllndLZ"
   },
   "outputs": [],
   "source": [
    "checkpoint_path = \"./checkpoints/train\"\n",
    "\n",
    "ckpt = tf.train.Checkpoint(transformer=transformer,\n",
    "                           optimizer=optimizer)\n",
    "\n",
    "ckpt_manager = tf.train.CheckpointManager(ckpt, checkpoint_path, max_to_keep=5)\n",
    "\n",
    "# if a checkpoint exists, restore the latest checkpoint.\n",
    "if ckpt_manager.latest_checkpoint:\n",
    "  ckpt.restore(ckpt_manager.latest_checkpoint)\n",
    "  print ('Latest checkpoint restored!!')"
   ]
  },
  {
   "cell_type": "markdown",
   "metadata": {
    "id": "0Di_Yaa1gf9r"
   },
   "source": [
    "The target is divided into tar_inp and tar_real. tar_inp is passed as an input to the decoder. `tar_real` is that same input shifted by 1: At each location in `tar_input`, `tar_real` contains the  next token that should be predicted.\n",
    "\n",
    "For example, `sentence` = \"SOS A lion in the jungle is sleeping EOS\"\n",
    "\n",
    "`tar_inp` =  \"SOS A lion in the jungle is sleeping\"\n",
    "\n",
    "`tar_real` = \"A lion in the jungle is sleeping EOS\"\n",
    "\n",
    "The transformer is an auto-regressive model: it makes predictions one part at a time, and uses its output so far to decide what to do next. \n",
    "\n",
    "During training this example uses teacher-forcing (like in the [text generation tutorial](./text_generation.ipynb)). Teacher forcing is passing the true output to the next time step regardless of what the model predicts at the current time step.\n",
    "\n",
    "As the transformer predicts each word, *self-attention* allows it to look at the previous words in the input sequence to better predict the next word.\n",
    "\n",
    "To prevent the model from peeking at the expected output the model uses a look-ahead mask."
   ]
  },
  {
   "cell_type": "code",
   "execution_count": 52,
   "metadata": {
    "execution": {
     "iopub.execute_input": "2020-11-02T02:26:28.077441Z",
     "iopub.status.busy": "2020-11-02T02:26:28.076745Z",
     "iopub.status.idle": "2020-11-02T02:26:28.078903Z",
     "shell.execute_reply": "2020-11-02T02:26:28.078389Z"
    },
    "id": "LKpoA6q1sJFj"
   },
   "outputs": [],
   "source": [
    "EPOCHS = 20"
   ]
  },
  {
   "cell_type": "code",
   "execution_count": 53,
   "metadata": {
    "execution": {
     "iopub.execute_input": "2020-11-02T02:26:28.086043Z",
     "iopub.status.busy": "2020-11-02T02:26:28.085376Z",
     "iopub.status.idle": "2020-11-02T02:26:28.087078Z",
     "shell.execute_reply": "2020-11-02T02:26:28.087521Z"
    },
    "id": "iJwmp9OE29oj"
   },
   "outputs": [],
   "source": [
    "# The @tf.function trace-compiles train_step into a TF graph for faster\n",
    "# execution. The function specializes to the precise shape of the argument\n",
    "# tensors. To avoid re-tracing due to the variable sequence lengths or variable\n",
    "# batch sizes (the last batch is smaller), use input_signature to specify\n",
    "# more generic shapes.\n",
    "\n",
    "train_step_signature = [\n",
    "    tf.TensorSpec(shape=(None, None), dtype=tf.int64),\n",
    "    tf.TensorSpec(shape=(None, None), dtype=tf.int64),\n",
    "]\n",
    "\n",
    "@tf.function(input_signature=train_step_signature)\n",
    "def train_step(inp, tar):\n",
    "  tar_inp = tar[:, :-1]\n",
    "  tar_real = tar[:, 1:]\n",
    "  \n",
    "  enc_padding_mask, combined_mask, dec_padding_mask = create_masks(inp, tar_inp)\n",
    "  \n",
    "  with tf.GradientTape() as tape:\n",
    "    predictions, _ = transformer(inp, tar_inp, \n",
    "                                 True, \n",
    "                                 enc_padding_mask, \n",
    "                                 combined_mask, \n",
    "                                 dec_padding_mask)\n",
    "    loss = loss_function(tar_real, predictions)\n",
    "\n",
    "  gradients = tape.gradient(loss, transformer.trainable_variables)    \n",
    "  optimizer.apply_gradients(zip(gradients, transformer.trainable_variables))\n",
    "  \n",
    "  train_loss(loss)\n",
    "  train_accuracy(accuracy_function(tar_real, predictions))"
   ]
  },
  {
   "cell_type": "markdown",
   "metadata": {
    "id": "qM2PDWGDJ_8V"
   },
   "source": [
    "Portuguese is used as the input language and English is the target language."
   ]
  },
  {
   "cell_type": "code",
   "execution_count": 54,
   "metadata": {
    "execution": {
     "iopub.execute_input": "2020-11-02T02:26:28.094989Z",
     "iopub.status.busy": "2020-11-02T02:26:28.094309Z",
     "iopub.status.idle": "2020-11-02T04:16:37.754510Z",
     "shell.execute_reply": "2020-11-02T04:16:37.753863Z"
    },
    "id": "bbvmaKNiznHZ"
   },
   "outputs": [
    {
     "name": "stdout",
     "output_type": "stream",
     "text": [
      "Epoch 1 Batch 0 Loss 9.0198 Accuracy 0.0000\n",
      "Epoch 1 Batch 50 Loss 8.9566 Accuracy 0.0060\n",
      "Epoch 1 Batch 100 Loss 8.8567 Accuracy 0.0306\n",
      "Epoch 1 Batch 150 Loss 8.7498 Accuracy 0.0381\n",
      "Epoch 1 Batch 200 Loss 8.6213 Accuracy 0.0431\n",
      "Epoch 1 Batch 250 Loss 8.4676 Accuracy 0.0528\n",
      "Epoch 1 Batch 300 Loss 8.2941 Accuracy 0.0630\n",
      "Epoch 1 Batch 350 Loss 8.1103 Accuracy 0.0710\n",
      "Epoch 1 Batch 400 Loss 7.9283 Accuracy 0.0773\n",
      "Epoch 1 Batch 450 Loss 7.7631 Accuracy 0.0825\n",
      "Epoch 1 Batch 500 Loss 7.6183 Accuracy 0.0881\n",
      "Epoch 1 Batch 550 Loss 7.4868 Accuracy 0.0939\n",
      "Epoch 1 Batch 600 Loss 7.3640 Accuracy 0.1007\n",
      "Epoch 1 Batch 650 Loss 7.2441 Accuracy 0.1076\n",
      "Epoch 1 Batch 700 Loss 7.1291 Accuracy 0.1146\n",
      "Epoch 1 Loss 7.1246 Accuracy 0.1149\n",
      "Time taken for 1 epoch: 356.5545802116394 secs\n",
      "\n",
      "Epoch 2 Batch 0 Loss 5.3808 Accuracy 0.2259\n",
      "Epoch 2 Batch 50 Loss 5.4921 Accuracy 0.2191\n",
      "Epoch 2 Batch 100 Loss 5.4470 Accuracy 0.2231\n",
      "Epoch 2 Batch 150 Loss 5.4008 Accuracy 0.2274\n",
      "Epoch 2 Batch 200 Loss 5.3479 Accuracy 0.2311\n",
      "Epoch 2 Batch 250 Loss 5.3001 Accuracy 0.2356\n",
      "Epoch 2 Batch 300 Loss 5.2542 Accuracy 0.2389\n",
      "Epoch 2 Batch 350 Loss 5.2172 Accuracy 0.2424\n",
      "Epoch 2 Batch 400 Loss 5.1819 Accuracy 0.2459\n",
      "Epoch 2 Batch 450 Loss 5.1527 Accuracy 0.2487\n",
      "Epoch 2 Batch 500 Loss 5.1213 Accuracy 0.2519\n",
      "Epoch 2 Batch 550 Loss 5.0927 Accuracy 0.2546\n",
      "Epoch 2 Batch 600 Loss 5.0653 Accuracy 0.2572\n",
      "Epoch 2 Batch 650 Loss 5.0412 Accuracy 0.2595\n",
      "Epoch 2 Batch 700 Loss 5.0185 Accuracy 0.2620\n",
      "Epoch 2 Loss 5.0170 Accuracy 0.2621\n",
      "Time taken for 1 epoch: 329.01824021339417 secs\n",
      "\n",
      "Epoch 3 Batch 0 Loss 4.6641 Accuracy 0.2917\n",
      "Epoch 3 Batch 50 Loss 4.6428 Accuracy 0.2983\n",
      "Epoch 3 Batch 100 Loss 4.6202 Accuracy 0.3008\n",
      "Epoch 3 Batch 150 Loss 4.6122 Accuracy 0.3018\n",
      "Epoch 3 Batch 200 Loss 4.5992 Accuracy 0.3031\n",
      "Epoch 3 Batch 250 Loss 4.5891 Accuracy 0.3047\n",
      "Epoch 3 Batch 300 Loss 4.5715 Accuracy 0.3064\n",
      "Epoch 3 Batch 350 Loss 4.5585 Accuracy 0.3076\n",
      "Epoch 3 Batch 400 Loss 4.5441 Accuracy 0.3094\n",
      "Epoch 3 Batch 450 Loss 4.5279 Accuracy 0.3112\n",
      "Epoch 3 Batch 500 Loss 4.5145 Accuracy 0.3128\n",
      "Epoch 3 Batch 550 Loss 4.5004 Accuracy 0.3142\n",
      "Epoch 3 Batch 600 Loss 4.4880 Accuracy 0.3159\n",
      "Epoch 3 Batch 650 Loss 4.4744 Accuracy 0.3177\n",
      "Epoch 3 Batch 700 Loss 4.4601 Accuracy 0.3193\n",
      "Epoch 3 Loss 4.4592 Accuracy 0.3194\n",
      "Time taken for 1 epoch: 329.6653571128845 secs\n",
      "\n",
      "Epoch 4 Batch 0 Loss 4.1498 Accuracy 0.3394\n",
      "Epoch 4 Batch 50 Loss 4.1801 Accuracy 0.3493\n",
      "Epoch 4 Batch 100 Loss 4.1397 Accuracy 0.3521\n",
      "Epoch 4 Batch 150 Loss 4.1312 Accuracy 0.3539\n",
      "Epoch 4 Batch 200 Loss 4.1132 Accuracy 0.3569\n",
      "Epoch 4 Batch 250 Loss 4.1008 Accuracy 0.3584\n",
      "Epoch 4 Batch 300 Loss 4.0835 Accuracy 0.3612\n",
      "Epoch 4 Batch 350 Loss 4.0667 Accuracy 0.3635\n",
      "Epoch 4 Batch 400 Loss 4.0514 Accuracy 0.3653\n",
      "Epoch 4 Batch 450 Loss 4.0328 Accuracy 0.3679\n",
      "Epoch 4 Batch 500 Loss 4.0187 Accuracy 0.3701\n",
      "Epoch 4 Batch 550 Loss 4.0050 Accuracy 0.3720\n",
      "Epoch 4 Batch 600 Loss 3.9889 Accuracy 0.3741\n",
      "Epoch 4 Batch 650 Loss 3.9719 Accuracy 0.3764\n",
      "Epoch 4 Batch 700 Loss 3.9573 Accuracy 0.3787\n",
      "Epoch 4 Loss 3.9571 Accuracy 0.3787\n",
      "Time taken for 1 epoch: 329.5320518016815 secs\n",
      "\n",
      "Epoch 5 Batch 0 Loss 3.5488 Accuracy 0.4171\n",
      "Epoch 5 Batch 50 Loss 3.6103 Accuracy 0.4169\n",
      "Epoch 5 Batch 100 Loss 3.5825 Accuracy 0.4221\n",
      "Epoch 5 Batch 150 Loss 3.5914 Accuracy 0.4221\n",
      "Epoch 5 Batch 200 Loss 3.5879 Accuracy 0.4233\n",
      "Epoch 5 Batch 250 Loss 3.5773 Accuracy 0.4248\n",
      "Epoch 5 Batch 300 Loss 3.5681 Accuracy 0.4263\n",
      "Epoch 5 Batch 350 Loss 3.5531 Accuracy 0.4286\n",
      "Epoch 5 Batch 400 Loss 3.5416 Accuracy 0.4302\n",
      "Epoch 5 Batch 450 Loss 3.5302 Accuracy 0.4319\n",
      "Epoch 5 Batch 500 Loss 3.5215 Accuracy 0.4332\n",
      "Epoch 5 Batch 550 Loss 3.5112 Accuracy 0.4347\n",
      "Epoch 5 Batch 600 Loss 3.5006 Accuracy 0.4361\n",
      "Epoch 5 Batch 650 Loss 3.4935 Accuracy 0.4369\n",
      "Epoch 5 Batch 700 Loss 3.4868 Accuracy 0.4376\n",
      "Saving checkpoint for epoch 5 at ./checkpoints/train/ckpt-1\n",
      "Epoch 5 Loss 3.4866 Accuracy 0.4377\n",
      "Time taken for 1 epoch: 329.0690224170685 secs\n",
      "\n",
      "Epoch 6 Batch 0 Loss 3.2325 Accuracy 0.4480\n",
      "Epoch 6 Batch 50 Loss 3.2148 Accuracy 0.4647\n",
      "Epoch 6 Batch 100 Loss 3.1823 Accuracy 0.4689\n",
      "Epoch 6 Batch 150 Loss 3.1713 Accuracy 0.4697\n",
      "Epoch 6 Batch 200 Loss 3.1619 Accuracy 0.4717\n",
      "Epoch 6 Batch 250 Loss 3.1487 Accuracy 0.4737\n",
      "Epoch 6 Batch 300 Loss 3.1402 Accuracy 0.4750\n",
      "Epoch 6 Batch 350 Loss 3.1383 Accuracy 0.4749\n",
      "Epoch 6 Batch 400 Loss 3.1291 Accuracy 0.4761\n",
      "Epoch 6 Batch 450 Loss 3.1239 Accuracy 0.4766\n",
      "Epoch 6 Batch 500 Loss 3.1190 Accuracy 0.4773\n",
      "Epoch 6 Batch 550 Loss 3.1155 Accuracy 0.4775\n",
      "Epoch 6 Batch 600 Loss 3.1079 Accuracy 0.4786\n",
      "Epoch 6 Batch 650 Loss 3.0996 Accuracy 0.4798\n",
      "Epoch 6 Batch 700 Loss 3.0910 Accuracy 0.4809\n",
      "Epoch 6 Loss 3.0901 Accuracy 0.4810\n",
      "Time taken for 1 epoch: 329.31779623031616 secs\n",
      "\n",
      "Epoch 7 Batch 0 Loss 2.6800 Accuracy 0.5217\n",
      "Epoch 7 Batch 50 Loss 2.7518 Accuracy 0.5169\n",
      "Epoch 7 Batch 100 Loss 2.7756 Accuracy 0.5133\n",
      "Epoch 7 Batch 150 Loss 2.7687 Accuracy 0.5150\n",
      "Epoch 7 Batch 200 Loss 2.7671 Accuracy 0.5156\n",
      "Epoch 7 Batch 250 Loss 2.7552 Accuracy 0.5175\n",
      "Epoch 7 Batch 300 Loss 2.7445 Accuracy 0.5193\n",
      "Epoch 7 Batch 350 Loss 2.7383 Accuracy 0.5202\n",
      "Epoch 7 Batch 400 Loss 2.7309 Accuracy 0.5213\n",
      "Epoch 7 Batch 450 Loss 2.7273 Accuracy 0.5217\n",
      "Epoch 7 Batch 500 Loss 2.7227 Accuracy 0.5224\n",
      "Epoch 7 Batch 550 Loss 2.7165 Accuracy 0.5233\n",
      "Epoch 7 Batch 600 Loss 2.7098 Accuracy 0.5242\n",
      "Epoch 7 Batch 650 Loss 2.7059 Accuracy 0.5248\n",
      "Epoch 7 Batch 700 Loss 2.7015 Accuracy 0.5255\n",
      "Epoch 7 Loss 2.7009 Accuracy 0.5255\n",
      "Time taken for 1 epoch: 328.4230201244354 secs\n",
      "\n",
      "Epoch 8 Batch 0 Loss 2.4337 Accuracy 0.5464\n",
      "Epoch 8 Batch 50 Loss 2.3840 Accuracy 0.5613\n",
      "Epoch 8 Batch 100 Loss 2.3731 Accuracy 0.5639\n",
      "Epoch 8 Batch 150 Loss 2.3805 Accuracy 0.5639\n",
      "Epoch 8 Batch 200 Loss 2.3819 Accuracy 0.5637\n",
      "Epoch 8 Batch 250 Loss 2.3868 Accuracy 0.5625\n",
      "Epoch 8 Batch 300 Loss 2.3867 Accuracy 0.5625\n",
      "Epoch 8 Batch 350 Loss 2.3840 Accuracy 0.5631\n",
      "Epoch 8 Batch 400 Loss 2.3814 Accuracy 0.5637\n",
      "Epoch 8 Batch 450 Loss 2.3806 Accuracy 0.5638\n",
      "Epoch 8 Batch 500 Loss 2.3784 Accuracy 0.5640\n",
      "Epoch 8 Batch 550 Loss 2.3755 Accuracy 0.5646\n",
      "Epoch 8 Batch 600 Loss 2.3763 Accuracy 0.5646\n",
      "Epoch 8 Batch 650 Loss 2.3762 Accuracy 0.5649\n",
      "Epoch 8 Batch 700 Loss 2.3753 Accuracy 0.5652\n",
      "Epoch 8 Loss 2.3750 Accuracy 0.5653\n",
      "Time taken for 1 epoch: 328.0940201282501 secs\n",
      "\n",
      "Epoch 9 Batch 0 Loss 2.1380 Accuracy 0.5907\n",
      "Epoch 9 Batch 50 Loss 2.1332 Accuracy 0.5948\n",
      "Epoch 9 Batch 100 Loss 2.1317 Accuracy 0.5945\n",
      "Epoch 9 Batch 150 Loss 2.1257 Accuracy 0.5951\n",
      "Epoch 9 Batch 200 Loss 2.1219 Accuracy 0.5961\n",
      "Epoch 9 Batch 250 Loss 2.1259 Accuracy 0.5958\n",
      "Epoch 9 Batch 300 Loss 2.1301 Accuracy 0.5954\n",
      "Epoch 9 Batch 350 Loss 2.1341 Accuracy 0.5952\n",
      "Epoch 9 Batch 400 Loss 2.1332 Accuracy 0.5954\n",
      "Epoch 9 Batch 450 Loss 2.1361 Accuracy 0.5950\n",
      "Epoch 9 Batch 500 Loss 2.1391 Accuracy 0.5945\n",
      "Epoch 9 Batch 550 Loss 2.1402 Accuracy 0.5945\n",
      "Epoch 9 Batch 600 Loss 2.1391 Accuracy 0.5948\n",
      "Epoch 9 Batch 650 Loss 2.1411 Accuracy 0.5946\n",
      "Epoch 9 Batch 700 Loss 2.1419 Accuracy 0.5947\n",
      "Epoch 9 Loss 2.1421 Accuracy 0.5947\n",
      "Time taken for 1 epoch: 328.67867064476013 secs\n",
      "\n",
      "Epoch 10 Batch 0 Loss 2.1447 Accuracy 0.5654\n",
      "Epoch 10 Batch 50 Loss 1.9188 Accuracy 0.6214\n",
      "Epoch 10 Batch 100 Loss 1.9275 Accuracy 0.6203\n",
      "Epoch 10 Batch 150 Loss 1.9255 Accuracy 0.6217\n",
      "Epoch 10 Batch 200 Loss 1.9352 Accuracy 0.6202\n",
      "Epoch 10 Batch 250 Loss 1.9391 Accuracy 0.6197\n",
      "Epoch 10 Batch 300 Loss 1.9473 Accuracy 0.6189\n",
      "Epoch 10 Batch 350 Loss 1.9503 Accuracy 0.6185\n",
      "Epoch 10 Batch 400 Loss 1.9528 Accuracy 0.6179\n",
      "Epoch 10 Batch 450 Loss 1.9583 Accuracy 0.6170\n",
      "Epoch 10 Batch 500 Loss 1.9615 Accuracy 0.6168\n",
      "Epoch 10 Batch 550 Loss 1.9638 Accuracy 0.6169\n",
      "Epoch 10 Batch 600 Loss 1.9646 Accuracy 0.6169\n",
      "Epoch 10 Batch 650 Loss 1.9658 Accuracy 0.6169\n",
      "Epoch 10 Batch 700 Loss 1.9674 Accuracy 0.6167\n",
      "Saving checkpoint for epoch 10 at ./checkpoints/train/ckpt-2\n",
      "Epoch 10 Loss 1.9675 Accuracy 0.6167\n",
      "Time taken for 1 epoch: 328.0170452594757 secs\n",
      "\n",
      "Epoch 11 Batch 0 Loss 1.9735 Accuracy 0.6258\n",
      "Epoch 11 Batch 50 Loss 1.7728 Accuracy 0.6423\n",
      "Epoch 11 Batch 100 Loss 1.7802 Accuracy 0.6410\n",
      "Epoch 11 Batch 150 Loss 1.7852 Accuracy 0.6403\n",
      "Epoch 11 Batch 200 Loss 1.7945 Accuracy 0.6387\n",
      "Epoch 11 Batch 250 Loss 1.7977 Accuracy 0.6379\n",
      "Epoch 11 Batch 300 Loss 1.7942 Accuracy 0.6385\n",
      "Epoch 11 Batch 350 Loss 1.8017 Accuracy 0.6374\n"
     ]
    },
    {
     "name": "stdout",
     "output_type": "stream",
     "text": [
      "Epoch 11 Batch 400 Loss 1.8012 Accuracy 0.6378\n",
      "Epoch 11 Batch 450 Loss 1.8063 Accuracy 0.6371\n",
      "Epoch 11 Batch 500 Loss 1.8089 Accuracy 0.6369\n",
      "Epoch 11 Batch 550 Loss 1.8126 Accuracy 0.6365\n",
      "Epoch 11 Batch 600 Loss 1.8170 Accuracy 0.6360\n",
      "Epoch 11 Batch 650 Loss 1.8226 Accuracy 0.6354\n",
      "Epoch 11 Batch 700 Loss 1.8250 Accuracy 0.6352\n",
      "Epoch 11 Loss 1.8256 Accuracy 0.6351\n",
      "Time taken for 1 epoch: 327.8001685142517 secs\n",
      "\n",
      "Epoch 12 Batch 0 Loss 1.6151 Accuracy 0.6718\n",
      "Epoch 12 Batch 50 Loss 1.6312 Accuracy 0.6627\n",
      "Epoch 12 Batch 100 Loss 1.6509 Accuracy 0.6588\n",
      "Epoch 12 Batch 150 Loss 1.6678 Accuracy 0.6562\n",
      "Epoch 12 Batch 200 Loss 1.6765 Accuracy 0.6549\n",
      "Epoch 12 Batch 250 Loss 1.6849 Accuracy 0.6536\n",
      "Epoch 12 Batch 300 Loss 1.6853 Accuracy 0.6532\n",
      "Epoch 12 Batch 350 Loss 1.6876 Accuracy 0.6529\n",
      "Epoch 12 Batch 400 Loss 1.6880 Accuracy 0.6531\n",
      "Epoch 12 Batch 450 Loss 1.6916 Accuracy 0.6527\n",
      "Epoch 12 Batch 500 Loss 1.6950 Accuracy 0.6522\n",
      "Epoch 12 Batch 550 Loss 1.6998 Accuracy 0.6516\n",
      "Epoch 12 Batch 600 Loss 1.7023 Accuracy 0.6512\n",
      "Epoch 12 Batch 650 Loss 1.7068 Accuracy 0.6507\n",
      "Epoch 12 Batch 700 Loss 1.7100 Accuracy 0.6503\n",
      "Epoch 12 Loss 1.7105 Accuracy 0.6502\n",
      "Time taken for 1 epoch: 329.3431029319763 secs\n",
      "\n",
      "Epoch 13 Batch 0 Loss 1.5410 Accuracy 0.6902\n",
      "Epoch 13 Batch 50 Loss 1.5296 Accuracy 0.6748\n",
      "Epoch 13 Batch 100 Loss 1.5512 Accuracy 0.6718\n",
      "Epoch 13 Batch 150 Loss 1.5605 Accuracy 0.6706\n",
      "Epoch 13 Batch 200 Loss 1.5643 Accuracy 0.6705\n",
      "Epoch 13 Batch 250 Loss 1.5695 Accuracy 0.6700\n",
      "Epoch 13 Batch 300 Loss 1.5756 Accuracy 0.6691\n",
      "Epoch 13 Batch 350 Loss 1.5782 Accuracy 0.6689\n",
      "Epoch 13 Batch 400 Loss 1.5816 Accuracy 0.6681\n",
      "Epoch 13 Batch 450 Loss 1.5883 Accuracy 0.6668\n",
      "Epoch 13 Batch 500 Loss 1.5922 Accuracy 0.6663\n",
      "Epoch 13 Batch 550 Loss 1.5949 Accuracy 0.6661\n",
      "Epoch 13 Batch 600 Loss 1.5997 Accuracy 0.6655\n",
      "Epoch 13 Batch 650 Loss 1.6056 Accuracy 0.6645\n",
      "Epoch 13 Batch 700 Loss 1.6087 Accuracy 0.6644\n",
      "Epoch 13 Loss 1.6087 Accuracy 0.6644\n",
      "Time taken for 1 epoch: 329.06107211112976 secs\n",
      "\n",
      "Epoch 14 Batch 0 Loss 1.3944 Accuracy 0.6995\n",
      "Epoch 14 Batch 50 Loss 1.4568 Accuracy 0.6866\n",
      "Epoch 14 Batch 100 Loss 1.4724 Accuracy 0.6843\n",
      "Epoch 14 Batch 150 Loss 1.4806 Accuracy 0.6835\n",
      "Epoch 14 Batch 200 Loss 1.4826 Accuracy 0.6830\n",
      "Epoch 14 Batch 250 Loss 1.4882 Accuracy 0.6812\n",
      "Epoch 14 Batch 300 Loss 1.4904 Accuracy 0.6811\n",
      "Epoch 14 Batch 350 Loss 1.4919 Accuracy 0.6809\n",
      "Epoch 14 Batch 400 Loss 1.4956 Accuracy 0.6806\n",
      "Epoch 14 Batch 450 Loss 1.5005 Accuracy 0.6799\n",
      "Epoch 14 Batch 500 Loss 1.5039 Accuracy 0.6795\n",
      "Epoch 14 Batch 550 Loss 1.5082 Accuracy 0.6788\n",
      "Epoch 14 Batch 600 Loss 1.5137 Accuracy 0.6779\n",
      "Epoch 14 Batch 650 Loss 1.5200 Accuracy 0.6770\n",
      "Epoch 14 Batch 700 Loss 1.5251 Accuracy 0.6763\n",
      "Epoch 14 Loss 1.5255 Accuracy 0.6762\n",
      "Time taken for 1 epoch: 328.8318474292755 secs\n",
      "\n",
      "Epoch 15 Batch 0 Loss 1.5352 Accuracy 0.6574\n",
      "Epoch 15 Batch 50 Loss 1.3418 Accuracy 0.7061\n",
      "Epoch 15 Batch 100 Loss 1.3626 Accuracy 0.7019\n",
      "Epoch 15 Batch 150 Loss 1.3738 Accuracy 0.6999\n",
      "Epoch 15 Batch 200 Loss 1.3871 Accuracy 0.6971\n",
      "Epoch 15 Batch 250 Loss 1.3942 Accuracy 0.6962\n",
      "Epoch 15 Batch 300 Loss 1.4037 Accuracy 0.6945\n",
      "Epoch 15 Batch 350 Loss 1.4079 Accuracy 0.6940\n",
      "Epoch 15 Batch 400 Loss 1.4144 Accuracy 0.6931\n",
      "Epoch 15 Batch 450 Loss 1.4214 Accuracy 0.6919\n",
      "Epoch 15 Batch 500 Loss 1.4255 Accuracy 0.6914\n",
      "Epoch 15 Batch 550 Loss 1.4304 Accuracy 0.6906\n",
      "Epoch 15 Batch 600 Loss 1.4359 Accuracy 0.6896\n",
      "Epoch 15 Batch 650 Loss 1.4403 Accuracy 0.6889\n",
      "Epoch 15 Batch 700 Loss 1.4479 Accuracy 0.6878\n",
      "Saving checkpoint for epoch 15 at ./checkpoints/train/ckpt-3\n",
      "Epoch 15 Loss 1.4481 Accuracy 0.6878\n",
      "Time taken for 1 epoch: 329.04406332969666 secs\n",
      "\n",
      "Epoch 16 Batch 0 Loss 1.3499 Accuracy 0.6903\n",
      "Epoch 16 Batch 50 Loss 1.2827 Accuracy 0.7132\n",
      "Epoch 16 Batch 100 Loss 1.2885 Accuracy 0.7136\n",
      "Epoch 16 Batch 150 Loss 1.3014 Accuracy 0.7119\n",
      "Epoch 16 Batch 200 Loss 1.3165 Accuracy 0.7090\n",
      "Epoch 16 Batch 250 Loss 1.3267 Accuracy 0.7072\n",
      "Epoch 16 Batch 300 Loss 1.3326 Accuracy 0.7057\n",
      "Epoch 16 Batch 350 Loss 1.3404 Accuracy 0.7041\n",
      "Epoch 16 Batch 400 Loss 1.3477 Accuracy 0.7027\n",
      "Epoch 16 Batch 450 Loss 1.3547 Accuracy 0.7017\n",
      "Epoch 16 Batch 500 Loss 1.3585 Accuracy 0.7012\n",
      "Epoch 16 Batch 550 Loss 1.3641 Accuracy 0.7003\n",
      "Epoch 16 Batch 600 Loss 1.3696 Accuracy 0.6994\n",
      "Epoch 16 Batch 650 Loss 1.3757 Accuracy 0.6987\n",
      "Epoch 16 Batch 700 Loss 1.3806 Accuracy 0.6979\n",
      "Epoch 16 Loss 1.3809 Accuracy 0.6979\n",
      "Time taken for 1 epoch: 329.09080934524536 secs\n",
      "\n",
      "Epoch 17 Batch 0 Loss 1.2575 Accuracy 0.7162\n",
      "Epoch 17 Batch 50 Loss 1.2620 Accuracy 0.7161\n",
      "Epoch 17 Batch 100 Loss 1.2560 Accuracy 0.7187\n",
      "Epoch 17 Batch 150 Loss 1.2598 Accuracy 0.7174\n",
      "Epoch 17 Batch 200 Loss 1.2668 Accuracy 0.7160\n",
      "Epoch 17 Batch 250 Loss 1.2760 Accuracy 0.7143\n",
      "Epoch 17 Batch 300 Loss 1.2784 Accuracy 0.7143\n",
      "Epoch 17 Batch 350 Loss 1.2853 Accuracy 0.7133\n",
      "Epoch 17 Batch 400 Loss 1.2901 Accuracy 0.7123\n",
      "Epoch 17 Batch 450 Loss 1.2948 Accuracy 0.7119\n",
      "Epoch 17 Batch 500 Loss 1.3009 Accuracy 0.7108\n",
      "Epoch 17 Batch 550 Loss 1.3065 Accuracy 0.7097\n",
      "Epoch 17 Batch 600 Loss 1.3117 Accuracy 0.7089\n",
      "Epoch 17 Batch 650 Loss 1.3161 Accuracy 0.7082\n",
      "Epoch 17 Batch 700 Loss 1.3205 Accuracy 0.7075\n",
      "Epoch 17 Loss 1.3213 Accuracy 0.7074\n",
      "Time taken for 1 epoch: 330.29657912254333 secs\n",
      "\n",
      "Epoch 18 Batch 0 Loss 0.9995 Accuracy 0.7531\n",
      "Epoch 18 Batch 50 Loss 1.1740 Accuracy 0.7312\n",
      "Epoch 18 Batch 100 Loss 1.1851 Accuracy 0.7302\n",
      "Epoch 18 Batch 150 Loss 1.1958 Accuracy 0.7280\n",
      "Epoch 18 Batch 200 Loss 1.2056 Accuracy 0.7266\n",
      "Epoch 18 Batch 250 Loss 1.2129 Accuracy 0.7251\n",
      "Epoch 18 Batch 300 Loss 1.2198 Accuracy 0.7237\n",
      "Epoch 18 Batch 350 Loss 1.2270 Accuracy 0.7223\n",
      "Epoch 18 Batch 400 Loss 1.2320 Accuracy 0.7216\n",
      "Epoch 18 Batch 450 Loss 1.2352 Accuracy 0.7208\n",
      "Epoch 18 Batch 500 Loss 1.2431 Accuracy 0.7193\n",
      "Epoch 18 Batch 550 Loss 1.2500 Accuracy 0.7181\n",
      "Epoch 18 Batch 600 Loss 1.2569 Accuracy 0.7169\n",
      "Epoch 18 Batch 650 Loss 1.2627 Accuracy 0.7158\n",
      "Epoch 18 Batch 700 Loss 1.2681 Accuracy 0.7152\n",
      "Epoch 18 Loss 1.2685 Accuracy 0.7152\n",
      "Time taken for 1 epoch: 329.7291362285614 secs\n",
      "\n",
      "Epoch 19 Batch 0 Loss 1.0314 Accuracy 0.7674\n",
      "Epoch 19 Batch 50 Loss 1.1367 Accuracy 0.7379\n",
      "Epoch 19 Batch 100 Loss 1.1340 Accuracy 0.7396\n",
      "Epoch 19 Batch 150 Loss 1.1466 Accuracy 0.7365\n",
      "Epoch 19 Batch 200 Loss 1.1553 Accuracy 0.7347\n",
      "Epoch 19 Batch 250 Loss 1.1660 Accuracy 0.7327\n",
      "Epoch 19 Batch 300 Loss 1.1708 Accuracy 0.7319\n",
      "Epoch 19 Batch 350 Loss 1.1795 Accuracy 0.7299\n",
      "Epoch 19 Batch 400 Loss 1.1847 Accuracy 0.7291\n",
      "Epoch 19 Batch 450 Loss 1.1905 Accuracy 0.7279\n",
      "Epoch 19 Batch 500 Loss 1.1967 Accuracy 0.7267\n",
      "Epoch 19 Batch 550 Loss 1.2032 Accuracy 0.7255\n",
      "Epoch 19 Batch 600 Loss 1.2076 Accuracy 0.7249\n",
      "Epoch 19 Batch 650 Loss 1.2144 Accuracy 0.7238\n",
      "Epoch 19 Batch 700 Loss 1.2202 Accuracy 0.7228\n",
      "Epoch 19 Loss 1.2207 Accuracy 0.7227\n",
      "Time taken for 1 epoch: 330.0889730453491 secs\n",
      "\n",
      "Epoch 20 Batch 0 Loss 0.9899 Accuracy 0.7659\n",
      "Epoch 20 Batch 50 Loss 1.0937 Accuracy 0.7445\n",
      "Epoch 20 Batch 100 Loss 1.1030 Accuracy 0.7432\n",
      "Epoch 20 Batch 150 Loss 1.1085 Accuracy 0.7418\n",
      "Epoch 20 Batch 200 Loss 1.1173 Accuracy 0.7404\n",
      "Epoch 20 Batch 250 Loss 1.1255 Accuracy 0.7387\n",
      "Epoch 20 Batch 300 Loss 1.1306 Accuracy 0.7377\n",
      "Epoch 20 Batch 350 Loss 1.1335 Accuracy 0.7372\n",
      "Epoch 20 Batch 400 Loss 1.1396 Accuracy 0.7362\n",
      "Epoch 20 Batch 450 Loss 1.1451 Accuracy 0.7350\n",
      "Epoch 20 Batch 500 Loss 1.1503 Accuracy 0.7342\n",
      "Epoch 20 Batch 550 Loss 1.1561 Accuracy 0.7330\n",
      "Epoch 20 Batch 600 Loss 1.1630 Accuracy 0.7317\n",
      "Epoch 20 Batch 650 Loss 1.1674 Accuracy 0.7310\n",
      "Epoch 20 Batch 700 Loss 1.1748 Accuracy 0.7298\n",
      "Saving checkpoint for epoch 20 at ./checkpoints/train/ckpt-4\n",
      "Epoch 20 Loss 1.1756 Accuracy 0.7297\n",
      "Time taken for 1 epoch: 330.0001685619354 secs\n",
      "\n"
     ]
    }
   ],
   "source": [
    "for epoch in range(EPOCHS):\n",
    "  start = time.time()\n",
    "  \n",
    "  train_loss.reset_states()\n",
    "  train_accuracy.reset_states()\n",
    "  \n",
    "  # inp -> portuguese, tar -> english\n",
    "  for (batch, (inp, tar)) in enumerate(train_dataset):\n",
    "    train_step(inp, tar)\n",
    "    \n",
    "    if batch % 50 == 0:\n",
    "      print ('Epoch {} Batch {} Loss {:.4f} Accuracy {:.4f}'.format(\n",
    "          epoch + 1, batch, train_loss.result(), train_accuracy.result()))\n",
    "      \n",
    "  if (epoch + 1) % 5 == 0:\n",
    "    ckpt_save_path = ckpt_manager.save()\n",
    "    print ('Saving checkpoint for epoch {} at {}'.format(epoch+1,\n",
    "                                                         ckpt_save_path))\n",
    "    \n",
    "  print ('Epoch {} Loss {:.4f} Accuracy {:.4f}'.format(epoch + 1, \n",
    "                                                train_loss.result(), \n",
    "                                                train_accuracy.result()))\n",
    "\n",
    "  print ('Time taken for 1 epoch: {} secs\\n'.format(time.time() - start))"
   ]
  },
  {
   "cell_type": "markdown",
   "metadata": {
    "id": "QfcsSWswSdGV"
   },
   "source": [
    "## Evaluate"
   ]
  },
  {
   "cell_type": "markdown",
   "metadata": {
    "id": "y6APsFrgImLW"
   },
   "source": [
    "The following steps are used for evaluation:\n",
    "\n",
    "* Encode the input sentence using the Portuguese tokenizer (`tokenizer_pt`). Moreover, add the start and end token so the input is equivalent to what the model is trained with. This is the encoder input.\n",
    "* The decoder input is the `start token == tokenizer_en.vocab_size`.\n",
    "* Calculate the padding masks and the look ahead masks.\n",
    "* The `decoder` then outputs the predictions by looking at the `encoder output` and its own output (self-attention).\n",
    "* Select the last word and calculate the argmax of that.\n",
    "* Concatentate the predicted word to the decoder input as pass it to the decoder.\n",
    "* In this approach, the decoder predicts the next word based on the previous words it predicted.\n",
    "\n",
    "Note: The model used here has less capacity to keep the example relatively faster so the predictions maybe less right. To reproduce the results in the paper, use the entire dataset and base transformer model or transformer XL, by changing the hyperparameters above."
   ]
  },
  {
   "cell_type": "code",
   "execution_count": 55,
   "metadata": {
    "execution": {
     "iopub.execute_input": "2020-11-02T04:16:37.762810Z",
     "iopub.status.busy": "2020-11-02T04:16:37.762085Z",
     "iopub.status.idle": "2020-11-02T04:16:37.764376Z",
     "shell.execute_reply": "2020-11-02T04:16:37.763905Z"
    },
    "id": "5buvMlnvyrFm"
   },
   "outputs": [],
   "source": [
    "def evaluate(inp_sentence):\n",
    "  start_token = [tokenizer_pt.vocab_size]\n",
    "  end_token = [tokenizer_pt.vocab_size + 1]\n",
    "  \n",
    "  # inp sentence is portuguese, hence adding the start and end token\n",
    "  inp_sentence = start_token + tokenizer_pt.encode(inp_sentence) + end_token\n",
    "  encoder_input = tf.expand_dims(inp_sentence, 0)\n",
    "  \n",
    "  # as the target is english, the first word to the transformer should be the\n",
    "  # english start token.\n",
    "  decoder_input = [tokenizer_en.vocab_size]\n",
    "  output = tf.expand_dims(decoder_input, 0)\n",
    "    \n",
    "  for i in range(MAX_LENGTH):\n",
    "    enc_padding_mask, combined_mask, dec_padding_mask = create_masks(\n",
    "        encoder_input, output)\n",
    "  \n",
    "    # predictions.shape == (batch_size, seq_len, vocab_size)\n",
    "    predictions, attention_weights = transformer(encoder_input, \n",
    "                                                 output,\n",
    "                                                 False,\n",
    "                                                 enc_padding_mask,\n",
    "                                                 combined_mask,\n",
    "                                                 dec_padding_mask)\n",
    "    \n",
    "    # select the last word from the seq_len dimension\n",
    "    predictions = predictions[: ,-1:, :]  # (batch_size, 1, vocab_size)\n",
    "\n",
    "    predicted_id = tf.cast(tf.argmax(predictions, axis=-1), tf.int32)\n",
    "    \n",
    "    # return the result if the predicted_id is equal to the end token\n",
    "    if predicted_id == tokenizer_en.vocab_size+1:\n",
    "      return tf.squeeze(output, axis=0), attention_weights\n",
    "    \n",
    "    # concatentate the predicted_id to the output which is given to the decoder\n",
    "    # as its input.\n",
    "    output = tf.concat([output, predicted_id], axis=-1)\n",
    "\n",
    "  return tf.squeeze(output, axis=0), attention_weights"
   ]
  },
  {
   "cell_type": "code",
   "execution_count": 56,
   "metadata": {
    "execution": {
     "iopub.execute_input": "2020-11-02T04:16:37.772962Z",
     "iopub.status.busy": "2020-11-02T04:16:37.772298Z",
     "iopub.status.idle": "2020-11-02T04:16:37.774529Z",
     "shell.execute_reply": "2020-11-02T04:16:37.774013Z"
    },
    "id": "CN-BV43FMBej"
   },
   "outputs": [],
   "source": [
    "def plot_attention_weights(attention, sentence, result, layer):\n",
    "  fig = plt.figure(figsize=(16, 8))\n",
    "  \n",
    "  sentence = tokenizer_pt.encode(sentence)\n",
    "  \n",
    "  attention = tf.squeeze(attention[layer], axis=0)\n",
    "  \n",
    "  for head in range(attention.shape[0]):\n",
    "    ax = fig.add_subplot(2, 4, head+1)\n",
    "    \n",
    "    # plot the attention weights\n",
    "    ax.matshow(attention[head][:-1, :], cmap='viridis')\n",
    "\n",
    "    fontdict = {'fontsize': 10}\n",
    "    \n",
    "    ax.set_xticks(range(len(sentence)+2))\n",
    "    ax.set_yticks(range(len(result)))\n",
    "    \n",
    "    ax.set_ylim(len(result)-1.5, -0.5)\n",
    "        \n",
    "    ax.set_xticklabels(\n",
    "        ['<start>']+[tokenizer_pt.decode([i]) for i in sentence]+['<end>'], \n",
    "        fontdict=fontdict, rotation=90)\n",
    "    \n",
    "    ax.set_yticklabels([tokenizer_en.decode([i]) for i in result \n",
    "                        if i < tokenizer_en.vocab_size], \n",
    "                       fontdict=fontdict)\n",
    "    \n",
    "    ax.set_xlabel('Head {}'.format(head+1))\n",
    "  \n",
    "  plt.tight_layout()\n",
    "  plt.show()"
   ]
  },
  {
   "cell_type": "code",
   "execution_count": 57,
   "metadata": {
    "execution": {
     "iopub.execute_input": "2020-11-02T04:16:37.779773Z",
     "iopub.status.busy": "2020-11-02T04:16:37.779103Z",
     "iopub.status.idle": "2020-11-02T04:16:37.781360Z",
     "shell.execute_reply": "2020-11-02T04:16:37.780888Z"
    },
    "id": "lU2_yG_vBGza"
   },
   "outputs": [],
   "source": [
    "def translate(sentence, plot=''):\n",
    "  result, attention_weights = evaluate(sentence)\n",
    "  \n",
    "  predicted_sentence = tokenizer_en.decode([i for i in result \n",
    "                                            if i < tokenizer_en.vocab_size])  \n",
    "\n",
    "  print('Input: {}'.format(sentence))\n",
    "  print('Predicted translation: {}'.format(predicted_sentence))\n",
    "  \n",
    "  if plot:\n",
    "    plot_attention_weights(attention_weights, sentence, result, plot)"
   ]
  },
  {
   "cell_type": "code",
   "execution_count": 58,
   "metadata": {
    "execution": {
     "iopub.execute_input": "2020-11-02T04:16:37.785148Z",
     "iopub.status.busy": "2020-11-02T04:16:37.784487Z",
     "iopub.status.idle": "2020-11-02T04:16:39.025891Z",
     "shell.execute_reply": "2020-11-02T04:16:39.025281Z"
    },
    "id": "YsxrAlvFG8SZ"
   },
   "outputs": [
    {
     "name": "stdout",
     "output_type": "stream",
     "text": [
      "Input: este é um problema que temos que resolver.\n",
      "Predicted translation: so this is a problem that we have to solve the global challenges .\n",
      "Real translation: this is a problem we have to solve .\n"
     ]
    }
   ],
   "source": [
    "translate(\"este é um problema que temos que resolver.\")\n",
    "print (\"Real translation: this is a problem we have to solve .\")"
   ]
  },
  {
   "cell_type": "code",
   "execution_count": 59,
   "metadata": {
    "execution": {
     "iopub.execute_input": "2020-11-02T04:16:39.030035Z",
     "iopub.status.busy": "2020-11-02T04:16:39.029378Z",
     "iopub.status.idle": "2020-11-02T04:16:39.764247Z",
     "shell.execute_reply": "2020-11-02T04:16:39.763740Z"
    },
    "id": "7EH5y_aqI4t1"
   },
   "outputs": [
    {
     "name": "stdout",
     "output_type": "stream",
     "text": [
      "Input: os meus vizinhos ouviram sobre esta ideia.\n",
      "Predicted translation: my neighbors heard about this idea .\n",
      "Real translation: and my neighboring homes heard about this idea .\n"
     ]
    }
   ],
   "source": [
    "translate(\"os meus vizinhos ouviram sobre esta ideia.\")\n",
    "print (\"Real translation: and my neighboring homes heard about this idea .\")"
   ]
  },
  {
   "cell_type": "code",
   "execution_count": 60,
   "metadata": {
    "execution": {
     "iopub.execute_input": "2020-11-02T04:16:39.769311Z",
     "iopub.status.busy": "2020-11-02T04:16:39.768606Z",
     "iopub.status.idle": "2020-11-02T04:16:42.049202Z",
     "shell.execute_reply": "2020-11-02T04:16:42.049631Z"
    },
    "id": "J-hVCTSUMlkb"
   },
   "outputs": [
    {
     "name": "stdout",
     "output_type": "stream",
     "text": [
      "Input: vou então muito rapidamente partilhar convosco algumas histórias de algumas coisas mágicas que aconteceram.\n",
      "Predicted translation: so i 'm going to share with you a lot of magic stories that happened to be some very magical stuff that happened .\n",
      "Real translation: so i 'll just share with you some stories very quickly of some magical things that have happened .\n"
     ]
    }
   ],
   "source": [
    "translate(\"vou então muito rapidamente partilhar convosco algumas histórias de algumas coisas mágicas que aconteceram.\")\n",
    "print (\"Real translation: so i 'll just share with you some stories very quickly of some magical things that have happened .\")"
   ]
  },
  {
   "cell_type": "markdown",
   "metadata": {
    "id": "_1MxkSZvz0jX"
   },
   "source": [
    "You can pass different layers and attention blocks of the decoder to the `plot` parameter."
   ]
  },
  {
   "cell_type": "code",
   "execution_count": 61,
   "metadata": {
    "execution": {
     "iopub.execute_input": "2020-11-02T04:16:42.054286Z",
     "iopub.status.busy": "2020-11-02T04:16:42.053550Z",
     "iopub.status.idle": "2020-11-02T04:16:43.727809Z",
     "shell.execute_reply": "2020-11-02T04:16:43.728233Z"
    },
    "id": "t-kFyiOLH0xg"
   },
   "outputs": [
    {
     "name": "stdout",
     "output_type": "stream",
     "text": [
      "Input: este é o primeiro livro que eu fiz.\n",
      "Predicted translation: so this is the first book i made .\n"
     ]
    },
    {
     "data": {
      "image/png": "[encoded data removed]",
      "text/plain": [
       "<Figure size 1152x576 with 8 Axes>"
      ]
     },
     "metadata": {
      "needs_background": "light"
     },
     "output_type": "display_data"
    },
    {
     "name": "stdout",
     "output_type": "stream",
     "text": [
      "Real translation: this is the first book i've ever done.\n"
     ]
    }
   ],
   "source": [
    "translate(\"este é o primeiro livro que eu fiz.\", plot='decoder_layer4_block2')\n",
    "print (\"Real translation: this is the first book i've ever done.\")"
   ]
  },
  {
   "cell_type": "markdown",
   "metadata": {
    "id": "RqQ1fIsLwkGE"
   },
   "source": [
    "## Summary\n",
    "\n",
    "In this tutorial, you learned about positional encoding, multi-head attention, the importance of masking and how to create a transformer.\n",
    "\n",
    "Try using a different dataset to train the transformer. You can also create the base transformer or transformer XL by changing the hyperparameters above. You can also use the layers defined here to create [BERT](https://arxiv.org/abs/1810.04805) and train state of the art models. Futhermore, you can implement beam search to get better predictions."
   ]
  }
 ],
 "metadata": {
  "accelerator": "GPU",
  "colab": {
   "collapsed_sections": [
    "s_qNSzzyaCbD"
   ],
   "name": "transformer.ipynb",
   "toc_visible": true
  },
  "kernelspec": {
   "display_name": "Python 3",
   "language": "python",
   "name": "python3"
  },
  "language_info": {
   "codemirror_mode": {
    "name": "ipython",
    "version": 3
   },
   "file_extension": ".py",
   "mimetype": "text/x-python",
   "name": "python",
   "nbconvert_exporter": "python",
   "pygments_lexer": "ipython3",
   "version": "3.8.5"
  }
 },
 "nbformat": 4,
 "nbformat_minor": 1
}
