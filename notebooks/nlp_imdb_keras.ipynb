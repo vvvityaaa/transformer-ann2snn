{
 "cells": [
  {
   "cell_type": "markdown",
   "metadata": {},
   "source": [
    "Keras IMDB sentiment analysis tutorial https://keras.io/examples/nlp/text_classification_with_transformer/"
   ]
  },
  {
   "cell_type": "code",
   "execution_count": 1,
   "metadata": {},
   "outputs": [],
   "source": [
    "import tensorflow as tf\n",
    "import numpy as np\n",
    "from tensorflow import keras\n",
    "from keras.utils import to_categorical"
   ]
  },
  {
   "cell_type": "code",
   "execution_count": 2,
   "metadata": {},
   "outputs": [],
   "source": [
    "class TransformerBlock(tf.keras.layers.Layer):\n",
    "    def __init__(self, embed_dim, num_heads, ff_dim, rate=0.1):\n",
    "        super(TransformerBlock, self).__init__()\n",
    "        self.att = tf.keras.layers.MultiHeadAttention(num_heads=num_heads, key_dim=embed_dim)\n",
    "        self.ffn = tf.keras.Sequential([tf.keras.layers.Dense(ff_dim, activation=\"relu\"), \n",
    "                                        tf.keras.layers.Dense(embed_dim),])\n",
    "\n",
    "    def call(self, inputs, training):\n",
    "        attn_output = self.att(inputs, inputs)\n",
    "        ffn_output = self.ffn(attn_output)\n",
    "        return attn_output + ffn_output\n"
   ]
  },
  {
   "cell_type": "code",
   "execution_count": 31,
   "metadata": {},
   "outputs": [],
   "source": [
    "class TokenAndPositionEmbedding(tf.keras.layers.Layer):\n",
    "    def __init__(self, maxlen, vocab_size, embed_dim):\n",
    "        super(TokenAndPositionEmbedding, self).__init__()\n",
    "        self.pos_emb = tf.keras.layers.Embedding(input_dim=maxlen, output_dim=embed_dim)\n",
    "        self.token_emb = tf.keras.layers.Embedding(input_dim=vocab_size, output_dim=embed_dim)\n",
    "\n",
    "    def call(self, x):\n",
    "        maxlen = tf.shape(x)[-1]\n",
    "        positions = tf.range(start=0, limit=maxlen, delta=1)\n",
    "        positions = self.pos_emb(positions)\n",
    "        x = self.token_emb(x)\n",
    "        return x + positions\n"
   ]
  },
  {
   "cell_type": "code",
   "execution_count": 4,
   "metadata": {},
   "outputs": [],
   "source": [
    "vocab_size = 20000  # Only consider the top 20k words\n",
    "maxlen = 200  # Only consider the first 200 words of each movie review\n",
    "embed_dim = 32  # Embedding size for each token\n",
    "num_heads = 2  # Number of attention heads\n",
    "ff_dim = 32  # Hidden layer size in feed forward network inside transformer"
   ]
  },
  {
   "cell_type": "code",
   "execution_count": 18,
   "metadata": {},
   "outputs": [
    {
     "name": "stdout",
     "output_type": "stream",
     "text": [
      "25000 Training sequences\n",
      "25000 Validation sequences\n"
     ]
    }
   ],
   "source": [
    "(x_train, y_train), (x_val, y_val) = tf.keras.datasets.imdb.load_data(num_words=vocab_size)\n",
    "print(len(x_train), \"Training sequences\")\n",
    "print(len(x_val), \"Validation sequences\")\n",
    "x_train = tf.keras.preprocessing.sequence.pad_sequences(x_train, maxlen)\n",
    "x_val = tf.keras.preprocessing.sequence.pad_sequences(x_val, maxlen)\n",
    "\n",
    "# y_train = to_categorical(y_train, 2)\n",
    "# y_val = to_categorical(y_val, 2)\n",
    "\n",
    "# import os\n",
    "# import time\n",
    "# path_wd = os.path.join('/home/viktor/PycharmProjects/guided_research/snn_toolbox', '..', 'temp', str(time.time()))\n",
    "# os.makedirs(path_wd)\n",
    "# # Save dataset so SNN toolbox can find it.\n",
    "# np.savez_compressed(os.path.join(path_wd, 'x_test'), x_val)\n",
    "# np.savez_compressed(os.path.join(path_wd, 'y_test'), y_val)\n",
    "# # SNN toolbox will not do any training, but we save a subset of the training\n",
    "# # set so the toolbox can use it when normalizing the network parameters.\n",
    "# np.savez_compressed(os.path.join(path_wd, 'x_norm'), x_train[::10])"
   ]
  },
  {
   "cell_type": "markdown",
   "metadata": {},
   "source": [
    "## Tutorial Variant"
   ]
  },
  {
   "cell_type": "code",
   "execution_count": 32,
   "metadata": {},
   "outputs": [
    {
     "name": "stdout",
     "output_type": "stream",
     "text": [
      "Tensor(\"token_and_position_embedding_8/embedding_16/embedding_lookup/Identity_1:0\", shape=(None, 32), dtype=float32)\n",
      "Tensor(\"token_and_position_embedding_8/embedding_17/embedding_lookup/Identity_1:0\", shape=(None, 200, 32), dtype=float32)\n",
      "Epoch 1/2\n",
      "Tensor(\"model_8/token_and_position_embedding_8/embedding_16/embedding_lookup/Identity_1:0\", shape=(None, 32), dtype=float32)\n",
      "Tensor(\"model_8/token_and_position_embedding_8/embedding_17/embedding_lookup/Identity_1:0\", shape=(None, 200, 32), dtype=float32)\n",
      "Tensor(\"model_8/token_and_position_embedding_8/embedding_16/embedding_lookup/Identity_1:0\", shape=(None, 32), dtype=float32)\n",
      "Tensor(\"model_8/token_and_position_embedding_8/embedding_17/embedding_lookup/Identity_1:0\", shape=(None, 200, 32), dtype=float32)\n",
      "782/782 [==============================] - ETA: 0s - loss: 0.4845 - accuracy: 0.7340Tensor(\"model_8/token_and_position_embedding_8/embedding_16/embedding_lookup/Identity_1:0\", shape=(None, 32), dtype=float32)\n",
      "Tensor(\"model_8/token_and_position_embedding_8/embedding_17/embedding_lookup/Identity_1:0\", shape=(None, 200, 32), dtype=float32)\n",
      "782/782 [==============================] - 47s 60ms/step - loss: 0.4844 - accuracy: 0.7341 - val_loss: 0.2929 - val_accuracy: 0.8784\n",
      "Epoch 2/2\n",
      "782/782 [==============================] - 48s 61ms/step - loss: 0.1897 - accuracy: 0.9279 - val_loss: 0.3336 - val_accuracy: 0.8682\n"
     ]
    }
   ],
   "source": [
    "embed_dim = 32  # Embedding size for each token\n",
    "num_heads = 2  # Number of attention heads\n",
    "ff_dim = 32  # Hidden layer size in feed forward network inside transformer\n",
    "\n",
    "inputs = tf.keras.layers.Input(shape=(maxlen,))\n",
    "embedding_layer = TokenAndPositionEmbedding(maxlen, vocab_size, embed_dim)\n",
    "x = embedding_layer(inputs)\n",
    "transformer_block = TransformerBlock(embed_dim, num_heads, ff_dim)\n",
    "x = transformer_block(x)\n",
    "x = tf.keras.layers.GlobalAveragePooling1D()(x)\n",
    "x = tf.keras.layers.Dense(20, activation=\"relu\")(x)\n",
    "x = tf.keras.layers.Dropout(0.1)(x)\n",
    "outputs = tf.keras.layers.Dense(2, activation=\"softmax\")(x)\n",
    "\n",
    "model = tf.keras.Model(inputs=inputs, outputs=outputs)\n",
    "model.compile(\"adam\", \"sparse_categorical_crossentropy\", metrics=[\"accuracy\"])\n",
    "history = model.fit(\n",
    "    x_train, y_train, batch_size=32, epochs=2, validation_data=(x_val, y_val)\n",
    ")"
   ]
  },
  {
   "cell_type": "code",
   "execution_count": 33,
   "metadata": {},
   "outputs": [
    {
     "name": "stdout",
     "output_type": "stream",
     "text": [
      "Tensor(\"model_8/token_and_position_embedding_8/embedding_16/embedding_lookup/Identity_1:0\", shape=(None, 32), dtype=float32)\n",
      "Tensor(\"model_8/token_and_position_embedding_8/embedding_17/embedding_lookup/Identity_1:0\", shape=(None, 200, 32), dtype=float32)\n"
     ]
    }
   ],
   "source": [
    "l = model.predict(x_val)"
   ]
  },
  {
   "cell_type": "code",
   "execution_count": 30,
   "metadata": {},
   "outputs": [
    {
     "data": {
      "text/plain": [
       "array([0.18443632, 0.81556374], dtype=float32)"
      ]
     },
     "execution_count": 30,
     "metadata": {},
     "output_type": "execute_result"
    }
   ],
   "source": []
  },
  {
   "cell_type": "code",
   "execution_count": 69,
   "metadata": {},
   "outputs": [],
   "source": [
    "class ScaleLayer(tf.keras.layers.Layer):\n",
    "    def __init__(self, **kwargs):\n",
    "        super(ScaleLayer, self).__init__()\n",
    "\n",
    "    def call(self, inputs):\n",
    "        scale = inputs[1]\n",
    "        return inputs[0] / scale\n",
    "\n",
    "\n",
    "class MatMulLayer(tf.keras.layers.Layer):\n",
    "    def __init__(self, **kwargs):\n",
    "        super(MatMulLayer, self).__init__()\n",
    "\n",
    "    def call(self, inputs):\n",
    "        return tf.matmul(inputs[0], inputs[1])\n",
    "\n",
    "\n",
    "class MatMulLayerTranspose(tf.keras.layers.Layer):\n",
    "    def __init__(self, **kwargs):\n",
    "        super(MatMulLayerTranspose, self).__init__()\n",
    "\n",
    "    def call(self, inputs):\n",
    "        return tf.matmul(inputs[0], inputs[1], transpose_b=True)/np.sqrt(inputs[0].shape[-1])\n",
    "\n",
    "\n",
    "class StandardAdditionLayer(tf.keras.layers.Layer):\n",
    "    def __init__(self, **kwargs):\n",
    "        super(StandardAdditionLayer, self).__init__()\n",
    "\n",
    "    def call(self, inputs):\n",
    "        return tf.math.add(inputs[0], inputs[1])\n",
    "    \n",
    "    \n",
    "class CreateRangeLayer(tf.keras.layers.Layer):\n",
    "    def __init__(self, **kwargs):\n",
    "        super(CreateRangeLayer, self).__init__()\n",
    "\n",
    "    def call(self, maxlen):\n",
    "        return tf.range(start=0, limit=maxlen, delta=1)\n",
    "    \n",
    "\n",
    "class TokenAndPositionEmbedding(tf.keras.layers.Layer):\n",
    "    def __init__(self, **kwargs):\n",
    "        super(TokenAndPositionEmbedding, self).__init__()\n",
    "        self.maxlen = 200\n",
    "        self.vocab_size = 20000\n",
    "        self.embed_dim = 32\n",
    "        self.pos_emb = tf.keras.layers.Embedding(input_dim=self.maxlen, output_dim=self.embed_dim)\n",
    "        self.token_emb = tf.keras.layers.Embedding(input_dim=self.vocab_size, output_dim=self.embed_dim)\n",
    "\n",
    "    def call(self, x):\n",
    "        positions = tf.range(start=0, limit=maxlen, delta=1)\n",
    "        positions = self.pos_emb(positions)\n",
    "        x = self.token_emb(x)\n",
    "        return x + positions"
   ]
  },
  {
   "cell_type": "code",
   "execution_count": null,
   "metadata": {
    "scrolled": true
   },
   "outputs": [],
   "source": [
    "tf.random.set_seed(1233)\n",
    "inputs = tf.keras.layers.Input(shape=(maxlen,))\n",
    "# positions = tf.range(start=0, limit=maxlen, delta=1)\n",
    "# positions = CreateRangeLayer()(maxlen)\n",
    "# positions = tf.keras.layers.Embedding(input_dim=maxlen, output_dim=embed_dim)(positions)\n",
    "# x = tf.keras.layers.Embedding(input_dim=vocab_size, output_dim=embed_dim)(inputs)\n",
    "# positions = tf.broadcast_to(positions, (50, 200, 32))\n",
    "# positions = tf.keras.layers.Reshape([-1, 200, 32])(positions)\n",
    "# print(positions.shape)\n",
    "# print(x.shape)\n",
    "# x = x + positions\n",
    "# x = StandardAdditionLayer()([x, positions])\n",
    "# positions = tf.expand_dims(positions, axis=0)\n",
    "# print(positions.shape)\n",
    "# x = tf.keras.layers.Add()([x, positions])\n",
    "x = TokenAndPositionEmbedding()(inputs)\n",
    "# x = TransformerBlock(embed_dim, num_heads, ff_dim)(x)\n",
    "# -------------- TRANSFORMER BLOCK -----------------\n",
    "\n",
    "dv = 25\n",
    "nv = -1\n",
    "\n",
    "v2 = tf.keras.layers.Dense(embed_dim, activation=\"relu\")(x)\n",
    "q2 = tf.keras.layers.Dense(embed_dim, activation=\"relu\")(x)\n",
    "k2 = tf.keras.layers.Dense(embed_dim, activation=\"relu\")(x)\n",
    "\n",
    "v = tf.keras.layers.Reshape([embed_dim, nv, dv])(v2)\n",
    "q = tf.keras.layers.Reshape([embed_dim, nv, dv])(q2)\n",
    "k = tf.keras.layers.Reshape([embed_dim, nv, dv])(k2)\n",
    "\n",
    "# softmax(q*k^T/sqrt(dv))\n",
    "att = MatMulLayerTranspose()([q, k])\n",
    "att = tf.keras.layers.Softmax(axis=-1)(att)\n",
    "# softmax(q*k^T/sqrt(dv))*v\n",
    "out = MatMulLayer()([att, v])\n",
    "\n",
    "out = tf.keras.layers.Reshape([embed_dim, maxlen, 1])(out)\n",
    "x = tf.keras.layers.Reshape([embed_dim, maxlen, 1])(x)\n",
    "add = tf.keras.layers.Add()([out, x])\n",
    "# add = tf.add(out, x)\n",
    "\n",
    "x = tf.keras.layers.Dense(embed_dim, activation=\"relu\")(add)\n",
    "x = tf.keras.layers.Dense(embed_dim)(x)\n",
    "# --------------------------------------------------\n",
    "# x = tf.keras.layers.Flatten()(x)\n",
    "# x = tf.keras.layers.Reshape([1, embed_dim, embed_dim])(x)\n",
    "x = tf.keras.layers.AveragePooling2D()(x)\n",
    "x = tf.keras.layers.Dropout(0.1)(x)\n",
    "x = tf.keras.layers.Flatten()(x)\n",
    "x = tf.keras.layers.Dense(20, activation=\"relu\")(x)\n",
    "x = tf.keras.layers.Dropout(0.1)(x)\n",
    "outputs = tf.keras.layers.Dense(2, activation=\"softmax\")(x)\n",
    "\n",
    "model = tf.keras.Model(inputs=inputs, outputs=outputs)\n",
    "model.compile(\"adam\", \"categorical_crossentropy\", metrics=[\"accuracy\"])\n",
    "history = model.fit(x_train, y_train, batch_size=64, epochs=1, validation_data=(x_val, y_val))"
   ]
  },
  {
   "cell_type": "code",
   "execution_count": 91,
   "metadata": {},
   "outputs": [
    {
     "ename": "ValueError",
     "evalue": "total size of new array must be unchanged, input_shape = [200], output_shape = [200, 25]",
     "output_type": "error",
     "traceback": [
      "\u001b[0;31m---------------------------------------------------------------------------\u001b[0m",
      "\u001b[0;31mValueError\u001b[0m                                Traceback (most recent call last)",
      "\u001b[0;32m<ipython-input-91-3a17fca82bbf>\u001b[0m in \u001b[0;36m<module>\u001b[0;34m\u001b[0m\n\u001b[1;32m     41\u001b[0m \u001b[0;31m# x = Tokposangles()(inputs)\u001b[0m\u001b[0;34m\u001b[0m\u001b[0;34m\u001b[0m\u001b[0;34m\u001b[0m\u001b[0m\n\u001b[1;32m     42\u001b[0m \u001b[0mpos\u001b[0m \u001b[0;34m=\u001b[0m \u001b[0mpositional_encoding\u001b[0m\u001b[0;34m(\u001b[0m\u001b[0mmaxlen\u001b[0m\u001b[0;34m,\u001b[0m \u001b[0;36m25\u001b[0m\u001b[0;34m)\u001b[0m\u001b[0;34m\u001b[0m\u001b[0;34m\u001b[0m\u001b[0m\n\u001b[0;32m---> 43\u001b[0;31m \u001b[0mx\u001b[0m \u001b[0;34m=\u001b[0m \u001b[0mtf\u001b[0m\u001b[0;34m.\u001b[0m\u001b[0mkeras\u001b[0m\u001b[0;34m.\u001b[0m\u001b[0mlayers\u001b[0m\u001b[0;34m.\u001b[0m\u001b[0mReshape\u001b[0m\u001b[0;34m(\u001b[0m\u001b[0;34m[\u001b[0m\u001b[0;36m200\u001b[0m\u001b[0;34m,\u001b[0m \u001b[0;36m25\u001b[0m\u001b[0;34m]\u001b[0m\u001b[0;34m)\u001b[0m\u001b[0;34m(\u001b[0m\u001b[0minputs\u001b[0m\u001b[0;34m)\u001b[0m\u001b[0;34m\u001b[0m\u001b[0;34m\u001b[0m\u001b[0m\n\u001b[0m\u001b[1;32m     44\u001b[0m \u001b[0;32mimport\u001b[0m \u001b[0mpdb\u001b[0m\u001b[0;34m;\u001b[0m\u001b[0mpdb\u001b[0m\u001b[0;34m.\u001b[0m\u001b[0mset_trace\u001b[0m\u001b[0;34m(\u001b[0m\u001b[0;34m)\u001b[0m\u001b[0;34m\u001b[0m\u001b[0;34m\u001b[0m\u001b[0m\n\u001b[1;32m     45\u001b[0m \u001b[0mx\u001b[0m \u001b[0;34m=\u001b[0m \u001b[0mx\u001b[0m \u001b[0;34m+\u001b[0m \u001b[0mpos\u001b[0m\u001b[0;34m\u001b[0m\u001b[0;34m\u001b[0m\u001b[0m\n",
      "\u001b[0;32m~/.local/lib/python3.8/site-packages/tensorflow/python/keras/engine/base_layer.py\u001b[0m in \u001b[0;36m__call__\u001b[0;34m(self, *args, **kwargs)\u001b[0m\n\u001b[1;32m    949\u001b[0m     \u001b[0;31m# >> model = tf.keras.Model(inputs, outputs)\u001b[0m\u001b[0;34m\u001b[0m\u001b[0;34m\u001b[0m\u001b[0;34m\u001b[0m\u001b[0m\n\u001b[1;32m    950\u001b[0m     \u001b[0;32mif\u001b[0m \u001b[0m_in_functional_construction_mode\u001b[0m\u001b[0;34m(\u001b[0m\u001b[0mself\u001b[0m\u001b[0;34m,\u001b[0m \u001b[0minputs\u001b[0m\u001b[0;34m,\u001b[0m \u001b[0margs\u001b[0m\u001b[0;34m,\u001b[0m \u001b[0mkwargs\u001b[0m\u001b[0;34m,\u001b[0m \u001b[0minput_list\u001b[0m\u001b[0;34m)\u001b[0m\u001b[0;34m:\u001b[0m\u001b[0;34m\u001b[0m\u001b[0;34m\u001b[0m\u001b[0m\n\u001b[0;32m--> 951\u001b[0;31m       return self._functional_construction_call(inputs, args, kwargs,\n\u001b[0m\u001b[1;32m    952\u001b[0m                                                 input_list)\n\u001b[1;32m    953\u001b[0m \u001b[0;34m\u001b[0m\u001b[0m\n",
      "\u001b[0;32m~/.local/lib/python3.8/site-packages/tensorflow/python/keras/engine/base_layer.py\u001b[0m in \u001b[0;36m_functional_construction_call\u001b[0;34m(self, inputs, args, kwargs, input_list)\u001b[0m\n\u001b[1;32m   1088\u001b[0m           layer=self, inputs=inputs, build_graph=True, training=training_value):\n\u001b[1;32m   1089\u001b[0m         \u001b[0;31m# Check input assumptions set after layer building, e.g. input shape.\u001b[0m\u001b[0;34m\u001b[0m\u001b[0;34m\u001b[0m\u001b[0;34m\u001b[0m\u001b[0m\n\u001b[0;32m-> 1090\u001b[0;31m         outputs = self._keras_tensor_symbolic_call(\n\u001b[0m\u001b[1;32m   1091\u001b[0m             inputs, input_masks, args, kwargs)\n\u001b[1;32m   1092\u001b[0m \u001b[0;34m\u001b[0m\u001b[0m\n",
      "\u001b[0;32m~/.local/lib/python3.8/site-packages/tensorflow/python/keras/engine/base_layer.py\u001b[0m in \u001b[0;36m_keras_tensor_symbolic_call\u001b[0;34m(self, inputs, input_masks, args, kwargs)\u001b[0m\n\u001b[1;32m    820\u001b[0m       \u001b[0;32mreturn\u001b[0m \u001b[0mnest\u001b[0m\u001b[0;34m.\u001b[0m\u001b[0mmap_structure\u001b[0m\u001b[0;34m(\u001b[0m\u001b[0mkeras_tensor\u001b[0m\u001b[0;34m.\u001b[0m\u001b[0mKerasTensor\u001b[0m\u001b[0;34m,\u001b[0m \u001b[0moutput_signature\u001b[0m\u001b[0;34m)\u001b[0m\u001b[0;34m\u001b[0m\u001b[0;34m\u001b[0m\u001b[0m\n\u001b[1;32m    821\u001b[0m     \u001b[0;32melse\u001b[0m\u001b[0;34m:\u001b[0m\u001b[0;34m\u001b[0m\u001b[0;34m\u001b[0m\u001b[0m\n\u001b[0;32m--> 822\u001b[0;31m       \u001b[0;32mreturn\u001b[0m \u001b[0mself\u001b[0m\u001b[0;34m.\u001b[0m\u001b[0m_infer_output_signature\u001b[0m\u001b[0;34m(\u001b[0m\u001b[0minputs\u001b[0m\u001b[0;34m,\u001b[0m \u001b[0margs\u001b[0m\u001b[0;34m,\u001b[0m \u001b[0mkwargs\u001b[0m\u001b[0;34m,\u001b[0m \u001b[0minput_masks\u001b[0m\u001b[0;34m)\u001b[0m\u001b[0;34m\u001b[0m\u001b[0;34m\u001b[0m\u001b[0m\n\u001b[0m\u001b[1;32m    823\u001b[0m \u001b[0;34m\u001b[0m\u001b[0m\n\u001b[1;32m    824\u001b[0m   \u001b[0;32mdef\u001b[0m \u001b[0m_infer_output_signature\u001b[0m\u001b[0;34m(\u001b[0m\u001b[0mself\u001b[0m\u001b[0;34m,\u001b[0m \u001b[0minputs\u001b[0m\u001b[0;34m,\u001b[0m \u001b[0margs\u001b[0m\u001b[0;34m,\u001b[0m \u001b[0mkwargs\u001b[0m\u001b[0;34m,\u001b[0m \u001b[0minput_masks\u001b[0m\u001b[0;34m)\u001b[0m\u001b[0;34m:\u001b[0m\u001b[0;34m\u001b[0m\u001b[0;34m\u001b[0m\u001b[0m\n",
      "\u001b[0;32m~/.local/lib/python3.8/site-packages/tensorflow/python/keras/engine/base_layer.py\u001b[0m in \u001b[0;36m_infer_output_signature\u001b[0;34m(self, inputs, args, kwargs, input_masks)\u001b[0m\n\u001b[1;32m    861\u001b[0m           \u001b[0;31m# TODO(kaftan): do we maybe_build here, or have we already done it?\u001b[0m\u001b[0;34m\u001b[0m\u001b[0;34m\u001b[0m\u001b[0;34m\u001b[0m\u001b[0m\n\u001b[1;32m    862\u001b[0m           \u001b[0mself\u001b[0m\u001b[0;34m.\u001b[0m\u001b[0m_maybe_build\u001b[0m\u001b[0;34m(\u001b[0m\u001b[0minputs\u001b[0m\u001b[0;34m)\u001b[0m\u001b[0;34m\u001b[0m\u001b[0;34m\u001b[0m\u001b[0m\n\u001b[0;32m--> 863\u001b[0;31m           \u001b[0moutputs\u001b[0m \u001b[0;34m=\u001b[0m \u001b[0mcall_fn\u001b[0m\u001b[0;34m(\u001b[0m\u001b[0minputs\u001b[0m\u001b[0;34m,\u001b[0m \u001b[0;34m*\u001b[0m\u001b[0margs\u001b[0m\u001b[0;34m,\u001b[0m \u001b[0;34m**\u001b[0m\u001b[0mkwargs\u001b[0m\u001b[0;34m)\u001b[0m\u001b[0;34m\u001b[0m\u001b[0;34m\u001b[0m\u001b[0m\n\u001b[0m\u001b[1;32m    864\u001b[0m \u001b[0;34m\u001b[0m\u001b[0m\n\u001b[1;32m    865\u001b[0m         \u001b[0mself\u001b[0m\u001b[0;34m.\u001b[0m\u001b[0m_handle_activity_regularization\u001b[0m\u001b[0;34m(\u001b[0m\u001b[0minputs\u001b[0m\u001b[0;34m,\u001b[0m \u001b[0moutputs\u001b[0m\u001b[0;34m)\u001b[0m\u001b[0;34m\u001b[0m\u001b[0;34m\u001b[0m\u001b[0m\n",
      "\u001b[0;32m~/.local/lib/python3.8/site-packages/tensorflow/python/keras/layers/core.py\u001b[0m in \u001b[0;36mcall\u001b[0;34m(self, inputs)\u001b[0m\n\u001b[1;32m    555\u001b[0m       \u001b[0;31m# Set the static shape for the result since it might lost during array_ops\u001b[0m\u001b[0;34m\u001b[0m\u001b[0;34m\u001b[0m\u001b[0;34m\u001b[0m\u001b[0m\n\u001b[1;32m    556\u001b[0m       \u001b[0;31m# reshape, eg, some `None` dim in the result could be inferred.\u001b[0m\u001b[0;34m\u001b[0m\u001b[0;34m\u001b[0m\u001b[0;34m\u001b[0m\u001b[0m\n\u001b[0;32m--> 557\u001b[0;31m       \u001b[0mresult\u001b[0m\u001b[0;34m.\u001b[0m\u001b[0mset_shape\u001b[0m\u001b[0;34m(\u001b[0m\u001b[0mself\u001b[0m\u001b[0;34m.\u001b[0m\u001b[0mcompute_output_shape\u001b[0m\u001b[0;34m(\u001b[0m\u001b[0minputs\u001b[0m\u001b[0;34m.\u001b[0m\u001b[0mshape\u001b[0m\u001b[0;34m)\u001b[0m\u001b[0;34m)\u001b[0m\u001b[0;34m\u001b[0m\u001b[0;34m\u001b[0m\u001b[0m\n\u001b[0m\u001b[1;32m    558\u001b[0m     \u001b[0;32mreturn\u001b[0m \u001b[0mresult\u001b[0m\u001b[0;34m\u001b[0m\u001b[0;34m\u001b[0m\u001b[0m\n\u001b[1;32m    559\u001b[0m \u001b[0;34m\u001b[0m\u001b[0m\n",
      "\u001b[0;32m~/.local/lib/python3.8/site-packages/tensorflow/python/keras/layers/core.py\u001b[0m in \u001b[0;36mcompute_output_shape\u001b[0;34m(self, input_shape)\u001b[0m\n\u001b[1;32m    545\u001b[0m     \u001b[0;32melse\u001b[0m\u001b[0;34m:\u001b[0m\u001b[0;34m\u001b[0m\u001b[0;34m\u001b[0m\u001b[0m\n\u001b[1;32m    546\u001b[0m       \u001b[0moutput_shape\u001b[0m \u001b[0;34m=\u001b[0m \u001b[0;34m[\u001b[0m\u001b[0minput_shape\u001b[0m\u001b[0;34m[\u001b[0m\u001b[0;36m0\u001b[0m\u001b[0;34m]\u001b[0m\u001b[0;34m]\u001b[0m\u001b[0;34m\u001b[0m\u001b[0;34m\u001b[0m\u001b[0m\n\u001b[0;32m--> 547\u001b[0;31m       output_shape += self._fix_unknown_dimension(input_shape[1:],\n\u001b[0m\u001b[1;32m    548\u001b[0m                                                   self.target_shape)\n\u001b[1;32m    549\u001b[0m     \u001b[0;32mreturn\u001b[0m \u001b[0mtensor_shape\u001b[0m\u001b[0;34m.\u001b[0m\u001b[0mTensorShape\u001b[0m\u001b[0;34m(\u001b[0m\u001b[0moutput_shape\u001b[0m\u001b[0;34m)\u001b[0m\u001b[0;34m\u001b[0m\u001b[0;34m\u001b[0m\u001b[0m\n",
      "\u001b[0;32m~/.local/lib/python3.8/site-packages/tensorflow/python/keras/layers/core.py\u001b[0m in \u001b[0;36m_fix_unknown_dimension\u001b[0;34m(self, input_shape, output_shape)\u001b[0m\n\u001b[1;32m    534\u001b[0m       \u001b[0moutput_shape\u001b[0m\u001b[0;34m[\u001b[0m\u001b[0munknown\u001b[0m\u001b[0;34m]\u001b[0m \u001b[0;34m=\u001b[0m \u001b[0moriginal\u001b[0m \u001b[0;34m//\u001b[0m \u001b[0mknown\u001b[0m\u001b[0;34m\u001b[0m\u001b[0;34m\u001b[0m\u001b[0m\n\u001b[1;32m    535\u001b[0m     \u001b[0;32melif\u001b[0m \u001b[0moriginal\u001b[0m \u001b[0;34m!=\u001b[0m \u001b[0mknown\u001b[0m\u001b[0;34m:\u001b[0m\u001b[0;34m\u001b[0m\u001b[0;34m\u001b[0m\u001b[0m\n\u001b[0;32m--> 536\u001b[0;31m       \u001b[0;32mraise\u001b[0m \u001b[0mValueError\u001b[0m\u001b[0;34m(\u001b[0m\u001b[0mmsg\u001b[0m\u001b[0;34m)\u001b[0m\u001b[0;34m\u001b[0m\u001b[0;34m\u001b[0m\u001b[0m\n\u001b[0m\u001b[1;32m    537\u001b[0m     \u001b[0;32mreturn\u001b[0m \u001b[0moutput_shape\u001b[0m\u001b[0;34m\u001b[0m\u001b[0;34m\u001b[0m\u001b[0m\n\u001b[1;32m    538\u001b[0m \u001b[0;34m\u001b[0m\u001b[0m\n",
      "\u001b[0;31mValueError\u001b[0m: total size of new array must be unchanged, input_shape = [200], output_shape = [200, 25]"
     ]
    }
   ],
   "source": [
    "class Tokposangles(tf.keras.layers.Layer):\n",
    "    def __init__(self, **kwargs):\n",
    "        super(Tokposangles, self).__init__()\n",
    "        # TODO: remove fixed parametrization\n",
    "        self.maxlen = 200\n",
    "        self.vocab_size = 20000\n",
    "        self.embed_dim = 32\n",
    "        self.pos_emb = tf.keras.layers.Embedding(input_dim=self.maxlen, output_dim=self.embed_dim, name=\"positional\")\n",
    "        self.token_emb = tf.keras.layers.Embedding(input_dim=self.vocab_size, output_dim=self.embed_dim, name=\"token\")\n",
    "        self.positions = self.positional_encoding(self.maxlen, self.embed_dim)\n",
    "        \n",
    "    def get_angles(self, pos, i, d_model):\n",
    "        angle_rates = 1 / np.power(10000, (2 * (i // 2)) / np.float32(d_model))\n",
    "        return pos * angle_rates\n",
    "\n",
    "    def positional_encoding(self, position, d_model):\n",
    "        angle_rads = self.get_angles(np.arange(position)[:, np.newaxis],\n",
    "                                     np.arange(d_model)[np.newaxis, :],\n",
    "                                     d_model)\n",
    "\n",
    "        # apply sin to even indices in the array; 2i\n",
    "        angle_rads[:, 0::2] = np.sin(angle_rads[:, 0::2])\n",
    "\n",
    "        # apply cos to odd indices in the array; 2i+1\n",
    "        angle_rads[:, 1::2] = np.cos(angle_rads[:, 1::2])\n",
    "\n",
    "        pos_encoding = angle_rads[np.newaxis, ...]\n",
    "\n",
    "        return tf.cast(pos_encoding, dtype=tf.float32)\n",
    "\n",
    "\n",
    "    def call(self, x):\n",
    "        seq_len = tf.shape(x)[1]\n",
    "#         x = tf.reshape(x, [-1, maxlen, self.embed_dim])\n",
    "        x = self.token_emb(x)\n",
    "        x *= tf.math.sqrt(tf.cast(self.embed_dim, tf.float32))\n",
    "        return x + self.positions[:, :seq_len, :]\n",
    "    \n",
    "tf.random.set_seed(123)\n",
    "inputs = tf.keras.layers.Input(shape=(maxlen,))\n",
    "# x = Tokposangles()(inputs)\n",
    "pos = positional_encoding(maxlen, 25)\n",
    "x = tf.keras.layers.Reshape([200, 25])(inputs)\n",
    "import pdb;pdb.set_trace()\n",
    "x = x + pos\n",
    "# -------------- TRANSFORMER BLOCK -----------------\n",
    "\n",
    "dv = 25\n",
    "nv = -1\n",
    "\n",
    "v2 = tf.keras.layers.Dense(embed_dim, activation=\"relu\")(x)\n",
    "q2 = tf.keras.layers.Dense(embed_dim, activation=\"relu\")(x)\n",
    "k2 = tf.keras.layers.Dense(embed_dim, activation=\"relu\")(x)\n",
    "\n",
    "v = tf.keras.layers.Reshape([embed_dim, nv, dv])(v2)\n",
    "q = tf.keras.layers.Reshape([embed_dim, nv, dv])(q2)\n",
    "k = tf.keras.layers.Reshape([embed_dim, nv, dv])(k2)\n",
    "\n",
    "# softmax(q*k^T/sqrt(dv))\n",
    "att = MatMulLayerTranspose()([q, k])\n",
    "att = tf.keras.layers.Softmax(axis=-1)(att)\n",
    "# softmax(q*k^T/sqrt(dv))*v\n",
    "out = MatMulLayer()([att, v])\n",
    "\n",
    "out = tf.keras.layers.Reshape([embed_dim, maxlen, 1])(out)\n",
    "x = tf.keras.layers.Reshape([embed_dim, maxlen, 1])(x)\n",
    "add = tf.keras.layers.Add()([out, x])\n",
    "\n",
    "x = tf.keras.layers.Dense(embed_dim, activation=\"relu\")(add)\n",
    "x = tf.keras.layers.Dense(embed_dim)(x)\n",
    "# --------------------------------------------------\n",
    "x = tf.keras.layers.AveragePooling2D()(x)\n",
    "# x = tf.keras.layers.Dropout(0.1)(x)\n",
    "x = tf.keras.layers.Flatten()(x)\n",
    "x = tf.keras.layers.Dense(20, activation=\"relu\")(x)\n",
    "# x = tf.keras.layers.Dropout(0.1)(x)\n",
    "outputs = tf.keras.layers.Dense(2, activation=\"softmax\")(x)\n",
    "print(outputs.shape)\n",
    "\n",
    "model = tf.keras.Model(inputs=inputs, outputs=outputs)\n",
    "model.compile(\"adam\", \"categorical_crossentropy\", metrics=[\"accuracy\"])\n",
    "history = model.fit(x_train, y_train, batch_size=64, epochs=5, validation_data=(x_val, y_val))"
   ]
  },
  {
   "cell_type": "code",
   "execution_count": 10,
   "metadata": {},
   "outputs": [
    {
     "name": "stdout",
     "output_type": "stream",
     "text": [
      "782/782 [==============================] - 20s 25ms/step - loss: 0.3088 - accuracy: 0.8676\n"
     ]
    },
    {
     "data": {
      "text/plain": [
       "[0.30878788232803345, 0.8675600290298462]"
      ]
     },
     "execution_count": 10,
     "metadata": {},
     "output_type": "execute_result"
    }
   ],
   "source": [
    "model.evaluate(x_val, y_val)"
   ]
  },
  {
   "cell_type": "code",
   "execution_count": 12,
   "metadata": {
    "collapsed": true
   },
   "outputs": [
    {
     "name": "stdout",
     "output_type": "stream",
     "text": [
      "Model: \"model\"\n",
      "__________________________________________________________________________________________________\n",
      "Layer (type)                    Output Shape         Param #     Connected to                     \n",
      "==================================================================================================\n",
      "input_2 (InputLayer)            [(None, 200)]        0                                            \n",
      "__________________________________________________________________________________________________\n",
      "token_and_position_embedding_1  (None, 200, 32)      646400      input_2[0][0]                    \n",
      "__________________________________________________________________________________________________\n",
      "dense_1 (Dense)                 (None, 200, 32)      1056        token_and_position_embedding_1[0]\n",
      "__________________________________________________________________________________________________\n",
      "dense_2 (Dense)                 (None, 200, 32)      1056        token_and_position_embedding_1[0]\n",
      "__________________________________________________________________________________________________\n",
      "reshape_1 (Reshape)             (None, 32, 8, 25)    0           dense_1[0][0]                    \n",
      "__________________________________________________________________________________________________\n",
      "reshape_2 (Reshape)             (None, 32, 8, 25)    0           dense_2[0][0]                    \n",
      "__________________________________________________________________________________________________\n",
      "mat_mul_layer_transpose (MatMul (None, 32, 8, 8)     0           reshape_1[0][0]                  \n",
      "                                                                 reshape_2[0][0]                  \n",
      "__________________________________________________________________________________________________\n",
      "dense (Dense)                   (None, 200, 32)      1056        token_and_position_embedding_1[0]\n",
      "__________________________________________________________________________________________________\n",
      "softmax (Softmax)               (None, 32, 8, 8)     0           mat_mul_layer_transpose[0][0]    \n",
      "__________________________________________________________________________________________________\n",
      "reshape (Reshape)               (None, 32, 8, 25)    0           dense[0][0]                      \n",
      "__________________________________________________________________________________________________\n",
      "mat_mul_layer (MatMulLayer)     (None, 32, 8, 25)    0           softmax[0][0]                    \n",
      "                                                                 reshape[0][0]                    \n",
      "__________________________________________________________________________________________________\n",
      "reshape_3 (Reshape)             (None, 32, 200, 1)   0           mat_mul_layer[0][0]              \n",
      "__________________________________________________________________________________________________\n",
      "reshape_4 (Reshape)             (None, 32, 200, 1)   0           token_and_position_embedding_1[0]\n",
      "__________________________________________________________________________________________________\n",
      "add (Add)                       (None, 32, 200, 1)   0           reshape_3[0][0]                  \n",
      "                                                                 reshape_4[0][0]                  \n",
      "__________________________________________________________________________________________________\n",
      "dense_3 (Dense)                 (None, 32, 200, 32)  64          add[0][0]                        \n",
      "__________________________________________________________________________________________________\n",
      "dense_4 (Dense)                 (None, 32, 200, 32)  1056        dense_3[0][0]                    \n",
      "__________________________________________________________________________________________________\n",
      "average_pooling2d (AveragePooli (None, 16, 100, 32)  0           dense_4[0][0]                    \n",
      "__________________________________________________________________________________________________\n",
      "dropout (Dropout)               (None, 16, 100, 32)  0           average_pooling2d[0][0]          \n",
      "__________________________________________________________________________________________________\n",
      "flatten (Flatten)               (None, 51200)        0           dropout[0][0]                    \n",
      "__________________________________________________________________________________________________\n",
      "dense_5 (Dense)                 (None, 20)           1024020     flatten[0][0]                    \n",
      "__________________________________________________________________________________________________\n",
      "dropout_1 (Dropout)             (None, 20)           0           dense_5[0][0]                    \n",
      "__________________________________________________________________________________________________\n",
      "dense_6 (Dense)                 (None, 2)            42          dropout_1[0][0]                  \n",
      "==================================================================================================\n",
      "Total params: 1,674,750\n",
      "Trainable params: 1,674,750\n",
      "Non-trainable params: 0\n",
      "__________________________________________________________________________________________________\n"
     ]
    }
   ],
   "source": [
    "model.summary()"
   ]
  },
  {
   "cell_type": "code",
   "execution_count": 35,
   "metadata": {},
   "outputs": [],
   "source": [
    "import os\n",
    "from tensorflow import keras\n",
    "keras.models.save_model(\n",
    "    model, \n",
    "    os.path.join(\"/home/viktor/PycharmProjects/guided_research/transformer-to-snn-conversion\", \n",
    "    \"mnist_transformer\" + '.h5')\n",
    ")"
   ]
  },
  {
   "cell_type": "code",
   "execution_count": 36,
   "metadata": {},
   "outputs": [],
   "source": [
    "reconstructed_model = keras.models.load_model(\n",
    "    os.path.join(\"/home/viktor/PycharmProjects/guided_research/transformer-to-snn-conversion\", \n",
    "    \"mnist_transformer\" + '.h5'), custom_objects={'MatMulLayer': MatMulLayer, \n",
    "                                                  'MatMulLayerTranspose': MatMulLayerTranspose,\n",
    "#                                                   'CreateRangeLayer': CreateRangeLayer,\n",
    "#                                                   'StandardAdditionLayer': StandardAdditionLayer,\n",
    "                                                  'TokenAndPositionEmbedding': TokenAndPositionEmbedding})"
   ]
  },
  {
   "cell_type": "markdown",
   "metadata": {},
   "source": [
    "## One-hot encoding"
   ]
  },
  {
   "cell_type": "code",
   "execution_count": 40,
   "metadata": {},
   "outputs": [],
   "source": [
    "import numpy as np\n",
    "from keras.datasets import imdb\n",
    "\n",
    "# Load the data, keeping only 10,000 of the most frequently occuring words\n",
    "(train_data, train_labels), (val_data, val_labels) = imdb.load_data(num_words = 5000)\n",
    "\n",
    "def vectorize_sequences(sequences, dimension=5000):\n",
    "    results = np.zeros((len(sequences), dimension))    # Creates an all zero matrix of shape (len(sequences),10K)\n",
    "    for i, sequence in enumerate(sequences):\n",
    "        results[i, sequence] = 1                        # Sets specific indices of results[i] to 1s\n",
    "    return results\n",
    "\n",
    "# Vectorize training Data\n",
    "x_train = vectorize_sequences(train_data)\n",
    "# Vectorize testing Data\n",
    "x_val = vectorize_sequences(val_data)\n",
    "\n",
    "y_train = np.asarray(train_labels).astype('float32')\n",
    "y_val  = np.asarray(val_labels).astype('float32')\n",
    "\n",
    "y_train = to_categorical(y_train, 2)\n",
    "y_val = to_categorical(y_val, 2)\n",
    "\n",
    "# import os\n",
    "# import time\n",
    "# path_wd = os.path.join('/home/viktor/PycharmProjects/guided_research/snn_toolbox', '..', 'temp', str(time.time()))\n",
    "# os.makedirs(path_wd)\n",
    "# # Save dataset so SNN toolbox can find it.\n",
    "# np.savez_compressed(os.path.join(path_wd, 'x_test'), x_val)\n",
    "# np.savez_compressed(os.path.join(path_wd, 'y_test'), y_val)\n",
    "# # SNN toolbox will not do any training, but we save a subset of the training\n",
    "# # set so the toolbox can use it when normalizing the network parameters.\n",
    "# np.savez_compressed(os.path.join(path_wd, 'x_norm'), x_train[::10])"
   ]
  },
  {
   "cell_type": "code",
   "execution_count": 34,
   "metadata": {},
   "outputs": [],
   "source": [
    "class Tokposangles(tf.keras.layers.Layer):\n",
    "    def __init__(self, **kwargs):\n",
    "        super(Tokposangles, self).__init__()\n",
    "        # TODO: remove fixed parametrization\n",
    "        self.maxlen = 200\n",
    "        self.vocab_size = 20000\n",
    "        self.embed_dim = 32\n",
    "        # self.pos_emb = tf.keras.layers.Embedding(input_dim=self.maxlen, output_dim=self.embed_dim, name=\"positional\")\n",
    "        self.token_emb = tf.keras.layers.Embedding(input_dim=self.vocab_size, output_dim=self.embed_dim, name=\"token\")\n",
    "        self.positions = self.positional_encoding(self.maxlen, self.embed_dim)\n",
    "\n",
    "    def get_angles(self, pos, i, d_model):\n",
    "        angle_rates = 1 / np.power(10000, (2 * (i // 2)) / np.float32(d_model))\n",
    "        return pos * angle_rates\n",
    "\n",
    "    def positional_encoding(self, position, d_model):\n",
    "        angle_rads = self.get_angles(np.arange(position)[:, np.newaxis],\n",
    "                                     np.arange(d_model)[np.newaxis, :],\n",
    "                                     d_model)\n",
    "\n",
    "        # apply sin to even indices in the array; 2i\n",
    "        angle_rads[:, 0::2] = np.sin(angle_rads[:, 0::2])\n",
    "\n",
    "        # apply cos to odd indices in the array; 2i+1\n",
    "        angle_rads[:, 1::2] = np.cos(angle_rads[:, 1::2])\n",
    "\n",
    "        pos_encoding = angle_rads[np.newaxis, ...]\n",
    "\n",
    "        return tf.cast(pos_encoding, dtype=tf.float32)\n",
    "\n",
    "    def call(self, x):\n",
    "        seq_len = tf.shape(x)[1]\n",
    "        x = self.token_emb(x)\n",
    "        x *= tf.math.sqrt(tf.cast(self.embed_dim, tf.float32))\n",
    "        return x + self.positions[:, :seq_len, :]\n",
    "\n",
    "def get_angles(pos, i, d_model):\n",
    "    angle_rates = 1 / np.power(10000, (2 * (i // 2)) / np.float32(d_model))\n",
    "    return pos * angle_rates\n",
    "\n",
    "def positional_encoding(position, d_model):\n",
    "    angle_rads = get_angles(np.arange(position)[:, np.newaxis],\n",
    "                                 np.arange(d_model)[np.newaxis, :],\n",
    "                                 d_model)\n",
    "\n",
    "    # apply sin to even indices in the array; 2i\n",
    "    angle_rads[:, 0::2] = np.sin(angle_rads[:, 0::2])\n",
    "\n",
    "    # apply cos to odd indices in the array; 2i+1\n",
    "    angle_rads[:, 1::2] = np.cos(angle_rads[:, 1::2])\n",
    "\n",
    "    pos_encoding = angle_rads[np.newaxis, ...]\n",
    "\n",
    "    return tf.cast(pos_encoding, dtype=tf.float32)"
   ]
  },
  {
   "cell_type": "code",
   "execution_count": 44,
   "metadata": {},
   "outputs": [
    {
     "name": "stdout",
     "output_type": "stream",
     "text": [
      "25000 Training sequences\n",
      "25000 Validation sequences\n"
     ]
    }
   ],
   "source": [
    "(x_train, y_train), (x_val, y_val) = tf.keras.datasets.imdb.load_data(num_words=20000)\n",
    "print(len(x_train), \"Training sequences\")\n",
    "print(len(x_val), \"Validation sequences\")\n",
    "x_train = tf.keras.preprocessing.sequence.pad_sequences(x_train, 200)\n",
    "x_val = tf.keras.preprocessing.sequence.pad_sequences(x_val, 200)\n",
    "\n",
    "y_train = to_categorical(y_train, 2)\n",
    "y_val = to_categorical(y_val, 2)\n"
   ]
  },
  {
   "cell_type": "code",
   "execution_count": 50,
   "metadata": {},
   "outputs": [],
   "source": [
    "inputs = tf.keras.layers.Input(shape=(200,))\n",
    "# x = tf.keras.layers.Embedding(input_dim=20000, output_dim=32, name=\"token\")(inputs)\n",
    "# pos = positional_encoding(200, 25)\n",
    "# x = tf.keras.layers.Reshape([200, 25])(inputs)\n",
    "# x = x + pos\n",
    "x = tf.keras.layers.Dense(200, activation='relu')(inputs)\n",
    "x = tf.keras.layers.Dense(64, activation='relu')(x)\n",
    "# x = tf.keras.layers.Reshape([4, 2, 8])(x)\n",
    "# x = tf.expand_dims(x, axis=1)\n",
    "# x = tf.keras.layers.GlobalAveragePooling2D()(x)\n",
    "x = tf.keras.layers.Flatten()(x)\n",
    "# print(x.shape)\n",
    "# x = tf.squeeze(x, axis=1)\n",
    "x = tf.keras.layers.Dense(2, activation='softmax')(x)\n",
    "model = tf.keras.Model(inputs=inputs, outputs=x)"
   ]
  },
  {
   "cell_type": "code",
   "execution_count": 51,
   "metadata": {},
   "outputs": [],
   "source": [
    "model.compile(loss='categorical_crossentropy', optimizer='adam', metrics=['accuracy'])"
   ]
  },
  {
   "cell_type": "code",
   "execution_count": 52,
   "metadata": {},
   "outputs": [
    {
     "name": "stdout",
     "output_type": "stream",
     "text": [
      "Epoch 1/20\n",
      "196/196 [==============================] - 1s 2ms/step - loss: 299.5150 - accuracy: 0.5000 - val_loss: 44.2433 - val_accuracy: 0.4997\n",
      "Epoch 2/20\n",
      "196/196 [==============================] - 0s 1ms/step - loss: 26.3840 - accuracy: 0.5399 - val_loss: 8.9008 - val_accuracy: 0.5043\n",
      "Epoch 3/20\n",
      "196/196 [==============================] - 0s 1ms/step - loss: 6.0700 - accuracy: 0.5413 - val_loss: 4.0968 - val_accuracy: 0.5005\n",
      "Epoch 4/20\n",
      "196/196 [==============================] - 0s 1ms/step - loss: 3.1542 - accuracy: 0.5461 - val_loss: 3.0592 - val_accuracy: 0.5005\n",
      "Epoch 5/20\n",
      "196/196 [==============================] - 0s 1ms/step - loss: 2.1334 - accuracy: 0.5471 - val_loss: 4.0115 - val_accuracy: 0.5017\n",
      "Epoch 6/20\n",
      "196/196 [==============================] - 0s 1ms/step - loss: 1.9434 - accuracy: 0.5472 - val_loss: 3.1104 - val_accuracy: 0.5015\n",
      "Epoch 7/20\n",
      "196/196 [==============================] - 0s 1ms/step - loss: 1.8843 - accuracy: 0.5425 - val_loss: 2.1375 - val_accuracy: 0.5034\n",
      "Epoch 8/20\n",
      "196/196 [==============================] - 0s 1ms/step - loss: 1.3355 - accuracy: 0.5425 - val_loss: 3.0222 - val_accuracy: 0.5007\n",
      "Epoch 9/20\n",
      "196/196 [==============================] - 0s 1ms/step - loss: 1.3874 - accuracy: 0.5424 - val_loss: 1.8267 - val_accuracy: 0.5040\n",
      "Epoch 10/20\n",
      "196/196 [==============================] - 0s 1ms/step - loss: 0.9043 - accuracy: 0.5606 - val_loss: 1.7632 - val_accuracy: 0.5024\n",
      "Epoch 11/20\n",
      "196/196 [==============================] - 0s 1ms/step - loss: 0.9017 - accuracy: 0.5490 - val_loss: 1.8376 - val_accuracy: 0.5017\n",
      "Epoch 12/20\n",
      "196/196 [==============================] - 0s 1ms/step - loss: 0.8908 - accuracy: 0.5520 - val_loss: 2.1916 - val_accuracy: 0.5024\n",
      "Epoch 13/20\n",
      "196/196 [==============================] - 0s 1ms/step - loss: 0.8164 - accuracy: 0.5517 - val_loss: 1.5831 - val_accuracy: 0.5001\n",
      "Epoch 14/20\n",
      "196/196 [==============================] - 0s 1ms/step - loss: 0.7625 - accuracy: 0.5527 - val_loss: 1.4816 - val_accuracy: 0.5020\n",
      "Epoch 15/20\n",
      "196/196 [==============================] - 0s 1ms/step - loss: 0.7763 - accuracy: 0.5573 - val_loss: 1.4483 - val_accuracy: 0.5018\n",
      "Epoch 16/20\n",
      "196/196 [==============================] - 0s 1ms/step - loss: 0.7403 - accuracy: 0.5438 - val_loss: 1.4105 - val_accuracy: 0.5039\n",
      "Epoch 17/20\n",
      "196/196 [==============================] - 0s 1ms/step - loss: 0.7603 - accuracy: 0.5380 - val_loss: 1.3306 - val_accuracy: 0.5008\n",
      "Epoch 18/20\n",
      "196/196 [==============================] - 0s 1ms/step - loss: 0.7304 - accuracy: 0.5375 - val_loss: 1.2687 - val_accuracy: 0.5030\n",
      "Epoch 19/20\n",
      "196/196 [==============================] - 0s 1ms/step - loss: 0.7223 - accuracy: 0.5380 - val_loss: 1.3574 - val_accuracy: 0.5020\n",
      "Epoch 20/20\n",
      "196/196 [==============================] - 0s 1ms/step - loss: 0.7170 - accuracy: 0.5381 - val_loss: 1.1078 - val_accuracy: 0.5075\n"
     ]
    }
   ],
   "source": [
    "history = model.fit(x_train,\n",
    "                   y_train,\n",
    "                   epochs=20,\n",
    "                   batch_size=128,\n",
    "                   validation_data=(x_val, y_val))"
   ]
  },
  {
   "cell_type": "code",
   "execution_count": 60,
   "metadata": {},
   "outputs": [
    {
     "name": "stdout",
     "output_type": "stream",
     "text": [
      "(1, 200, 16)\n"
     ]
    },
    {
     "data": {
      "image/png": "[encoded data removed]",
      "text/plain": [
       "<Figure size 432x288 with 2 Axes>"
      ]
     },
     "metadata": {
      "needs_background": "light"
     },
     "output_type": "display_data"
    }
   ],
   "source": [
    "import matplotlib.pyplot as plt\n",
    "n = 200\n",
    "d = 16\n",
    "pos_encoding = positional_encoding(n, d)\n",
    "print(pos_encoding.shape)\n",
    "pos_encoding = pos_encoding[0]\n",
    "\n",
    "# Juggle the dimensions for the plot\n",
    "pos_encoding = tf.reshape(pos_encoding, (n, d//2, 2))\n",
    "pos_encoding = tf.transpose(pos_encoding, (2,1,0))\n",
    "pos_encoding = tf.reshape(pos_encoding, (d, n))\n",
    "\n",
    "plt.pcolormesh(pos_encoding, cmap='RdBu')\n",
    "plt.ylabel('Depth')\n",
    "plt.xlabel('Position')\n",
    "plt.colorbar()\n",
    "plt.show()\n"
   ]
  },
  {
   "cell_type": "code",
   "execution_count": 12,
   "metadata": {},
   "outputs": [
    {
     "name": "stdout",
     "output_type": "stream",
     "text": [
      "Model: \"model_2\"\n",
      "_________________________________________________________________\n",
      "Layer (type)                 Output Shape              Param #   \n",
      "=================================================================\n",
      "input_4 (InputLayer)         [(None, 5000)]            0         \n",
      "_________________________________________________________________\n",
      "dense_8 (Dense)              (None, 16)                80016     \n",
      "_________________________________________________________________\n",
      "dense_9 (Dense)              (None, 64)                1088      \n",
      "_________________________________________________________________\n",
      "tf.reshape_1 (TFOpLambda)    (None, 4, 2, 8)           0         \n",
      "_________________________________________________________________\n",
      "global_average_pooling2d_1 ( (None, 8)                 0         \n",
      "_________________________________________________________________\n",
      "dense_10 (Dense)             (None, 2)                 18        \n",
      "=================================================================\n",
      "Total params: 81,122\n",
      "Trainable params: 81,122\n",
      "Non-trainable params: 0\n",
      "_________________________________________________________________\n"
     ]
    }
   ],
   "source": [
    "model.summary()"
   ]
  },
  {
   "cell_type": "markdown",
   "metadata": {},
   "source": [
    "## Pre trained Embedding"
   ]
  },
  {
   "cell_type": "code",
   "execution_count": 26,
   "metadata": {},
   "outputs": [],
   "source": [
    "import os, shutil\n",
    "import numpy as np\n",
    "\n",
    "# path to the directory where the original dataset was uncompressed\n",
    "imdb_dir = 'aclImdb'"
   ]
  },
  {
   "cell_type": "code",
   "execution_count": 27,
   "metadata": {},
   "outputs": [],
   "source": [
    "train_dir = os.path.join(imdb_dir, 'train')\n",
    "\n",
    "labels = []\n",
    "texts = []\n",
    "\n",
    "for label_type in ['neg', 'pos']:\n",
    "  dir_name = os.path.join(train_dir, label_type)\n",
    "\n",
    "  for fname in os.listdir(dir_name):\n",
    "    if fname[-4:] == '.txt':\n",
    "      f = open(os.path.join(dir_name, fname))\n",
    "      texts.append(f.read())\n",
    "      f.close()\n",
    "\n",
    "      if label_type == 'neg':\n",
    "          labels.append(0)\n",
    "      else:\n",
    "          labels.append(1)"
   ]
  },
  {
   "cell_type": "code",
   "execution_count": 29,
   "metadata": {},
   "outputs": [
    {
     "name": "stdout",
     "output_type": "stream",
     "text": [
      "Found 88582 unique tokens.\n",
      "Shape of data tensor: (25000, 200)\n",
      "Shape of label tensor: (25000,)\n"
     ]
    }
   ],
   "source": [
    "from keras.preprocessing.text import Tokenizer\n",
    "from keras.preprocessing.sequence import pad_sequences\n",
    "import numpy as np\n",
    "from tensorflow.keras.utils import to_categorical\n",
    "\n",
    "maxlen = 200 # cuts off reviews after 100 words\n",
    "training_samples = 20000 # trains on 200 samples\n",
    "validation_samples = 5000\n",
    "max_words = 10000 # considers only the top 10,000 words in the dataset\n",
    "\n",
    "tokenizer = Tokenizer(num_words=max_words)\n",
    "tokenizer.fit_on_texts(texts)\n",
    "sequences = tokenizer.texts_to_sequences(texts)\n",
    "\n",
    "word_index = tokenizer.word_index\n",
    "print('Found %s unique tokens.' % len(word_index))\n",
    "\n",
    "data = pad_sequences(sequences, maxlen=maxlen)\n",
    "\n",
    "labels = np.asarray(labels)\n",
    "print('Shape of data tensor:', data.shape)\n",
    "print('Shape of label tensor:', labels.shape)\n",
    "\n",
    "indices = np.arange(data.shape[0])\n",
    "np.random.shuffle(indices)\n",
    "data = data[indices]\n",
    "labels = labels[indices]\n",
    "\n",
    "x_train = data[:training_samples]\n",
    "y_train = labels[:training_samples]\n",
    "x_val = data[training_samples: training_samples + validation_samples]\n",
    "y_val = labels[training_samples: training_samples + validation_samples]\n",
    "y_train = to_categorical(y_train, 10)\n",
    "y_val = to_categorical(y_val, 10)"
   ]
  },
  {
   "cell_type": "code",
   "execution_count": 18,
   "metadata": {},
   "outputs": [
    {
     "data": {
      "text/plain": [
       "(20000, 200)"
      ]
     },
     "execution_count": 18,
     "metadata": {},
     "output_type": "execute_result"
    }
   ],
   "source": [
    "x_train.shape"
   ]
  },
  {
   "cell_type": "code",
   "execution_count": 30,
   "metadata": {},
   "outputs": [
    {
     "name": "stdout",
     "output_type": "stream",
     "text": [
      "Found 400000 word vectors.\n"
     ]
    }
   ],
   "source": [
    "embeddings_index = {}\n",
    "f = open('glove/glove.6B.100d.txt')\n",
    "\n",
    "for line in f:\n",
    "  values = line.split()\n",
    "  word = values[0]\n",
    "  coefs = np.asarray(values[1:], dtype='float32')\n",
    "  embeddings_index[word] = coefs\n",
    "\n",
    "f.close()\n",
    "\n",
    "print('Found %s word vectors.' % len(embeddings_index))"
   ]
  },
  {
   "cell_type": "code",
   "execution_count": 31,
   "metadata": {},
   "outputs": [],
   "source": [
    "embedding_dim = 100\n",
    "embedding_matrix = np.zeros((max_words, embedding_dim))\n",
    "\n",
    "for word, i in word_index.items():\n",
    "  if i < max_words:\n",
    "    embedding_vector = embeddings_index.get(word)\n",
    "    if embedding_vector is not None:\n",
    "      embedding_matrix[i] = embedding_vector"
   ]
  },
  {
   "cell_type": "code",
   "execution_count": 44,
   "metadata": {},
   "outputs": [
    {
     "data": {
      "text/plain": [
       "array([[ 0.        ,  0.        ,  0.        , ...,  0.        ,\n",
       "         0.        ,  0.        ],\n",
       "       [-0.038194  , -0.24487001,  0.72812003, ..., -0.1459    ,\n",
       "         0.82779998,  0.27061999],\n",
       "       [-0.071953  ,  0.23127   ,  0.023731  , ..., -0.71894997,\n",
       "         0.86894   ,  0.19539   ],\n",
       "       ...,\n",
       "       [-0.25373   , -0.88200998, -0.068905  , ..., -0.092328  ,\n",
       "         0.026667  , -0.17737   ],\n",
       "       [-0.7888    ,  0.97996002, -0.019584  , ..., -0.047364  ,\n",
       "         0.51482999, -0.39811999],\n",
       "       [ 0.40972999,  0.39761999,  0.75586998, ...,  0.21242   ,\n",
       "         0.25915   ,  0.87817001]])"
      ]
     },
     "execution_count": 44,
     "metadata": {},
     "output_type": "execute_result"
    }
   ],
   "source": [
    "embedding_matrix"
   ]
  },
  {
   "cell_type": "code",
   "execution_count": 60,
   "metadata": {},
   "outputs": [],
   "source": [
    "embedding_layer = Embedding(max_words,\n",
    "                            embedding_dim,\n",
    "                            weights=[embedding_matrix],\n",
    "                            input_length=max_words,\n",
    "                            trainable=False)"
   ]
  },
  {
   "cell_type": "code",
   "execution_count": 50,
   "metadata": {},
   "outputs": [
    {
     "data": {
      "text/plain": [
       "88582"
      ]
     },
     "execution_count": 50,
     "metadata": {},
     "output_type": "execute_result"
    }
   ],
   "source": [
    "len(word_index)"
   ]
  },
  {
   "cell_type": "code",
   "execution_count": 52,
   "metadata": {},
   "outputs": [
    {
     "data": {
      "text/plain": [
       "[]"
      ]
     },
     "execution_count": 52,
     "metadata": {},
     "output_type": "execute_result"
    }
   ],
   "source": [
    "embedding_layer.get_weights()"
   ]
  },
  {
   "cell_type": "code",
   "execution_count": 64,
   "metadata": {},
   "outputs": [
    {
     "name": "stdout",
     "output_type": "stream",
     "text": [
      "Epoch 1/10\n",
      "157/157 [==============================] - 4s 25ms/step - loss: 2.6346 - acc: 0.4872 - val_loss: 1.2442 - val_acc: 0.4992\n",
      "Epoch 2/10\n",
      "157/157 [==============================] - 4s 25ms/step - loss: 0.7517 - acc: 0.6528 - val_loss: 1.2002 - val_acc: 0.5086\n",
      "Epoch 3/10\n",
      "157/157 [==============================] - 4s 25ms/step - loss: 0.5805 - acc: 0.7223 - val_loss: 1.3185 - val_acc: 0.4986\n",
      "Epoch 4/10\n",
      "157/157 [==============================] - 4s 25ms/step - loss: 0.5056 - acc: 0.7572 - val_loss: 1.2357 - val_acc: 0.4890\n",
      "Epoch 5/10\n",
      "157/157 [==============================] - 4s 25ms/step - loss: 0.4497 - acc: 0.7855 - val_loss: 1.2676 - val_acc: 0.4980\n",
      "Epoch 6/10\n",
      "157/157 [==============================] - 4s 25ms/step - loss: 0.4028 - acc: 0.8153 - val_loss: 1.3342 - val_acc: 0.4954\n",
      "Epoch 7/10\n",
      "157/157 [==============================] - 4s 26ms/step - loss: 0.4148 - acc: 0.8052 - val_loss: 1.3554 - val_acc: 0.4974\n",
      "Epoch 8/10\n",
      "157/157 [==============================] - 4s 27ms/step - loss: 0.3268 - acc: 0.8587 - val_loss: 1.4659 - val_acc: 0.4888\n",
      "Epoch 9/10\n",
      "157/157 [==============================] - 4s 27ms/step - loss: 0.3034 - acc: 0.8715 - val_loss: 1.6597 - val_acc: 0.4924\n",
      "Epoch 10/10\n",
      "157/157 [==============================] - 4s 26ms/step - loss: 0.3079 - acc: 0.8672 - val_loss: 1.6401 - val_acc: 0.4926\n"
     ]
    }
   ],
   "source": [
    "from keras.layers import Embedding, Flatten, Dense, Input\n",
    "from keras.models import Sequential\n",
    "import tensorflow as tf\n",
    "\n",
    "inputs = Input(shape=(maxlen,))\n",
    "\n",
    "embedding_layer = Embedding(max_words,\n",
    "                            embedding_dim,\n",
    "                            weights=[embedding_matrix],\n",
    "                            input_length=max_words,\n",
    "                            trainable=False)(inputs)\n",
    "# x = Embedding(input_dim=max_words, output_dim=embedding_dim, trainable=False)(inputs)\n",
    "x = Flatten()(embedding_layer)\n",
    "x = Dense(250, activation='relu')(x)\n",
    "outputs = Dense(10, activation=\"softmax\")(x)\n",
    "model = tf.keras.Model(inputs=inputs, outputs=outputs)\n",
    "\n",
    "model.compile(optimizer='adam',\n",
    "              loss='categorical_crossentropy',\n",
    "               metrics=['acc'])\n",
    "\n",
    "history = model.fit(x_train, y_train,\n",
    "                    epochs=10,\n",
    "                    batch_size=128,\n",
    "                    validation_data=(x_val, y_val))"
   ]
  },
  {
   "cell_type": "code",
   "execution_count": null,
   "metadata": {},
   "outputs": [],
   "source": [
    "\n"
   ]
  }
 ],
 "metadata": {
  "kernelspec": {
   "display_name": "transformer-snn-conversion",
   "language": "python",
   "name": "transformer-snn-conversion"
  },
  "language_info": {
   "codemirror_mode": {
    "name": "ipython",
    "version": 3
   },
   "file_extension": ".py",
   "mimetype": "text/x-python",
   "name": "python",
   "nbconvert_exporter": "python",
   "pygments_lexer": "ipython3",
   "version": "3.8.5"
  },
  "toc": {
   "base_numbering": 1,
   "nav_menu": {},
   "number_sections": true,
   "sideBar": true,
   "skip_h1_title": false,
   "title_cell": "Table of Contents",
   "title_sidebar": "Contents",
   "toc_cell": false,
   "toc_position": {},
   "toc_section_display": true,
   "toc_window_display": false
  }
 },
 "nbformat": 4,
 "nbformat_minor": 1
}
